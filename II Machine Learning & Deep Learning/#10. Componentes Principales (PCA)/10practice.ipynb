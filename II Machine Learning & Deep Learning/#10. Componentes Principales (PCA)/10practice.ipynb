{
 "cells": [
  {
   "cell_type": "markdown",
   "metadata": {},
   "source": [
    "<font size=\"+5\">#10. Principal Component Analysis (PCA)</font>"
   ]
  },
  {
   "cell_type": "markdown",
   "metadata": {},
   "source": [
    "- Book + Private Lessons [Here ↗](https://sotastica.com/reservar)\n",
    "- Subscribe to my [Blog ↗](https://blog.pythonassembly.com/)\n",
    "- Let's keep in touch on [LinkedIn ↗](www.linkedin.com/in/jsulopz) 😄"
   ]
  },
  {
   "cell_type": "markdown",
   "metadata": {},
   "source": [
    "# Load the Data"
   ]
  },
  {
   "cell_type": "markdown",
   "metadata": {},
   "source": [
    "> - Simply execute the following lines of code to load the data\n",
    "> - This dataset contains **statistics** (columns)\n",
    "> - About **Car Models** (rows)"
   ]
  },
  {
   "cell_type": "markdown",
   "metadata": {},
   "source": [
    "https://blog.pythonassembly.com/python-tutorial-or-principal-component-analysis-made-simple"
   ]
  },
  {
   "cell_type": "code",
   "execution_count": 2,
   "metadata": {},
   "outputs": [
    {
     "data": {
      "text/html": [
       "<div>\n",
       "<style scoped>\n",
       "    .dataframe tbody tr th:only-of-type {\n",
       "        vertical-align: middle;\n",
       "    }\n",
       "\n",
       "    .dataframe tbody tr th {\n",
       "        vertical-align: top;\n",
       "    }\n",
       "\n",
       "    .dataframe thead th {\n",
       "        text-align: right;\n",
       "    }\n",
       "</style>\n",
       "<table border=\"1\" class=\"dataframe\">\n",
       "  <thead>\n",
       "    <tr style=\"text-align: right;\">\n",
       "      <th></th>\n",
       "      <th>mpg</th>\n",
       "      <th>cylinders</th>\n",
       "      <th>displacement</th>\n",
       "      <th>horsepower</th>\n",
       "      <th>weight</th>\n",
       "      <th>acceleration</th>\n",
       "      <th>model_year</th>\n",
       "      <th>origin</th>\n",
       "    </tr>\n",
       "    <tr>\n",
       "      <th>name</th>\n",
       "      <th></th>\n",
       "      <th></th>\n",
       "      <th></th>\n",
       "      <th></th>\n",
       "      <th></th>\n",
       "      <th></th>\n",
       "      <th></th>\n",
       "      <th></th>\n",
       "    </tr>\n",
       "  </thead>\n",
       "  <tbody>\n",
       "    <tr>\n",
       "      <th>capri ii</th>\n",
       "      <td>25.0</td>\n",
       "      <td>4</td>\n",
       "      <td>140.0</td>\n",
       "      <td>92.0</td>\n",
       "      <td>2572</td>\n",
       "      <td>14.9</td>\n",
       "      <td>76</td>\n",
       "      <td>usa</td>\n",
       "    </tr>\n",
       "    <tr>\n",
       "      <th>chevrolet citation</th>\n",
       "      <td>28.8</td>\n",
       "      <td>6</td>\n",
       "      <td>173.0</td>\n",
       "      <td>115.0</td>\n",
       "      <td>2595</td>\n",
       "      <td>11.3</td>\n",
       "      <td>79</td>\n",
       "      <td>usa</td>\n",
       "    </tr>\n",
       "    <tr>\n",
       "      <th>toyota corolla 1200</th>\n",
       "      <td>32.0</td>\n",
       "      <td>4</td>\n",
       "      <td>71.0</td>\n",
       "      <td>65.0</td>\n",
       "      <td>1836</td>\n",
       "      <td>21.0</td>\n",
       "      <td>74</td>\n",
       "      <td>japan</td>\n",
       "    </tr>\n",
       "    <tr>\n",
       "      <th>toyota corona hardtop</th>\n",
       "      <td>24.0</td>\n",
       "      <td>4</td>\n",
       "      <td>113.0</td>\n",
       "      <td>95.0</td>\n",
       "      <td>2278</td>\n",
       "      <td>15.5</td>\n",
       "      <td>72</td>\n",
       "      <td>japan</td>\n",
       "    </tr>\n",
       "    <tr>\n",
       "      <th>pontiac grand prix lj</th>\n",
       "      <td>16.0</td>\n",
       "      <td>8</td>\n",
       "      <td>400.0</td>\n",
       "      <td>180.0</td>\n",
       "      <td>4220</td>\n",
       "      <td>11.1</td>\n",
       "      <td>77</td>\n",
       "      <td>usa</td>\n",
       "    </tr>\n",
       "    <tr>\n",
       "      <th>ford pinto runabout</th>\n",
       "      <td>21.0</td>\n",
       "      <td>4</td>\n",
       "      <td>122.0</td>\n",
       "      <td>86.0</td>\n",
       "      <td>2226</td>\n",
       "      <td>16.5</td>\n",
       "      <td>72</td>\n",
       "      <td>usa</td>\n",
       "    </tr>\n",
       "    <tr>\n",
       "      <th>toyota celica gt liftback</th>\n",
       "      <td>21.1</td>\n",
       "      <td>4</td>\n",
       "      <td>134.0</td>\n",
       "      <td>95.0</td>\n",
       "      <td>2515</td>\n",
       "      <td>14.8</td>\n",
       "      <td>78</td>\n",
       "      <td>japan</td>\n",
       "    </tr>\n",
       "    <tr>\n",
       "      <th>dodge colt m/m</th>\n",
       "      <td>33.5</td>\n",
       "      <td>4</td>\n",
       "      <td>98.0</td>\n",
       "      <td>83.0</td>\n",
       "      <td>2075</td>\n",
       "      <td>15.9</td>\n",
       "      <td>77</td>\n",
       "      <td>usa</td>\n",
       "    </tr>\n",
       "    <tr>\n",
       "      <th>ford granada ghia</th>\n",
       "      <td>18.0</td>\n",
       "      <td>6</td>\n",
       "      <td>250.0</td>\n",
       "      <td>78.0</td>\n",
       "      <td>3574</td>\n",
       "      <td>21.0</td>\n",
       "      <td>76</td>\n",
       "      <td>usa</td>\n",
       "    </tr>\n",
       "    <tr>\n",
       "      <th>chevrolet vega (sw)</th>\n",
       "      <td>22.0</td>\n",
       "      <td>4</td>\n",
       "      <td>140.0</td>\n",
       "      <td>72.0</td>\n",
       "      <td>2408</td>\n",
       "      <td>19.0</td>\n",
       "      <td>71</td>\n",
       "      <td>usa</td>\n",
       "    </tr>\n",
       "  </tbody>\n",
       "</table>\n",
       "</div>"
      ],
      "text/plain": [
       "                            mpg  cylinders  displacement  horsepower  weight  \\\n",
       "name                                                                           \n",
       "capri ii                   25.0          4         140.0        92.0    2572   \n",
       "chevrolet citation         28.8          6         173.0       115.0    2595   \n",
       "toyota corolla 1200        32.0          4          71.0        65.0    1836   \n",
       "toyota corona hardtop      24.0          4         113.0        95.0    2278   \n",
       "pontiac grand prix lj      16.0          8         400.0       180.0    4220   \n",
       "ford pinto runabout        21.0          4         122.0        86.0    2226   \n",
       "toyota celica gt liftback  21.1          4         134.0        95.0    2515   \n",
       "dodge colt m/m             33.5          4          98.0        83.0    2075   \n",
       "ford granada ghia          18.0          6         250.0        78.0    3574   \n",
       "chevrolet vega (sw)        22.0          4         140.0        72.0    2408   \n",
       "\n",
       "                           acceleration  model_year origin  \n",
       "name                                                        \n",
       "capri ii                           14.9          76    usa  \n",
       "chevrolet citation                 11.3          79    usa  \n",
       "toyota corolla 1200                21.0          74  japan  \n",
       "toyota corona hardtop              15.5          72  japan  \n",
       "pontiac grand prix lj              11.1          77    usa  \n",
       "ford pinto runabout                16.5          72    usa  \n",
       "toyota celica gt liftback          14.8          78  japan  \n",
       "dodge colt m/m                     15.9          77    usa  \n",
       "ford granada ghia                  21.0          76    usa  \n",
       "chevrolet vega (sw)                19.0          71    usa  "
      ]
     },
     "execution_count": 2,
     "metadata": {},
     "output_type": "execute_result"
    }
   ],
   "source": [
    "import seaborn as sns\n",
    "\n",
    "df = sns.load_dataset(name='mpg', index_col='name')\n",
    "df.sample(10)"
   ]
  },
  {
   "cell_type": "markdown",
   "metadata": {},
   "source": [
    "# Data Preprocessing"
   ]
  },
  {
   "cell_type": "markdown",
   "metadata": {},
   "source": [
    "- All variables need to be **comparables**.\n",
    "- It is not the same to increase 1kg of weight, than 1m of height.\n",
    "- We will use `StandardScaler()`."
   ]
  },
  {
   "cell_type": "code",
   "execution_count": 3,
   "metadata": {},
   "outputs": [
    {
     "data": {
      "text/plain": [
       "mpg             0\n",
       "cylinders       0\n",
       "displacement    0\n",
       "horsepower      6\n",
       "weight          0\n",
       "acceleration    0\n",
       "model_year      0\n",
       "origin          0\n",
       "dtype: int64"
      ]
     },
     "execution_count": 3,
     "metadata": {},
     "output_type": "execute_result"
    }
   ],
   "source": [
    "df.isna().sum()"
   ]
  },
  {
   "cell_type": "code",
   "execution_count": 4,
   "metadata": {},
   "outputs": [],
   "source": [
    "df.dropna(inplace=True)"
   ]
  },
  {
   "cell_type": "code",
   "execution_count": 5,
   "metadata": {},
   "outputs": [],
   "source": [
    "df.drop(columns='origin', inplace=True)"
   ]
  },
  {
   "cell_type": "code",
   "execution_count": 6,
   "metadata": {},
   "outputs": [
    {
     "data": {
      "text/html": [
       "<div>\n",
       "<style scoped>\n",
       "    .dataframe tbody tr th:only-of-type {\n",
       "        vertical-align: middle;\n",
       "    }\n",
       "\n",
       "    .dataframe tbody tr th {\n",
       "        vertical-align: top;\n",
       "    }\n",
       "\n",
       "    .dataframe thead th {\n",
       "        text-align: right;\n",
       "    }\n",
       "</style>\n",
       "<table border=\"1\" class=\"dataframe\">\n",
       "  <thead>\n",
       "    <tr style=\"text-align: right;\">\n",
       "      <th></th>\n",
       "      <th>mpg</th>\n",
       "      <th>cylinders</th>\n",
       "      <th>displacement</th>\n",
       "      <th>horsepower</th>\n",
       "      <th>weight</th>\n",
       "      <th>acceleration</th>\n",
       "      <th>model_year</th>\n",
       "    </tr>\n",
       "    <tr>\n",
       "      <th>name</th>\n",
       "      <th></th>\n",
       "      <th></th>\n",
       "      <th></th>\n",
       "      <th></th>\n",
       "      <th></th>\n",
       "      <th></th>\n",
       "      <th></th>\n",
       "    </tr>\n",
       "  </thead>\n",
       "  <tbody>\n",
       "    <tr>\n",
       "      <th>chevrolet chevelle malibu</th>\n",
       "      <td>18.0</td>\n",
       "      <td>8</td>\n",
       "      <td>307.0</td>\n",
       "      <td>130.0</td>\n",
       "      <td>3504</td>\n",
       "      <td>12.0</td>\n",
       "      <td>70</td>\n",
       "    </tr>\n",
       "    <tr>\n",
       "      <th>buick skylark 320</th>\n",
       "      <td>15.0</td>\n",
       "      <td>8</td>\n",
       "      <td>350.0</td>\n",
       "      <td>165.0</td>\n",
       "      <td>3693</td>\n",
       "      <td>11.5</td>\n",
       "      <td>70</td>\n",
       "    </tr>\n",
       "    <tr>\n",
       "      <th>plymouth satellite</th>\n",
       "      <td>18.0</td>\n",
       "      <td>8</td>\n",
       "      <td>318.0</td>\n",
       "      <td>150.0</td>\n",
       "      <td>3436</td>\n",
       "      <td>11.0</td>\n",
       "      <td>70</td>\n",
       "    </tr>\n",
       "    <tr>\n",
       "      <th>amc rebel sst</th>\n",
       "      <td>16.0</td>\n",
       "      <td>8</td>\n",
       "      <td>304.0</td>\n",
       "      <td>150.0</td>\n",
       "      <td>3433</td>\n",
       "      <td>12.0</td>\n",
       "      <td>70</td>\n",
       "    </tr>\n",
       "    <tr>\n",
       "      <th>ford torino</th>\n",
       "      <td>17.0</td>\n",
       "      <td>8</td>\n",
       "      <td>302.0</td>\n",
       "      <td>140.0</td>\n",
       "      <td>3449</td>\n",
       "      <td>10.5</td>\n",
       "      <td>70</td>\n",
       "    </tr>\n",
       "    <tr>\n",
       "      <th>...</th>\n",
       "      <td>...</td>\n",
       "      <td>...</td>\n",
       "      <td>...</td>\n",
       "      <td>...</td>\n",
       "      <td>...</td>\n",
       "      <td>...</td>\n",
       "      <td>...</td>\n",
       "    </tr>\n",
       "    <tr>\n",
       "      <th>ford mustang gl</th>\n",
       "      <td>27.0</td>\n",
       "      <td>4</td>\n",
       "      <td>140.0</td>\n",
       "      <td>86.0</td>\n",
       "      <td>2790</td>\n",
       "      <td>15.6</td>\n",
       "      <td>82</td>\n",
       "    </tr>\n",
       "    <tr>\n",
       "      <th>vw pickup</th>\n",
       "      <td>44.0</td>\n",
       "      <td>4</td>\n",
       "      <td>97.0</td>\n",
       "      <td>52.0</td>\n",
       "      <td>2130</td>\n",
       "      <td>24.6</td>\n",
       "      <td>82</td>\n",
       "    </tr>\n",
       "    <tr>\n",
       "      <th>dodge rampage</th>\n",
       "      <td>32.0</td>\n",
       "      <td>4</td>\n",
       "      <td>135.0</td>\n",
       "      <td>84.0</td>\n",
       "      <td>2295</td>\n",
       "      <td>11.6</td>\n",
       "      <td>82</td>\n",
       "    </tr>\n",
       "    <tr>\n",
       "      <th>ford ranger</th>\n",
       "      <td>28.0</td>\n",
       "      <td>4</td>\n",
       "      <td>120.0</td>\n",
       "      <td>79.0</td>\n",
       "      <td>2625</td>\n",
       "      <td>18.6</td>\n",
       "      <td>82</td>\n",
       "    </tr>\n",
       "    <tr>\n",
       "      <th>chevy s-10</th>\n",
       "      <td>31.0</td>\n",
       "      <td>4</td>\n",
       "      <td>119.0</td>\n",
       "      <td>82.0</td>\n",
       "      <td>2720</td>\n",
       "      <td>19.4</td>\n",
       "      <td>82</td>\n",
       "    </tr>\n",
       "  </tbody>\n",
       "</table>\n",
       "<p>392 rows × 7 columns</p>\n",
       "</div>"
      ],
      "text/plain": [
       "                            mpg  cylinders  displacement  horsepower  weight  \\\n",
       "name                                                                           \n",
       "chevrolet chevelle malibu  18.0          8         307.0       130.0    3504   \n",
       "buick skylark 320          15.0          8         350.0       165.0    3693   \n",
       "plymouth satellite         18.0          8         318.0       150.0    3436   \n",
       "amc rebel sst              16.0          8         304.0       150.0    3433   \n",
       "ford torino                17.0          8         302.0       140.0    3449   \n",
       "...                         ...        ...           ...         ...     ...   \n",
       "ford mustang gl            27.0          4         140.0        86.0    2790   \n",
       "vw pickup                  44.0          4          97.0        52.0    2130   \n",
       "dodge rampage              32.0          4         135.0        84.0    2295   \n",
       "ford ranger                28.0          4         120.0        79.0    2625   \n",
       "chevy s-10                 31.0          4         119.0        82.0    2720   \n",
       "\n",
       "                           acceleration  model_year  \n",
       "name                                                 \n",
       "chevrolet chevelle malibu          12.0          70  \n",
       "buick skylark 320                  11.5          70  \n",
       "plymouth satellite                 11.0          70  \n",
       "amc rebel sst                      12.0          70  \n",
       "ford torino                        10.5          70  \n",
       "...                                 ...         ...  \n",
       "ford mustang gl                    15.6          82  \n",
       "vw pickup                          24.6          82  \n",
       "dodge rampage                      11.6          82  \n",
       "ford ranger                        18.6          82  \n",
       "chevy s-10                         19.4          82  \n",
       "\n",
       "[392 rows x 7 columns]"
      ]
     },
     "execution_count": 6,
     "metadata": {},
     "output_type": "execute_result"
    }
   ],
   "source": [
    "df"
   ]
  },
  {
   "cell_type": "code",
   "execution_count": 7,
   "metadata": {},
   "outputs": [],
   "source": [
    "import pandas as pd\n",
    "from sklearn.preprocessing import StandardScaler"
   ]
  },
  {
   "cell_type": "code",
   "execution_count": 8,
   "metadata": {},
   "outputs": [],
   "source": [
    "scaler = StandardScaler()"
   ]
  },
  {
   "cell_type": "code",
   "execution_count": 9,
   "metadata": {},
   "outputs": [],
   "source": [
    "dfnorm = pd.DataFrame(data=scaler.fit_transform(df), columns=df.columns, index=df.index)"
   ]
  },
  {
   "cell_type": "code",
   "execution_count": 10,
   "metadata": {},
   "outputs": [
    {
     "data": {
      "text/html": [
       "<div>\n",
       "<style scoped>\n",
       "    .dataframe tbody tr th:only-of-type {\n",
       "        vertical-align: middle;\n",
       "    }\n",
       "\n",
       "    .dataframe tbody tr th {\n",
       "        vertical-align: top;\n",
       "    }\n",
       "\n",
       "    .dataframe thead th {\n",
       "        text-align: right;\n",
       "    }\n",
       "</style>\n",
       "<table border=\"1\" class=\"dataframe\">\n",
       "  <thead>\n",
       "    <tr style=\"text-align: right;\">\n",
       "      <th></th>\n",
       "      <th>mpg</th>\n",
       "      <th>cylinders</th>\n",
       "      <th>displacement</th>\n",
       "      <th>horsepower</th>\n",
       "      <th>weight</th>\n",
       "      <th>acceleration</th>\n",
       "      <th>model_year</th>\n",
       "    </tr>\n",
       "    <tr>\n",
       "      <th>name</th>\n",
       "      <th></th>\n",
       "      <th></th>\n",
       "      <th></th>\n",
       "      <th></th>\n",
       "      <th></th>\n",
       "      <th></th>\n",
       "      <th></th>\n",
       "    </tr>\n",
       "  </thead>\n",
       "  <tbody>\n",
       "    <tr>\n",
       "      <th>chevrolet chevelle malibu</th>\n",
       "      <td>-0.698638</td>\n",
       "      <td>1.483947</td>\n",
       "      <td>1.077290</td>\n",
       "      <td>0.664133</td>\n",
       "      <td>0.620540</td>\n",
       "      <td>-1.285258</td>\n",
       "      <td>-1.625315</td>\n",
       "    </tr>\n",
       "    <tr>\n",
       "      <th>buick skylark 320</th>\n",
       "      <td>-1.083498</td>\n",
       "      <td>1.483947</td>\n",
       "      <td>1.488732</td>\n",
       "      <td>1.574594</td>\n",
       "      <td>0.843334</td>\n",
       "      <td>-1.466724</td>\n",
       "      <td>-1.625315</td>\n",
       "    </tr>\n",
       "    <tr>\n",
       "      <th>plymouth satellite</th>\n",
       "      <td>-0.698638</td>\n",
       "      <td>1.483947</td>\n",
       "      <td>1.182542</td>\n",
       "      <td>1.184397</td>\n",
       "      <td>0.540382</td>\n",
       "      <td>-1.648189</td>\n",
       "      <td>-1.625315</td>\n",
       "    </tr>\n",
       "    <tr>\n",
       "      <th>amc rebel sst</th>\n",
       "      <td>-0.955212</td>\n",
       "      <td>1.483947</td>\n",
       "      <td>1.048584</td>\n",
       "      <td>1.184397</td>\n",
       "      <td>0.536845</td>\n",
       "      <td>-1.285258</td>\n",
       "      <td>-1.625315</td>\n",
       "    </tr>\n",
       "    <tr>\n",
       "      <th>ford torino</th>\n",
       "      <td>-0.826925</td>\n",
       "      <td>1.483947</td>\n",
       "      <td>1.029447</td>\n",
       "      <td>0.924265</td>\n",
       "      <td>0.555706</td>\n",
       "      <td>-1.829655</td>\n",
       "      <td>-1.625315</td>\n",
       "    </tr>\n",
       "    <tr>\n",
       "      <th>...</th>\n",
       "      <td>...</td>\n",
       "      <td>...</td>\n",
       "      <td>...</td>\n",
       "      <td>...</td>\n",
       "      <td>...</td>\n",
       "      <td>...</td>\n",
       "      <td>...</td>\n",
       "    </tr>\n",
       "    <tr>\n",
       "      <th>ford mustang gl</th>\n",
       "      <td>0.455941</td>\n",
       "      <td>-0.864014</td>\n",
       "      <td>-0.520637</td>\n",
       "      <td>-0.480448</td>\n",
       "      <td>-0.221125</td>\n",
       "      <td>0.021294</td>\n",
       "      <td>1.636410</td>\n",
       "    </tr>\n",
       "    <tr>\n",
       "      <th>vw pickup</th>\n",
       "      <td>2.636813</td>\n",
       "      <td>-0.864014</td>\n",
       "      <td>-0.932079</td>\n",
       "      <td>-1.364896</td>\n",
       "      <td>-0.999134</td>\n",
       "      <td>3.287676</td>\n",
       "      <td>1.636410</td>\n",
       "    </tr>\n",
       "    <tr>\n",
       "      <th>dodge rampage</th>\n",
       "      <td>1.097374</td>\n",
       "      <td>-0.864014</td>\n",
       "      <td>-0.568479</td>\n",
       "      <td>-0.532474</td>\n",
       "      <td>-0.804632</td>\n",
       "      <td>-1.430430</td>\n",
       "      <td>1.636410</td>\n",
       "    </tr>\n",
       "    <tr>\n",
       "      <th>ford ranger</th>\n",
       "      <td>0.584228</td>\n",
       "      <td>-0.864014</td>\n",
       "      <td>-0.712005</td>\n",
       "      <td>-0.662540</td>\n",
       "      <td>-0.415627</td>\n",
       "      <td>1.110088</td>\n",
       "      <td>1.636410</td>\n",
       "    </tr>\n",
       "    <tr>\n",
       "      <th>chevy s-10</th>\n",
       "      <td>0.969088</td>\n",
       "      <td>-0.864014</td>\n",
       "      <td>-0.721574</td>\n",
       "      <td>-0.584501</td>\n",
       "      <td>-0.303641</td>\n",
       "      <td>1.400433</td>\n",
       "      <td>1.636410</td>\n",
       "    </tr>\n",
       "  </tbody>\n",
       "</table>\n",
       "<p>392 rows × 7 columns</p>\n",
       "</div>"
      ],
      "text/plain": [
       "                                mpg  cylinders  displacement  horsepower  \\\n",
       "name                                                                       \n",
       "chevrolet chevelle malibu -0.698638   1.483947      1.077290    0.664133   \n",
       "buick skylark 320         -1.083498   1.483947      1.488732    1.574594   \n",
       "plymouth satellite        -0.698638   1.483947      1.182542    1.184397   \n",
       "amc rebel sst             -0.955212   1.483947      1.048584    1.184397   \n",
       "ford torino               -0.826925   1.483947      1.029447    0.924265   \n",
       "...                             ...        ...           ...         ...   \n",
       "ford mustang gl            0.455941  -0.864014     -0.520637   -0.480448   \n",
       "vw pickup                  2.636813  -0.864014     -0.932079   -1.364896   \n",
       "dodge rampage              1.097374  -0.864014     -0.568479   -0.532474   \n",
       "ford ranger                0.584228  -0.864014     -0.712005   -0.662540   \n",
       "chevy s-10                 0.969088  -0.864014     -0.721574   -0.584501   \n",
       "\n",
       "                             weight  acceleration  model_year  \n",
       "name                                                           \n",
       "chevrolet chevelle malibu  0.620540     -1.285258   -1.625315  \n",
       "buick skylark 320          0.843334     -1.466724   -1.625315  \n",
       "plymouth satellite         0.540382     -1.648189   -1.625315  \n",
       "amc rebel sst              0.536845     -1.285258   -1.625315  \n",
       "ford torino                0.555706     -1.829655   -1.625315  \n",
       "...                             ...           ...         ...  \n",
       "ford mustang gl           -0.221125      0.021294    1.636410  \n",
       "vw pickup                 -0.999134      3.287676    1.636410  \n",
       "dodge rampage             -0.804632     -1.430430    1.636410  \n",
       "ford ranger               -0.415627      1.110088    1.636410  \n",
       "chevy s-10                -0.303641      1.400433    1.636410  \n",
       "\n",
       "[392 rows x 7 columns]"
      ]
     },
     "execution_count": 10,
     "metadata": {},
     "output_type": "execute_result"
    }
   ],
   "source": [
    "dfnorm"
   ]
  },
  {
   "cell_type": "markdown",
   "metadata": {},
   "source": [
    "# `KMeans()` Model in Python"
   ]
  },
  {
   "cell_type": "markdown",
   "metadata": {},
   "source": [
    "## Code Thinking\n",
    "\n",
    "> Which function computes the Model?\n",
    "> - `fit()`\n",
    ">\n",
    "> How could can you **import the function in Python**?"
   ]
  },
  {
   "cell_type": "code",
   "execution_count": 11,
   "metadata": {},
   "outputs": [],
   "source": [
    "from sklearn.cluster import KMeans"
   ]
  },
  {
   "cell_type": "code",
   "execution_count": 12,
   "metadata": {},
   "outputs": [],
   "source": [
    "model = KMeans(n_clusters=3)"
   ]
  },
  {
   "cell_type": "markdown",
   "metadata": {},
   "source": [
    "## Get the `cluster` for all USA States"
   ]
  },
  {
   "cell_type": "markdown",
   "metadata": {},
   "source": [
    "> - `model.` + `↹`"
   ]
  },
  {
   "cell_type": "code",
   "execution_count": 13,
   "metadata": {},
   "outputs": [
    {
     "data": {
      "text/plain": [
       "KMeans(n_clusters=3)"
      ]
     },
     "execution_count": 13,
     "metadata": {},
     "output_type": "execute_result"
    }
   ],
   "source": [
    "model.fit(dfnorm)"
   ]
  },
  {
   "cell_type": "markdown",
   "metadata": {},
   "source": [
    "> - Create a `dfsel` DataFrame\n",
    "> - That contains the **columns you used for the model**"
   ]
  },
  {
   "cell_type": "code",
   "execution_count": 14,
   "metadata": {},
   "outputs": [
    {
     "data": {
      "text/html": [
       "<div>\n",
       "<style scoped>\n",
       "    .dataframe tbody tr th:only-of-type {\n",
       "        vertical-align: middle;\n",
       "    }\n",
       "\n",
       "    .dataframe tbody tr th {\n",
       "        vertical-align: top;\n",
       "    }\n",
       "\n",
       "    .dataframe thead th {\n",
       "        text-align: right;\n",
       "    }\n",
       "</style>\n",
       "<table border=\"1\" class=\"dataframe\">\n",
       "  <thead>\n",
       "    <tr style=\"text-align: right;\">\n",
       "      <th></th>\n",
       "      <th>mpg</th>\n",
       "      <th>cylinders</th>\n",
       "      <th>displacement</th>\n",
       "      <th>horsepower</th>\n",
       "      <th>weight</th>\n",
       "      <th>acceleration</th>\n",
       "      <th>model_year</th>\n",
       "    </tr>\n",
       "    <tr>\n",
       "      <th>name</th>\n",
       "      <th></th>\n",
       "      <th></th>\n",
       "      <th></th>\n",
       "      <th></th>\n",
       "      <th></th>\n",
       "      <th></th>\n",
       "      <th></th>\n",
       "    </tr>\n",
       "  </thead>\n",
       "  <tbody>\n",
       "    <tr>\n",
       "      <th>chevrolet chevelle malibu</th>\n",
       "      <td>18.0</td>\n",
       "      <td>8</td>\n",
       "      <td>307.0</td>\n",
       "      <td>130.0</td>\n",
       "      <td>3504</td>\n",
       "      <td>12.0</td>\n",
       "      <td>70</td>\n",
       "    </tr>\n",
       "    <tr>\n",
       "      <th>buick skylark 320</th>\n",
       "      <td>15.0</td>\n",
       "      <td>8</td>\n",
       "      <td>350.0</td>\n",
       "      <td>165.0</td>\n",
       "      <td>3693</td>\n",
       "      <td>11.5</td>\n",
       "      <td>70</td>\n",
       "    </tr>\n",
       "    <tr>\n",
       "      <th>plymouth satellite</th>\n",
       "      <td>18.0</td>\n",
       "      <td>8</td>\n",
       "      <td>318.0</td>\n",
       "      <td>150.0</td>\n",
       "      <td>3436</td>\n",
       "      <td>11.0</td>\n",
       "      <td>70</td>\n",
       "    </tr>\n",
       "    <tr>\n",
       "      <th>amc rebel sst</th>\n",
       "      <td>16.0</td>\n",
       "      <td>8</td>\n",
       "      <td>304.0</td>\n",
       "      <td>150.0</td>\n",
       "      <td>3433</td>\n",
       "      <td>12.0</td>\n",
       "      <td>70</td>\n",
       "    </tr>\n",
       "    <tr>\n",
       "      <th>ford torino</th>\n",
       "      <td>17.0</td>\n",
       "      <td>8</td>\n",
       "      <td>302.0</td>\n",
       "      <td>140.0</td>\n",
       "      <td>3449</td>\n",
       "      <td>10.5</td>\n",
       "      <td>70</td>\n",
       "    </tr>\n",
       "    <tr>\n",
       "      <th>...</th>\n",
       "      <td>...</td>\n",
       "      <td>...</td>\n",
       "      <td>...</td>\n",
       "      <td>...</td>\n",
       "      <td>...</td>\n",
       "      <td>...</td>\n",
       "      <td>...</td>\n",
       "    </tr>\n",
       "    <tr>\n",
       "      <th>ford mustang gl</th>\n",
       "      <td>27.0</td>\n",
       "      <td>4</td>\n",
       "      <td>140.0</td>\n",
       "      <td>86.0</td>\n",
       "      <td>2790</td>\n",
       "      <td>15.6</td>\n",
       "      <td>82</td>\n",
       "    </tr>\n",
       "    <tr>\n",
       "      <th>vw pickup</th>\n",
       "      <td>44.0</td>\n",
       "      <td>4</td>\n",
       "      <td>97.0</td>\n",
       "      <td>52.0</td>\n",
       "      <td>2130</td>\n",
       "      <td>24.6</td>\n",
       "      <td>82</td>\n",
       "    </tr>\n",
       "    <tr>\n",
       "      <th>dodge rampage</th>\n",
       "      <td>32.0</td>\n",
       "      <td>4</td>\n",
       "      <td>135.0</td>\n",
       "      <td>84.0</td>\n",
       "      <td>2295</td>\n",
       "      <td>11.6</td>\n",
       "      <td>82</td>\n",
       "    </tr>\n",
       "    <tr>\n",
       "      <th>ford ranger</th>\n",
       "      <td>28.0</td>\n",
       "      <td>4</td>\n",
       "      <td>120.0</td>\n",
       "      <td>79.0</td>\n",
       "      <td>2625</td>\n",
       "      <td>18.6</td>\n",
       "      <td>82</td>\n",
       "    </tr>\n",
       "    <tr>\n",
       "      <th>chevy s-10</th>\n",
       "      <td>31.0</td>\n",
       "      <td>4</td>\n",
       "      <td>119.0</td>\n",
       "      <td>82.0</td>\n",
       "      <td>2720</td>\n",
       "      <td>19.4</td>\n",
       "      <td>82</td>\n",
       "    </tr>\n",
       "  </tbody>\n",
       "</table>\n",
       "<p>392 rows × 7 columns</p>\n",
       "</div>"
      ],
      "text/plain": [
       "                            mpg  cylinders  displacement  horsepower  weight  \\\n",
       "name                                                                           \n",
       "chevrolet chevelle malibu  18.0          8         307.0       130.0    3504   \n",
       "buick skylark 320          15.0          8         350.0       165.0    3693   \n",
       "plymouth satellite         18.0          8         318.0       150.0    3436   \n",
       "amc rebel sst              16.0          8         304.0       150.0    3433   \n",
       "ford torino                17.0          8         302.0       140.0    3449   \n",
       "...                         ...        ...           ...         ...     ...   \n",
       "ford mustang gl            27.0          4         140.0        86.0    2790   \n",
       "vw pickup                  44.0          4          97.0        52.0    2130   \n",
       "dodge rampage              32.0          4         135.0        84.0    2295   \n",
       "ford ranger                28.0          4         120.0        79.0    2625   \n",
       "chevy s-10                 31.0          4         119.0        82.0    2720   \n",
       "\n",
       "                           acceleration  model_year  \n",
       "name                                                 \n",
       "chevrolet chevelle malibu          12.0          70  \n",
       "buick skylark 320                  11.5          70  \n",
       "plymouth satellite                 11.0          70  \n",
       "amc rebel sst                      12.0          70  \n",
       "ford torino                        10.5          70  \n",
       "...                                 ...         ...  \n",
       "ford mustang gl                    15.6          82  \n",
       "vw pickup                          24.6          82  \n",
       "dodge rampage                      11.6          82  \n",
       "ford ranger                        18.6          82  \n",
       "chevy s-10                         19.4          82  \n",
       "\n",
       "[392 rows x 7 columns]"
      ]
     },
     "execution_count": 14,
     "metadata": {},
     "output_type": "execute_result"
    }
   ],
   "source": [
    "dfsel = df.copy()\n",
    "dfsel"
   ]
  },
  {
   "cell_type": "markdown",
   "metadata": {},
   "source": [
    "> - Add a **new column**\n",
    "> - That **contains the `cluster` prediction** for every USA State"
   ]
  },
  {
   "cell_type": "code",
   "execution_count": 15,
   "metadata": {},
   "outputs": [],
   "source": [
    "pred = model.predict(dfnorm)"
   ]
  },
  {
   "cell_type": "code",
   "execution_count": 16,
   "metadata": {},
   "outputs": [
    {
     "data": {
      "text/html": [
       "<div>\n",
       "<style scoped>\n",
       "    .dataframe tbody tr th:only-of-type {\n",
       "        vertical-align: middle;\n",
       "    }\n",
       "\n",
       "    .dataframe tbody tr th {\n",
       "        vertical-align: top;\n",
       "    }\n",
       "\n",
       "    .dataframe thead th {\n",
       "        text-align: right;\n",
       "    }\n",
       "</style>\n",
       "<table border=\"1\" class=\"dataframe\">\n",
       "  <thead>\n",
       "    <tr style=\"text-align: right;\">\n",
       "      <th></th>\n",
       "      <th>mpg</th>\n",
       "      <th>cylinders</th>\n",
       "      <th>displacement</th>\n",
       "      <th>horsepower</th>\n",
       "      <th>weight</th>\n",
       "      <th>acceleration</th>\n",
       "      <th>model_year</th>\n",
       "      <th>cluster</th>\n",
       "    </tr>\n",
       "    <tr>\n",
       "      <th>name</th>\n",
       "      <th></th>\n",
       "      <th></th>\n",
       "      <th></th>\n",
       "      <th></th>\n",
       "      <th></th>\n",
       "      <th></th>\n",
       "      <th></th>\n",
       "      <th></th>\n",
       "    </tr>\n",
       "  </thead>\n",
       "  <tbody>\n",
       "    <tr>\n",
       "      <th>chevrolet chevelle malibu</th>\n",
       "      <td>18.0</td>\n",
       "      <td>8</td>\n",
       "      <td>307.0</td>\n",
       "      <td>130.0</td>\n",
       "      <td>3504</td>\n",
       "      <td>12.0</td>\n",
       "      <td>70</td>\n",
       "      <td>0</td>\n",
       "    </tr>\n",
       "    <tr>\n",
       "      <th>buick skylark 320</th>\n",
       "      <td>15.0</td>\n",
       "      <td>8</td>\n",
       "      <td>350.0</td>\n",
       "      <td>165.0</td>\n",
       "      <td>3693</td>\n",
       "      <td>11.5</td>\n",
       "      <td>70</td>\n",
       "      <td>0</td>\n",
       "    </tr>\n",
       "    <tr>\n",
       "      <th>plymouth satellite</th>\n",
       "      <td>18.0</td>\n",
       "      <td>8</td>\n",
       "      <td>318.0</td>\n",
       "      <td>150.0</td>\n",
       "      <td>3436</td>\n",
       "      <td>11.0</td>\n",
       "      <td>70</td>\n",
       "      <td>0</td>\n",
       "    </tr>\n",
       "    <tr>\n",
       "      <th>amc rebel sst</th>\n",
       "      <td>16.0</td>\n",
       "      <td>8</td>\n",
       "      <td>304.0</td>\n",
       "      <td>150.0</td>\n",
       "      <td>3433</td>\n",
       "      <td>12.0</td>\n",
       "      <td>70</td>\n",
       "      <td>0</td>\n",
       "    </tr>\n",
       "    <tr>\n",
       "      <th>ford torino</th>\n",
       "      <td>17.0</td>\n",
       "      <td>8</td>\n",
       "      <td>302.0</td>\n",
       "      <td>140.0</td>\n",
       "      <td>3449</td>\n",
       "      <td>10.5</td>\n",
       "      <td>70</td>\n",
       "      <td>0</td>\n",
       "    </tr>\n",
       "    <tr>\n",
       "      <th>...</th>\n",
       "      <td>...</td>\n",
       "      <td>...</td>\n",
       "      <td>...</td>\n",
       "      <td>...</td>\n",
       "      <td>...</td>\n",
       "      <td>...</td>\n",
       "      <td>...</td>\n",
       "      <td>...</td>\n",
       "    </tr>\n",
       "    <tr>\n",
       "      <th>ford mustang gl</th>\n",
       "      <td>27.0</td>\n",
       "      <td>4</td>\n",
       "      <td>140.0</td>\n",
       "      <td>86.0</td>\n",
       "      <td>2790</td>\n",
       "      <td>15.6</td>\n",
       "      <td>82</td>\n",
       "      <td>1</td>\n",
       "    </tr>\n",
       "    <tr>\n",
       "      <th>vw pickup</th>\n",
       "      <td>44.0</td>\n",
       "      <td>4</td>\n",
       "      <td>97.0</td>\n",
       "      <td>52.0</td>\n",
       "      <td>2130</td>\n",
       "      <td>24.6</td>\n",
       "      <td>82</td>\n",
       "      <td>1</td>\n",
       "    </tr>\n",
       "    <tr>\n",
       "      <th>dodge rampage</th>\n",
       "      <td>32.0</td>\n",
       "      <td>4</td>\n",
       "      <td>135.0</td>\n",
       "      <td>84.0</td>\n",
       "      <td>2295</td>\n",
       "      <td>11.6</td>\n",
       "      <td>82</td>\n",
       "      <td>1</td>\n",
       "    </tr>\n",
       "    <tr>\n",
       "      <th>ford ranger</th>\n",
       "      <td>28.0</td>\n",
       "      <td>4</td>\n",
       "      <td>120.0</td>\n",
       "      <td>79.0</td>\n",
       "      <td>2625</td>\n",
       "      <td>18.6</td>\n",
       "      <td>82</td>\n",
       "      <td>1</td>\n",
       "    </tr>\n",
       "    <tr>\n",
       "      <th>chevy s-10</th>\n",
       "      <td>31.0</td>\n",
       "      <td>4</td>\n",
       "      <td>119.0</td>\n",
       "      <td>82.0</td>\n",
       "      <td>2720</td>\n",
       "      <td>19.4</td>\n",
       "      <td>82</td>\n",
       "      <td>1</td>\n",
       "    </tr>\n",
       "  </tbody>\n",
       "</table>\n",
       "<p>392 rows × 8 columns</p>\n",
       "</div>"
      ],
      "text/plain": [
       "                            mpg  cylinders  displacement  horsepower  weight  \\\n",
       "name                                                                           \n",
       "chevrolet chevelle malibu  18.0          8         307.0       130.0    3504   \n",
       "buick skylark 320          15.0          8         350.0       165.0    3693   \n",
       "plymouth satellite         18.0          8         318.0       150.0    3436   \n",
       "amc rebel sst              16.0          8         304.0       150.0    3433   \n",
       "ford torino                17.0          8         302.0       140.0    3449   \n",
       "...                         ...        ...           ...         ...     ...   \n",
       "ford mustang gl            27.0          4         140.0        86.0    2790   \n",
       "vw pickup                  44.0          4          97.0        52.0    2130   \n",
       "dodge rampage              32.0          4         135.0        84.0    2295   \n",
       "ford ranger                28.0          4         120.0        79.0    2625   \n",
       "chevy s-10                 31.0          4         119.0        82.0    2720   \n",
       "\n",
       "                           acceleration  model_year  cluster  \n",
       "name                                                          \n",
       "chevrolet chevelle malibu          12.0          70        0  \n",
       "buick skylark 320                  11.5          70        0  \n",
       "plymouth satellite                 11.0          70        0  \n",
       "amc rebel sst                      12.0          70        0  \n",
       "ford torino                        10.5          70        0  \n",
       "...                                 ...         ...      ...  \n",
       "ford mustang gl                    15.6          82        1  \n",
       "vw pickup                          24.6          82        1  \n",
       "dodge rampage                      11.6          82        1  \n",
       "ford ranger                        18.6          82        1  \n",
       "chevy s-10                         19.4          82        1  \n",
       "\n",
       "[392 rows x 8 columns]"
      ]
     },
     "execution_count": 16,
     "metadata": {},
     "output_type": "execute_result"
    }
   ],
   "source": [
    "dfsel['cluster'] = pred\n",
    "dfsel"
   ]
  },
  {
   "cell_type": "markdown",
   "metadata": {},
   "source": [
    "## Model Visualization"
   ]
  },
  {
   "cell_type": "markdown",
   "metadata": {},
   "source": [
    "> - You may `hue=` the points with the `cluster` column"
   ]
  },
  {
   "cell_type": "code",
   "execution_count": 17,
   "metadata": {},
   "outputs": [
    {
     "data": {
      "image/png": "[encoded data removed]",
      "text/plain": [
       "<Figure size 432x288 with 1 Axes>"
      ]
     },
     "metadata": {
      "needs_background": "light"
     },
     "output_type": "display_data"
    }
   ],
   "source": [
    "sns.scatterplot(x=\"mpg\", y=\"horsepower\", hue=\"cluster\", data=dfsel);"
   ]
  },
  {
   "cell_type": "markdown",
   "metadata": {},
   "source": [
    "## Model Interpretation"
   ]
  },
  {
   "cell_type": "markdown",
   "metadata": {},
   "source": [
    "> - Does the visualization makes sense?\n",
    "> - The points are mixed between the groups, why?\n",
    "> - We are **just representing 2 variables**\n",
    "> - And the model was **fitted with 7 variables**"
   ]
  },
  {
   "cell_type": "markdown",
   "metadata": {},
   "source": [
    "# Grouping Variables with `PCA()`"
   ]
  },
  {
   "cell_type": "code",
   "execution_count": 18,
   "metadata": {},
   "outputs": [
    {
     "data": {
      "text/html": [
       "\n",
       "<iframe width=\"560\" height=\"315\" src=\"https://www.youtube.com/embed/HMOI_lkzW08\" title=\"YouTube video player\" frameborder=\"0\" allow=\"accelerometer; autoplay; clipboard-write; encrypted-media; gyroscope; picture-in-picture\" allowfullscreen></iframe>\n"
      ],
      "text/plain": [
       "<IPython.core.display.HTML object>"
      ]
     },
     "metadata": {},
     "output_type": "display_data"
    }
   ],
   "source": [
    "%%HTML\n",
    "\n",
    "<iframe width=\"560\" height=\"315\" src=\"https://www.youtube.com/embed/HMOI_lkzW08\" title=\"YouTube video player\" frameborder=\"0\" allow=\"accelerometer; autoplay; clipboard-write; encrypted-media; gyroscope; picture-in-picture\" allowfullscreen></iframe>"
   ]
  },
  {
   "cell_type": "code",
   "execution_count": 19,
   "metadata": {},
   "outputs": [
    {
     "data": {
      "image/png": "[encoded data removed]",
      "text/plain": [
       "<Figure size 432x288 with 2 Axes>"
      ]
     },
     "metadata": {
      "needs_background": "light"
     },
     "output_type": "display_data"
    }
   ],
   "source": [
    "sns.heatmap(dfnorm.corr(), annot=True, vmin=-1);"
   ]
  },
  {
   "cell_type": "markdown",
   "metadata": {},
   "source": [
    "## Transform Data to Components"
   ]
  },
  {
   "cell_type": "markdown",
   "metadata": {},
   "source": [
    "> - `PCA()` is another technique used to transform data.\n",
    "> How has the data been manipulated so far?\n",
    "> 1. Original Data `df`\n",
    "> 2. Normalized Data `dfnorm`\n",
    "> 3. Principal Components Data `dfpca` (now)"
   ]
  },
  {
   "cell_type": "code",
   "execution_count": 20,
   "metadata": {},
   "outputs": [],
   "source": [
    "from sklearn.decomposition import PCA"
   ]
  },
  {
   "cell_type": "code",
   "execution_count": 21,
   "metadata": {},
   "outputs": [],
   "source": [
    "pca = PCA()"
   ]
  },
  {
   "cell_type": "code",
   "execution_count": 22,
   "metadata": {},
   "outputs": [],
   "source": [
    "dfpca = pd.DataFrame(pca.fit_transform(dfnorm), index=df.index)"
   ]
  },
  {
   "cell_type": "code",
   "execution_count": 23,
   "metadata": {},
   "outputs": [],
   "source": [
    "pca_columns = ['PC' + str(i+1) for i in range(pca.n_components_)]\n",
    "dfpca.columns = pca_columns"
   ]
  },
  {
   "cell_type": "code",
   "execution_count": 24,
   "metadata": {},
   "outputs": [
    {
     "data": {
      "text/html": [
       "<div>\n",
       "<style scoped>\n",
       "    .dataframe tbody tr th:only-of-type {\n",
       "        vertical-align: middle;\n",
       "    }\n",
       "\n",
       "    .dataframe tbody tr th {\n",
       "        vertical-align: top;\n",
       "    }\n",
       "\n",
       "    .dataframe thead th {\n",
       "        text-align: right;\n",
       "    }\n",
       "</style>\n",
       "<table border=\"1\" class=\"dataframe\">\n",
       "  <thead>\n",
       "    <tr style=\"text-align: right;\">\n",
       "      <th></th>\n",
       "      <th>PC1</th>\n",
       "      <th>PC2</th>\n",
       "      <th>PC3</th>\n",
       "      <th>PC4</th>\n",
       "      <th>PC5</th>\n",
       "      <th>PC6</th>\n",
       "      <th>PC7</th>\n",
       "    </tr>\n",
       "    <tr>\n",
       "      <th>name</th>\n",
       "      <th></th>\n",
       "      <th></th>\n",
       "      <th></th>\n",
       "      <th></th>\n",
       "      <th></th>\n",
       "      <th></th>\n",
       "      <th></th>\n",
       "    </tr>\n",
       "  </thead>\n",
       "  <tbody>\n",
       "    <tr>\n",
       "      <th>chevrolet chevelle malibu</th>\n",
       "      <td>2.635049</td>\n",
       "      <td>0.929039</td>\n",
       "      <td>-0.534679</td>\n",
       "      <td>0.745590</td>\n",
       "      <td>-0.546008</td>\n",
       "      <td>-0.094974</td>\n",
       "      <td>-0.122078</td>\n",
       "    </tr>\n",
       "    <tr>\n",
       "      <th>buick skylark 320</th>\n",
       "      <td>3.493800</td>\n",
       "      <td>0.805473</td>\n",
       "      <td>-0.649495</td>\n",
       "      <td>0.494829</td>\n",
       "      <td>-0.035636</td>\n",
       "      <td>0.207134</td>\n",
       "      <td>0.097861</td>\n",
       "    </tr>\n",
       "    <tr>\n",
       "      <th>plymouth satellite</th>\n",
       "      <td>2.970415</td>\n",
       "      <td>0.881186</td>\n",
       "      <td>-0.958742</td>\n",
       "      <td>0.719725</td>\n",
       "      <td>-0.286908</td>\n",
       "      <td>0.136587</td>\n",
       "      <td>-0.059750</td>\n",
       "    </tr>\n",
       "    <tr>\n",
       "      <th>amc rebel sst</th>\n",
       "      <td>2.910197</td>\n",
       "      <td>0.961721</td>\n",
       "      <td>-0.582953</td>\n",
       "      <td>0.531489</td>\n",
       "      <td>-0.283952</td>\n",
       "      <td>0.293239</td>\n",
       "      <td>-0.124521</td>\n",
       "    </tr>\n",
       "    <tr>\n",
       "      <th>ford torino</th>\n",
       "      <td>2.903826</td>\n",
       "      <td>0.952789</td>\n",
       "      <td>-1.054836</td>\n",
       "      <td>0.565102</td>\n",
       "      <td>-0.544802</td>\n",
       "      <td>-0.001897</td>\n",
       "      <td>-0.170826</td>\n",
       "    </tr>\n",
       "    <tr>\n",
       "      <th>...</th>\n",
       "      <td>...</td>\n",
       "      <td>...</td>\n",
       "      <td>...</td>\n",
       "      <td>...</td>\n",
       "      <td>...</td>\n",
       "      <td>...</td>\n",
       "      <td>...</td>\n",
       "    </tr>\n",
       "    <tr>\n",
       "      <th>ford mustang gl</th>\n",
       "      <td>-1.440898</td>\n",
       "      <td>-1.226641</td>\n",
       "      <td>-0.311195</td>\n",
       "      <td>-0.673363</td>\n",
       "      <td>0.069950</td>\n",
       "      <td>-0.191146</td>\n",
       "      <td>0.104669</td>\n",
       "    </tr>\n",
       "    <tr>\n",
       "      <th>vw pickup</th>\n",
       "      <td>-4.112474</td>\n",
       "      <td>-1.330384</td>\n",
       "      <td>1.939727</td>\n",
       "      <td>1.358522</td>\n",
       "      <td>0.754758</td>\n",
       "      <td>0.220691</td>\n",
       "      <td>0.084173</td>\n",
       "    </tr>\n",
       "    <tr>\n",
       "      <th>dodge rampage</th>\n",
       "      <td>-1.566816</td>\n",
       "      <td>-1.225221</td>\n",
       "      <td>-1.930098</td>\n",
       "      <td>-0.316704</td>\n",
       "      <td>-0.235479</td>\n",
       "      <td>-0.264503</td>\n",
       "      <td>0.147568</td>\n",
       "    </tr>\n",
       "    <tr>\n",
       "      <th>ford ranger</th>\n",
       "      <td>-2.041842</td>\n",
       "      <td>-1.151837</td>\n",
       "      <td>0.586433</td>\n",
       "      <td>-0.473528</td>\n",
       "      <td>0.194645</td>\n",
       "      <td>0.093235</td>\n",
       "      <td>0.077905</td>\n",
       "    </tr>\n",
       "    <tr>\n",
       "      <th>chevy s-10</th>\n",
       "      <td>-2.202531</td>\n",
       "      <td>-1.259473</td>\n",
       "      <td>0.763527</td>\n",
       "      <td>-0.167541</td>\n",
       "      <td>0.478539</td>\n",
       "      <td>0.041649</td>\n",
       "      <td>0.003827</td>\n",
       "    </tr>\n",
       "  </tbody>\n",
       "</table>\n",
       "<p>392 rows × 7 columns</p>\n",
       "</div>"
      ],
      "text/plain": [
       "                                PC1       PC2       PC3       PC4       PC5  \\\n",
       "name                                                                          \n",
       "chevrolet chevelle malibu  2.635049  0.929039 -0.534679  0.745590 -0.546008   \n",
       "buick skylark 320          3.493800  0.805473 -0.649495  0.494829 -0.035636   \n",
       "plymouth satellite         2.970415  0.881186 -0.958742  0.719725 -0.286908   \n",
       "amc rebel sst              2.910197  0.961721 -0.582953  0.531489 -0.283952   \n",
       "ford torino                2.903826  0.952789 -1.054836  0.565102 -0.544802   \n",
       "...                             ...       ...       ...       ...       ...   \n",
       "ford mustang gl           -1.440898 -1.226641 -0.311195 -0.673363  0.069950   \n",
       "vw pickup                 -4.112474 -1.330384  1.939727  1.358522  0.754758   \n",
       "dodge rampage             -1.566816 -1.225221 -1.930098 -0.316704 -0.235479   \n",
       "ford ranger               -2.041842 -1.151837  0.586433 -0.473528  0.194645   \n",
       "chevy s-10                -2.202531 -1.259473  0.763527 -0.167541  0.478539   \n",
       "\n",
       "                                PC6       PC7  \n",
       "name                                           \n",
       "chevrolet chevelle malibu -0.094974 -0.122078  \n",
       "buick skylark 320          0.207134  0.097861  \n",
       "plymouth satellite         0.136587 -0.059750  \n",
       "amc rebel sst              0.293239 -0.124521  \n",
       "ford torino               -0.001897 -0.170826  \n",
       "...                             ...       ...  \n",
       "ford mustang gl           -0.191146  0.104669  \n",
       "vw pickup                  0.220691  0.084173  \n",
       "dodge rampage             -0.264503  0.147568  \n",
       "ford ranger                0.093235  0.077905  \n",
       "chevy s-10                 0.041649  0.003827  \n",
       "\n",
       "[392 rows x 7 columns]"
      ]
     },
     "execution_count": 24,
     "metadata": {},
     "output_type": "execute_result"
    }
   ],
   "source": [
    "dfpca"
   ]
  },
  {
   "cell_type": "markdown",
   "metadata": {},
   "source": [
    "## Visualize Components & Clusters"
   ]
  },
  {
   "cell_type": "markdown",
   "metadata": {},
   "source": [
    "> - A **scatterplot** with `PC1` & `PC2`\n",
    "> - Colour points by `cluster`\n",
    "> - Are they **mixed** now?"
   ]
  },
  {
   "cell_type": "code",
   "execution_count": 26,
   "metadata": {},
   "outputs": [
    {
     "data": {
      "text/plain": [
       "<AxesSubplot:xlabel='PC1', ylabel='PC2'>"
      ]
     },
     "execution_count": 26,
     "metadata": {},
     "output_type": "execute_result"
    },
    {
     "data": {
      "image/png": "[encoded data removed]",
      "text/plain": [
       "<Figure size 432x288 with 1 Axes>"
      ]
     },
     "metadata": {
      "needs_background": "light"
     },
     "output_type": "display_data"
    }
   ],
   "source": [
    "sns.scatterplot(x=dfpca.PC1, y=dfpca.PC2, hue=dfsel.cluster)"
   ]
  },
  {
   "cell_type": "markdown",
   "metadata": {},
   "source": [
    "## Relationship between Original Variables & Components"
   ]
  },
  {
   "cell_type": "markdown",
   "metadata": {},
   "source": [
    "### Loading Vectors"
   ]
  },
  {
   "cell_type": "code",
   "execution_count": null,
   "metadata": {},
   "outputs": [],
   "source": []
  },
  {
   "cell_type": "markdown",
   "metadata": {},
   "source": [
    "### Calculating One PCA Value"
   ]
  },
  {
   "cell_type": "code",
   "execution_count": null,
   "metadata": {},
   "outputs": [],
   "source": []
  },
  {
   "cell_type": "markdown",
   "metadata": {},
   "source": [
    "### Biplot"
   ]
  },
  {
   "cell_type": "code",
   "execution_count": null,
   "metadata": {},
   "outputs": [],
   "source": []
  },
  {
   "cell_type": "markdown",
   "metadata": {},
   "source": [
    "# Achieved Goals"
   ]
  },
  {
   "cell_type": "markdown",
   "metadata": {},
   "source": [
    "_Double click on **this cell** and place an `X` inside the square brackets (i.e., [X]) if you think you understand the goal:_\n",
    "\n",
    "- [ ] Understand the role of **Linear Algebra** on Machine Learning\n",
    "    - Matrix Multiplications with the `loadings`\n",
    "- [ ] Necessity to `StandardScaler()` the data when the algorithm implies distance calculations\n",
    "- [ ] Understand that every Machine Learning process is a matter of optimization\n",
    "    - To find the best numbers based on a criteria\n",
    "    - How is done in `PCA()`?\n",
    "- [ ] Why would you use PCA?\n",
    "    - Visualization\n",
    "    - Preprocess the data for modelling\n",
    "- [ ] There are techniques for everything\n",
    "    - [ ] Grouping observations\n",
    "    - [ ] Grouping variables"
   ]
  }
 ],
 "metadata": {
  "authors": [
   {
    "name": "Jesús López @sotastica"
   }
  ],
  "kernelspec": {
   "display_name": "Python 3",
   "language": "python",
   "name": "python3"
  },
  "language_info": {
   "codemirror_mode": {
    "name": "ipython",
    "version": 3
   },
   "file_extension": ".py",
   "mimetype": "text/x-python",
   "name": "python",
   "nbconvert_exporter": "python",
   "pygments_lexer": "ipython3",
   "version": "3.8.8"
  }
 },
 "nbformat": 4,
 "nbformat_minor": 4
}
