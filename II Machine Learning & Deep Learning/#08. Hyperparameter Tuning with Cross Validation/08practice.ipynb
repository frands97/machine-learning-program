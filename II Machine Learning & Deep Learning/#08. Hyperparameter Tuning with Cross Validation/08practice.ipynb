{
 "cells": [
  {
   "cell_type": "markdown",
   "metadata": {},
   "source": [
    "<font size=\"+5\">#08. Hyperparameter Tuning with Cross Validation</font>"
   ]
  },
  {
   "cell_type": "markdown",
   "metadata": {},
   "source": [
    "- Book + Private Lessons [Here ↗](https://sotastica.com/reservar)\n",
    "- Subscribe to my [Blog ↗](https://blog.pythonassembly.com/)\n",
    "- Let's keep in touch on [LinkedIn ↗](www.linkedin.com/in/jsulopz) 😄"
   ]
  },
  {
   "cell_type": "markdown",
   "metadata": {},
   "source": [
    "# Load the Data"
   ]
  },
  {
   "cell_type": "markdown",
   "metadata": {},
   "source": [
    "> - We take some dataset from the _[Machine Learning Data Repository UCI](https://archive.ics.uci.edu/ml/datasets/adult)_\n",
    "> - The aim is to predict weather a **person** (rows) `earned>50k` a year or not\n",
    "> - Based on their **social-demographic features** (columns)\n",
    "\n",
    "Esta tabla resume la información de personas que ganan más de 50,000 al año o menos. Por tanto, nuestro objetivo es desarrollar un modelo que calcule mejor si una persona gana por encima o por debajo de dicho umbral. La columna a predecir es la última.\n",
    ">\n",
    "> PD: You may see the column names & meanings [here ↗](https://archive.ics.uci.edu/ml/datasets/adult)."
   ]
  },
  {
   "cell_type": "code",
   "execution_count": 15,
   "metadata": {},
   "outputs": [
    {
     "data": {
      "text/html": [
       "<div>\n",
       "<style scoped>\n",
       "    .dataframe tbody tr th:only-of-type {\n",
       "        vertical-align: middle;\n",
       "    }\n",
       "\n",
       "    .dataframe tbody tr th {\n",
       "        vertical-align: top;\n",
       "    }\n",
       "\n",
       "    .dataframe thead th {\n",
       "        text-align: right;\n",
       "    }\n",
       "</style>\n",
       "<table border=\"1\" class=\"dataframe\">\n",
       "  <thead>\n",
       "    <tr style=\"text-align: right;\">\n",
       "      <th></th>\n",
       "      <th>0</th>\n",
       "      <th>1</th>\n",
       "      <th>2</th>\n",
       "      <th>3</th>\n",
       "      <th>4</th>\n",
       "      <th>5</th>\n",
       "      <th>6</th>\n",
       "      <th>7</th>\n",
       "      <th>8</th>\n",
       "      <th>9</th>\n",
       "      <th>10</th>\n",
       "      <th>11</th>\n",
       "      <th>12</th>\n",
       "      <th>13</th>\n",
       "      <th>target</th>\n",
       "    </tr>\n",
       "  </thead>\n",
       "  <tbody>\n",
       "    <tr>\n",
       "      <th>0</th>\n",
       "      <td>39</td>\n",
       "      <td>State-gov</td>\n",
       "      <td>77516</td>\n",
       "      <td>Bachelors</td>\n",
       "      <td>13</td>\n",
       "      <td>Never-married</td>\n",
       "      <td>Adm-clerical</td>\n",
       "      <td>Not-in-family</td>\n",
       "      <td>White</td>\n",
       "      <td>Male</td>\n",
       "      <td>2174</td>\n",
       "      <td>0</td>\n",
       "      <td>40</td>\n",
       "      <td>United-States</td>\n",
       "      <td>&lt;=50K</td>\n",
       "    </tr>\n",
       "    <tr>\n",
       "      <th>1</th>\n",
       "      <td>50</td>\n",
       "      <td>Self-emp-not-inc</td>\n",
       "      <td>83311</td>\n",
       "      <td>Bachelors</td>\n",
       "      <td>13</td>\n",
       "      <td>Married-civ-spouse</td>\n",
       "      <td>Exec-managerial</td>\n",
       "      <td>Husband</td>\n",
       "      <td>White</td>\n",
       "      <td>Male</td>\n",
       "      <td>0</td>\n",
       "      <td>0</td>\n",
       "      <td>13</td>\n",
       "      <td>United-States</td>\n",
       "      <td>&lt;=50K</td>\n",
       "    </tr>\n",
       "    <tr>\n",
       "      <th>2</th>\n",
       "      <td>38</td>\n",
       "      <td>Private</td>\n",
       "      <td>215646</td>\n",
       "      <td>HS-grad</td>\n",
       "      <td>9</td>\n",
       "      <td>Divorced</td>\n",
       "      <td>Handlers-cleaners</td>\n",
       "      <td>Not-in-family</td>\n",
       "      <td>White</td>\n",
       "      <td>Male</td>\n",
       "      <td>0</td>\n",
       "      <td>0</td>\n",
       "      <td>40</td>\n",
       "      <td>United-States</td>\n",
       "      <td>&lt;=50K</td>\n",
       "    </tr>\n",
       "    <tr>\n",
       "      <th>3</th>\n",
       "      <td>53</td>\n",
       "      <td>Private</td>\n",
       "      <td>234721</td>\n",
       "      <td>11th</td>\n",
       "      <td>7</td>\n",
       "      <td>Married-civ-spouse</td>\n",
       "      <td>Handlers-cleaners</td>\n",
       "      <td>Husband</td>\n",
       "      <td>Black</td>\n",
       "      <td>Male</td>\n",
       "      <td>0</td>\n",
       "      <td>0</td>\n",
       "      <td>40</td>\n",
       "      <td>United-States</td>\n",
       "      <td>&lt;=50K</td>\n",
       "    </tr>\n",
       "    <tr>\n",
       "      <th>4</th>\n",
       "      <td>28</td>\n",
       "      <td>Private</td>\n",
       "      <td>338409</td>\n",
       "      <td>Bachelors</td>\n",
       "      <td>13</td>\n",
       "      <td>Married-civ-spouse</td>\n",
       "      <td>Prof-specialty</td>\n",
       "      <td>Wife</td>\n",
       "      <td>Black</td>\n",
       "      <td>Female</td>\n",
       "      <td>0</td>\n",
       "      <td>0</td>\n",
       "      <td>40</td>\n",
       "      <td>Cuba</td>\n",
       "      <td>&lt;=50K</td>\n",
       "    </tr>\n",
       "  </tbody>\n",
       "</table>\n",
       "</div>"
      ],
      "text/plain": [
       "    0                  1       2           3   4                    5  \\\n",
       "0  39          State-gov   77516   Bachelors  13        Never-married   \n",
       "1  50   Self-emp-not-inc   83311   Bachelors  13   Married-civ-spouse   \n",
       "2  38            Private  215646     HS-grad   9             Divorced   \n",
       "3  53            Private  234721        11th   7   Married-civ-spouse   \n",
       "4  28            Private  338409   Bachelors  13   Married-civ-spouse   \n",
       "\n",
       "                    6               7       8        9    10  11  12  \\\n",
       "0        Adm-clerical   Not-in-family   White     Male  2174   0  40   \n",
       "1     Exec-managerial         Husband   White     Male     0   0  13   \n",
       "2   Handlers-cleaners   Not-in-family   White     Male     0   0  40   \n",
       "3   Handlers-cleaners         Husband   Black     Male     0   0  40   \n",
       "4      Prof-specialty            Wife   Black   Female     0   0  40   \n",
       "\n",
       "               13  target  \n",
       "0   United-States   <=50K  \n",
       "1   United-States   <=50K  \n",
       "2   United-States   <=50K  \n",
       "3   United-States   <=50K  \n",
       "4            Cuba   <=50K  "
      ]
     },
     "execution_count": 15,
     "metadata": {},
     "output_type": "execute_result"
    }
   ],
   "source": [
    "import pandas as pd\n",
    "pd.set_option(\"display.max_columns\", None)\n",
    "\n",
    "url = 'https://archive.ics.uci.edu/ml/machine-learning-databases/adult/adult.data'\n",
    "df = pd.read_csv(url, header=None, na_values=' ?')\n",
    "df.rename(columns={14: 'target'}, inplace=True)\n",
    "df.head()"
   ]
  },
  {
   "cell_type": "markdown",
   "metadata": {},
   "source": [
    "# Feature Selection"
   ]
  },
  {
   "cell_type": "markdown",
   "metadata": {},
   "source": [
    "> 1. Class/Labels/Dependent/`Target` `y`\n",
    "> 2. Independents/Features/Characteristics/`Explanatory` `X`"
   ]
  },
  {
   "cell_type": "code",
   "execution_count": 16,
   "metadata": {},
   "outputs": [
    {
     "data": {
      "text/plain": [
       "0            0\n",
       "1         1836\n",
       "2            0\n",
       "3            0\n",
       "4            0\n",
       "5            0\n",
       "6         1843\n",
       "7            0\n",
       "8            0\n",
       "9            0\n",
       "10           0\n",
       "11           0\n",
       "12           0\n",
       "13         583\n",
       "target       0\n",
       "dtype: int64"
      ]
     },
     "execution_count": 16,
     "metadata": {},
     "output_type": "execute_result"
    }
   ],
   "source": [
    "df.isna().sum()"
   ]
  },
  {
   "cell_type": "code",
   "execution_count": 17,
   "metadata": {},
   "outputs": [],
   "source": [
    "df = df.dropna(axis=0)"
   ]
  },
  {
   "cell_type": "code",
   "execution_count": 18,
   "metadata": {},
   "outputs": [
    {
     "data": {
      "text/plain": [
       "0         0\n",
       "1         0\n",
       "2         0\n",
       "3         0\n",
       "4         0\n",
       "5         0\n",
       "6         0\n",
       "7         0\n",
       "8         0\n",
       "9         0\n",
       "10        0\n",
       "11        0\n",
       "12        0\n",
       "13        0\n",
       "target    0\n",
       "dtype: int64"
      ]
     },
     "execution_count": 18,
     "metadata": {},
     "output_type": "execute_result"
    }
   ],
   "source": [
    "df.isna().sum()"
   ]
  },
  {
   "cell_type": "code",
   "execution_count": 19,
   "metadata": {},
   "outputs": [],
   "source": [
    "df = pd.get_dummies(df, drop_first=True)"
   ]
  },
  {
   "cell_type": "code",
   "execution_count": 20,
   "metadata": {},
   "outputs": [
    {
     "data": {
      "text/html": [
       "<div>\n",
       "<style scoped>\n",
       "    .dataframe tbody tr th:only-of-type {\n",
       "        vertical-align: middle;\n",
       "    }\n",
       "\n",
       "    .dataframe tbody tr th {\n",
       "        vertical-align: top;\n",
       "    }\n",
       "\n",
       "    .dataframe thead th {\n",
       "        text-align: right;\n",
       "    }\n",
       "</style>\n",
       "<table border=\"1\" class=\"dataframe\">\n",
       "  <thead>\n",
       "    <tr style=\"text-align: right;\">\n",
       "      <th></th>\n",
       "      <th>0</th>\n",
       "      <th>2</th>\n",
       "      <th>4</th>\n",
       "      <th>10</th>\n",
       "      <th>11</th>\n",
       "      <th>12</th>\n",
       "      <th>1_ Local-gov</th>\n",
       "      <th>1_ Private</th>\n",
       "      <th>1_ Self-emp-inc</th>\n",
       "      <th>1_ Self-emp-not-inc</th>\n",
       "      <th>1_ State-gov</th>\n",
       "      <th>1_ Without-pay</th>\n",
       "      <th>3_ 11th</th>\n",
       "      <th>3_ 12th</th>\n",
       "      <th>3_ 1st-4th</th>\n",
       "      <th>3_ 5th-6th</th>\n",
       "      <th>3_ 7th-8th</th>\n",
       "      <th>3_ 9th</th>\n",
       "      <th>3_ Assoc-acdm</th>\n",
       "      <th>3_ Assoc-voc</th>\n",
       "      <th>3_ Bachelors</th>\n",
       "      <th>3_ Doctorate</th>\n",
       "      <th>3_ HS-grad</th>\n",
       "      <th>3_ Masters</th>\n",
       "      <th>3_ Preschool</th>\n",
       "      <th>3_ Prof-school</th>\n",
       "      <th>3_ Some-college</th>\n",
       "      <th>5_ Married-AF-spouse</th>\n",
       "      <th>5_ Married-civ-spouse</th>\n",
       "      <th>5_ Married-spouse-absent</th>\n",
       "      <th>5_ Never-married</th>\n",
       "      <th>5_ Separated</th>\n",
       "      <th>5_ Widowed</th>\n",
       "      <th>6_ Armed-Forces</th>\n",
       "      <th>6_ Craft-repair</th>\n",
       "      <th>6_ Exec-managerial</th>\n",
       "      <th>6_ Farming-fishing</th>\n",
       "      <th>6_ Handlers-cleaners</th>\n",
       "      <th>6_ Machine-op-inspct</th>\n",
       "      <th>6_ Other-service</th>\n",
       "      <th>6_ Priv-house-serv</th>\n",
       "      <th>6_ Prof-specialty</th>\n",
       "      <th>6_ Protective-serv</th>\n",
       "      <th>6_ Sales</th>\n",
       "      <th>6_ Tech-support</th>\n",
       "      <th>6_ Transport-moving</th>\n",
       "      <th>7_ Not-in-family</th>\n",
       "      <th>7_ Other-relative</th>\n",
       "      <th>7_ Own-child</th>\n",
       "      <th>7_ Unmarried</th>\n",
       "      <th>7_ Wife</th>\n",
       "      <th>8_ Asian-Pac-Islander</th>\n",
       "      <th>8_ Black</th>\n",
       "      <th>8_ Other</th>\n",
       "      <th>8_ White</th>\n",
       "      <th>9_ Male</th>\n",
       "      <th>13_ Canada</th>\n",
       "      <th>13_ China</th>\n",
       "      <th>13_ Columbia</th>\n",
       "      <th>13_ Cuba</th>\n",
       "      <th>13_ Dominican-Republic</th>\n",
       "      <th>13_ Ecuador</th>\n",
       "      <th>13_ El-Salvador</th>\n",
       "      <th>13_ England</th>\n",
       "      <th>13_ France</th>\n",
       "      <th>13_ Germany</th>\n",
       "      <th>13_ Greece</th>\n",
       "      <th>13_ Guatemala</th>\n",
       "      <th>13_ Haiti</th>\n",
       "      <th>13_ Holand-Netherlands</th>\n",
       "      <th>13_ Honduras</th>\n",
       "      <th>13_ Hong</th>\n",
       "      <th>13_ Hungary</th>\n",
       "      <th>13_ India</th>\n",
       "      <th>13_ Iran</th>\n",
       "      <th>13_ Ireland</th>\n",
       "      <th>13_ Italy</th>\n",
       "      <th>13_ Jamaica</th>\n",
       "      <th>13_ Japan</th>\n",
       "      <th>13_ Laos</th>\n",
       "      <th>13_ Mexico</th>\n",
       "      <th>13_ Nicaragua</th>\n",
       "      <th>13_ Outlying-US(Guam-USVI-etc)</th>\n",
       "      <th>13_ Peru</th>\n",
       "      <th>13_ Philippines</th>\n",
       "      <th>13_ Poland</th>\n",
       "      <th>13_ Portugal</th>\n",
       "      <th>13_ Puerto-Rico</th>\n",
       "      <th>13_ Scotland</th>\n",
       "      <th>13_ South</th>\n",
       "      <th>13_ Taiwan</th>\n",
       "      <th>13_ Thailand</th>\n",
       "      <th>13_ Trinadad&amp;Tobago</th>\n",
       "      <th>13_ United-States</th>\n",
       "      <th>13_ Vietnam</th>\n",
       "      <th>13_ Yugoslavia</th>\n",
       "      <th>target_ &gt;50K</th>\n",
       "    </tr>\n",
       "  </thead>\n",
       "  <tbody>\n",
       "    <tr>\n",
       "      <th>0</th>\n",
       "      <td>39</td>\n",
       "      <td>77516</td>\n",
       "      <td>13</td>\n",
       "      <td>2174</td>\n",
       "      <td>0</td>\n",
       "      <td>40</td>\n",
       "      <td>0</td>\n",
       "      <td>0</td>\n",
       "      <td>0</td>\n",
       "      <td>0</td>\n",
       "      <td>1</td>\n",
       "      <td>0</td>\n",
       "      <td>0</td>\n",
       "      <td>0</td>\n",
       "      <td>0</td>\n",
       "      <td>0</td>\n",
       "      <td>0</td>\n",
       "      <td>0</td>\n",
       "      <td>0</td>\n",
       "      <td>0</td>\n",
       "      <td>1</td>\n",
       "      <td>0</td>\n",
       "      <td>0</td>\n",
       "      <td>0</td>\n",
       "      <td>0</td>\n",
       "      <td>0</td>\n",
       "      <td>0</td>\n",
       "      <td>0</td>\n",
       "      <td>0</td>\n",
       "      <td>0</td>\n",
       "      <td>1</td>\n",
       "      <td>0</td>\n",
       "      <td>0</td>\n",
       "      <td>0</td>\n",
       "      <td>0</td>\n",
       "      <td>0</td>\n",
       "      <td>0</td>\n",
       "      <td>0</td>\n",
       "      <td>0</td>\n",
       "      <td>0</td>\n",
       "      <td>0</td>\n",
       "      <td>0</td>\n",
       "      <td>0</td>\n",
       "      <td>0</td>\n",
       "      <td>0</td>\n",
       "      <td>0</td>\n",
       "      <td>1</td>\n",
       "      <td>0</td>\n",
       "      <td>0</td>\n",
       "      <td>0</td>\n",
       "      <td>0</td>\n",
       "      <td>0</td>\n",
       "      <td>0</td>\n",
       "      <td>0</td>\n",
       "      <td>1</td>\n",
       "      <td>1</td>\n",
       "      <td>0</td>\n",
       "      <td>0</td>\n",
       "      <td>0</td>\n",
       "      <td>0</td>\n",
       "      <td>0</td>\n",
       "      <td>0</td>\n",
       "      <td>0</td>\n",
       "      <td>0</td>\n",
       "      <td>0</td>\n",
       "      <td>0</td>\n",
       "      <td>0</td>\n",
       "      <td>0</td>\n",
       "      <td>0</td>\n",
       "      <td>0</td>\n",
       "      <td>0</td>\n",
       "      <td>0</td>\n",
       "      <td>0</td>\n",
       "      <td>0</td>\n",
       "      <td>0</td>\n",
       "      <td>0</td>\n",
       "      <td>0</td>\n",
       "      <td>0</td>\n",
       "      <td>0</td>\n",
       "      <td>0</td>\n",
       "      <td>0</td>\n",
       "      <td>0</td>\n",
       "      <td>0</td>\n",
       "      <td>0</td>\n",
       "      <td>0</td>\n",
       "      <td>0</td>\n",
       "      <td>0</td>\n",
       "      <td>0</td>\n",
       "      <td>0</td>\n",
       "      <td>0</td>\n",
       "      <td>0</td>\n",
       "      <td>0</td>\n",
       "      <td>0</td>\n",
       "      <td>1</td>\n",
       "      <td>0</td>\n",
       "      <td>0</td>\n",
       "      <td>0</td>\n",
       "    </tr>\n",
       "    <tr>\n",
       "      <th>1</th>\n",
       "      <td>50</td>\n",
       "      <td>83311</td>\n",
       "      <td>13</td>\n",
       "      <td>0</td>\n",
       "      <td>0</td>\n",
       "      <td>13</td>\n",
       "      <td>0</td>\n",
       "      <td>0</td>\n",
       "      <td>0</td>\n",
       "      <td>1</td>\n",
       "      <td>0</td>\n",
       "      <td>0</td>\n",
       "      <td>0</td>\n",
       "      <td>0</td>\n",
       "      <td>0</td>\n",
       "      <td>0</td>\n",
       "      <td>0</td>\n",
       "      <td>0</td>\n",
       "      <td>0</td>\n",
       "      <td>0</td>\n",
       "      <td>1</td>\n",
       "      <td>0</td>\n",
       "      <td>0</td>\n",
       "      <td>0</td>\n",
       "      <td>0</td>\n",
       "      <td>0</td>\n",
       "      <td>0</td>\n",
       "      <td>0</td>\n",
       "      <td>1</td>\n",
       "      <td>0</td>\n",
       "      <td>0</td>\n",
       "      <td>0</td>\n",
       "      <td>0</td>\n",
       "      <td>0</td>\n",
       "      <td>0</td>\n",
       "      <td>1</td>\n",
       "      <td>0</td>\n",
       "      <td>0</td>\n",
       "      <td>0</td>\n",
       "      <td>0</td>\n",
       "      <td>0</td>\n",
       "      <td>0</td>\n",
       "      <td>0</td>\n",
       "      <td>0</td>\n",
       "      <td>0</td>\n",
       "      <td>0</td>\n",
       "      <td>0</td>\n",
       "      <td>0</td>\n",
       "      <td>0</td>\n",
       "      <td>0</td>\n",
       "      <td>0</td>\n",
       "      <td>0</td>\n",
       "      <td>0</td>\n",
       "      <td>0</td>\n",
       "      <td>1</td>\n",
       "      <td>1</td>\n",
       "      <td>0</td>\n",
       "      <td>0</td>\n",
       "      <td>0</td>\n",
       "      <td>0</td>\n",
       "      <td>0</td>\n",
       "      <td>0</td>\n",
       "      <td>0</td>\n",
       "      <td>0</td>\n",
       "      <td>0</td>\n",
       "      <td>0</td>\n",
       "      <td>0</td>\n",
       "      <td>0</td>\n",
       "      <td>0</td>\n",
       "      <td>0</td>\n",
       "      <td>0</td>\n",
       "      <td>0</td>\n",
       "      <td>0</td>\n",
       "      <td>0</td>\n",
       "      <td>0</td>\n",
       "      <td>0</td>\n",
       "      <td>0</td>\n",
       "      <td>0</td>\n",
       "      <td>0</td>\n",
       "      <td>0</td>\n",
       "      <td>0</td>\n",
       "      <td>0</td>\n",
       "      <td>0</td>\n",
       "      <td>0</td>\n",
       "      <td>0</td>\n",
       "      <td>0</td>\n",
       "      <td>0</td>\n",
       "      <td>0</td>\n",
       "      <td>0</td>\n",
       "      <td>0</td>\n",
       "      <td>0</td>\n",
       "      <td>0</td>\n",
       "      <td>0</td>\n",
       "      <td>1</td>\n",
       "      <td>0</td>\n",
       "      <td>0</td>\n",
       "      <td>0</td>\n",
       "    </tr>\n",
       "    <tr>\n",
       "      <th>2</th>\n",
       "      <td>38</td>\n",
       "      <td>215646</td>\n",
       "      <td>9</td>\n",
       "      <td>0</td>\n",
       "      <td>0</td>\n",
       "      <td>40</td>\n",
       "      <td>0</td>\n",
       "      <td>1</td>\n",
       "      <td>0</td>\n",
       "      <td>0</td>\n",
       "      <td>0</td>\n",
       "      <td>0</td>\n",
       "      <td>0</td>\n",
       "      <td>0</td>\n",
       "      <td>0</td>\n",
       "      <td>0</td>\n",
       "      <td>0</td>\n",
       "      <td>0</td>\n",
       "      <td>0</td>\n",
       "      <td>0</td>\n",
       "      <td>0</td>\n",
       "      <td>0</td>\n",
       "      <td>1</td>\n",
       "      <td>0</td>\n",
       "      <td>0</td>\n",
       "      <td>0</td>\n",
       "      <td>0</td>\n",
       "      <td>0</td>\n",
       "      <td>0</td>\n",
       "      <td>0</td>\n",
       "      <td>0</td>\n",
       "      <td>0</td>\n",
       "      <td>0</td>\n",
       "      <td>0</td>\n",
       "      <td>0</td>\n",
       "      <td>0</td>\n",
       "      <td>0</td>\n",
       "      <td>1</td>\n",
       "      <td>0</td>\n",
       "      <td>0</td>\n",
       "      <td>0</td>\n",
       "      <td>0</td>\n",
       "      <td>0</td>\n",
       "      <td>0</td>\n",
       "      <td>0</td>\n",
       "      <td>0</td>\n",
       "      <td>1</td>\n",
       "      <td>0</td>\n",
       "      <td>0</td>\n",
       "      <td>0</td>\n",
       "      <td>0</td>\n",
       "      <td>0</td>\n",
       "      <td>0</td>\n",
       "      <td>0</td>\n",
       "      <td>1</td>\n",
       "      <td>1</td>\n",
       "      <td>0</td>\n",
       "      <td>0</td>\n",
       "      <td>0</td>\n",
       "      <td>0</td>\n",
       "      <td>0</td>\n",
       "      <td>0</td>\n",
       "      <td>0</td>\n",
       "      <td>0</td>\n",
       "      <td>0</td>\n",
       "      <td>0</td>\n",
       "      <td>0</td>\n",
       "      <td>0</td>\n",
       "      <td>0</td>\n",
       "      <td>0</td>\n",
       "      <td>0</td>\n",
       "      <td>0</td>\n",
       "      <td>0</td>\n",
       "      <td>0</td>\n",
       "      <td>0</td>\n",
       "      <td>0</td>\n",
       "      <td>0</td>\n",
       "      <td>0</td>\n",
       "      <td>0</td>\n",
       "      <td>0</td>\n",
       "      <td>0</td>\n",
       "      <td>0</td>\n",
       "      <td>0</td>\n",
       "      <td>0</td>\n",
       "      <td>0</td>\n",
       "      <td>0</td>\n",
       "      <td>0</td>\n",
       "      <td>0</td>\n",
       "      <td>0</td>\n",
       "      <td>0</td>\n",
       "      <td>0</td>\n",
       "      <td>0</td>\n",
       "      <td>0</td>\n",
       "      <td>1</td>\n",
       "      <td>0</td>\n",
       "      <td>0</td>\n",
       "      <td>0</td>\n",
       "    </tr>\n",
       "    <tr>\n",
       "      <th>3</th>\n",
       "      <td>53</td>\n",
       "      <td>234721</td>\n",
       "      <td>7</td>\n",
       "      <td>0</td>\n",
       "      <td>0</td>\n",
       "      <td>40</td>\n",
       "      <td>0</td>\n",
       "      <td>1</td>\n",
       "      <td>0</td>\n",
       "      <td>0</td>\n",
       "      <td>0</td>\n",
       "      <td>0</td>\n",
       "      <td>1</td>\n",
       "      <td>0</td>\n",
       "      <td>0</td>\n",
       "      <td>0</td>\n",
       "      <td>0</td>\n",
       "      <td>0</td>\n",
       "      <td>0</td>\n",
       "      <td>0</td>\n",
       "      <td>0</td>\n",
       "      <td>0</td>\n",
       "      <td>0</td>\n",
       "      <td>0</td>\n",
       "      <td>0</td>\n",
       "      <td>0</td>\n",
       "      <td>0</td>\n",
       "      <td>0</td>\n",
       "      <td>1</td>\n",
       "      <td>0</td>\n",
       "      <td>0</td>\n",
       "      <td>0</td>\n",
       "      <td>0</td>\n",
       "      <td>0</td>\n",
       "      <td>0</td>\n",
       "      <td>0</td>\n",
       "      <td>0</td>\n",
       "      <td>1</td>\n",
       "      <td>0</td>\n",
       "      <td>0</td>\n",
       "      <td>0</td>\n",
       "      <td>0</td>\n",
       "      <td>0</td>\n",
       "      <td>0</td>\n",
       "      <td>0</td>\n",
       "      <td>0</td>\n",
       "      <td>0</td>\n",
       "      <td>0</td>\n",
       "      <td>0</td>\n",
       "      <td>0</td>\n",
       "      <td>0</td>\n",
       "      <td>0</td>\n",
       "      <td>1</td>\n",
       "      <td>0</td>\n",
       "      <td>0</td>\n",
       "      <td>1</td>\n",
       "      <td>0</td>\n",
       "      <td>0</td>\n",
       "      <td>0</td>\n",
       "      <td>0</td>\n",
       "      <td>0</td>\n",
       "      <td>0</td>\n",
       "      <td>0</td>\n",
       "      <td>0</td>\n",
       "      <td>0</td>\n",
       "      <td>0</td>\n",
       "      <td>0</td>\n",
       "      <td>0</td>\n",
       "      <td>0</td>\n",
       "      <td>0</td>\n",
       "      <td>0</td>\n",
       "      <td>0</td>\n",
       "      <td>0</td>\n",
       "      <td>0</td>\n",
       "      <td>0</td>\n",
       "      <td>0</td>\n",
       "      <td>0</td>\n",
       "      <td>0</td>\n",
       "      <td>0</td>\n",
       "      <td>0</td>\n",
       "      <td>0</td>\n",
       "      <td>0</td>\n",
       "      <td>0</td>\n",
       "      <td>0</td>\n",
       "      <td>0</td>\n",
       "      <td>0</td>\n",
       "      <td>0</td>\n",
       "      <td>0</td>\n",
       "      <td>0</td>\n",
       "      <td>0</td>\n",
       "      <td>0</td>\n",
       "      <td>0</td>\n",
       "      <td>0</td>\n",
       "      <td>1</td>\n",
       "      <td>0</td>\n",
       "      <td>0</td>\n",
       "      <td>0</td>\n",
       "    </tr>\n",
       "    <tr>\n",
       "      <th>4</th>\n",
       "      <td>28</td>\n",
       "      <td>338409</td>\n",
       "      <td>13</td>\n",
       "      <td>0</td>\n",
       "      <td>0</td>\n",
       "      <td>40</td>\n",
       "      <td>0</td>\n",
       "      <td>1</td>\n",
       "      <td>0</td>\n",
       "      <td>0</td>\n",
       "      <td>0</td>\n",
       "      <td>0</td>\n",
       "      <td>0</td>\n",
       "      <td>0</td>\n",
       "      <td>0</td>\n",
       "      <td>0</td>\n",
       "      <td>0</td>\n",
       "      <td>0</td>\n",
       "      <td>0</td>\n",
       "      <td>0</td>\n",
       "      <td>1</td>\n",
       "      <td>0</td>\n",
       "      <td>0</td>\n",
       "      <td>0</td>\n",
       "      <td>0</td>\n",
       "      <td>0</td>\n",
       "      <td>0</td>\n",
       "      <td>0</td>\n",
       "      <td>1</td>\n",
       "      <td>0</td>\n",
       "      <td>0</td>\n",
       "      <td>0</td>\n",
       "      <td>0</td>\n",
       "      <td>0</td>\n",
       "      <td>0</td>\n",
       "      <td>0</td>\n",
       "      <td>0</td>\n",
       "      <td>0</td>\n",
       "      <td>0</td>\n",
       "      <td>0</td>\n",
       "      <td>0</td>\n",
       "      <td>1</td>\n",
       "      <td>0</td>\n",
       "      <td>0</td>\n",
       "      <td>0</td>\n",
       "      <td>0</td>\n",
       "      <td>0</td>\n",
       "      <td>0</td>\n",
       "      <td>0</td>\n",
       "      <td>0</td>\n",
       "      <td>1</td>\n",
       "      <td>0</td>\n",
       "      <td>1</td>\n",
       "      <td>0</td>\n",
       "      <td>0</td>\n",
       "      <td>0</td>\n",
       "      <td>0</td>\n",
       "      <td>0</td>\n",
       "      <td>0</td>\n",
       "      <td>1</td>\n",
       "      <td>0</td>\n",
       "      <td>0</td>\n",
       "      <td>0</td>\n",
       "      <td>0</td>\n",
       "      <td>0</td>\n",
       "      <td>0</td>\n",
       "      <td>0</td>\n",
       "      <td>0</td>\n",
       "      <td>0</td>\n",
       "      <td>0</td>\n",
       "      <td>0</td>\n",
       "      <td>0</td>\n",
       "      <td>0</td>\n",
       "      <td>0</td>\n",
       "      <td>0</td>\n",
       "      <td>0</td>\n",
       "      <td>0</td>\n",
       "      <td>0</td>\n",
       "      <td>0</td>\n",
       "      <td>0</td>\n",
       "      <td>0</td>\n",
       "      <td>0</td>\n",
       "      <td>0</td>\n",
       "      <td>0</td>\n",
       "      <td>0</td>\n",
       "      <td>0</td>\n",
       "      <td>0</td>\n",
       "      <td>0</td>\n",
       "      <td>0</td>\n",
       "      <td>0</td>\n",
       "      <td>0</td>\n",
       "      <td>0</td>\n",
       "      <td>0</td>\n",
       "      <td>0</td>\n",
       "      <td>0</td>\n",
       "      <td>0</td>\n",
       "      <td>0</td>\n",
       "    </tr>\n",
       "    <tr>\n",
       "      <th>...</th>\n",
       "      <td>...</td>\n",
       "      <td>...</td>\n",
       "      <td>...</td>\n",
       "      <td>...</td>\n",
       "      <td>...</td>\n",
       "      <td>...</td>\n",
       "      <td>...</td>\n",
       "      <td>...</td>\n",
       "      <td>...</td>\n",
       "      <td>...</td>\n",
       "      <td>...</td>\n",
       "      <td>...</td>\n",
       "      <td>...</td>\n",
       "      <td>...</td>\n",
       "      <td>...</td>\n",
       "      <td>...</td>\n",
       "      <td>...</td>\n",
       "      <td>...</td>\n",
       "      <td>...</td>\n",
       "      <td>...</td>\n",
       "      <td>...</td>\n",
       "      <td>...</td>\n",
       "      <td>...</td>\n",
       "      <td>...</td>\n",
       "      <td>...</td>\n",
       "      <td>...</td>\n",
       "      <td>...</td>\n",
       "      <td>...</td>\n",
       "      <td>...</td>\n",
       "      <td>...</td>\n",
       "      <td>...</td>\n",
       "      <td>...</td>\n",
       "      <td>...</td>\n",
       "      <td>...</td>\n",
       "      <td>...</td>\n",
       "      <td>...</td>\n",
       "      <td>...</td>\n",
       "      <td>...</td>\n",
       "      <td>...</td>\n",
       "      <td>...</td>\n",
       "      <td>...</td>\n",
       "      <td>...</td>\n",
       "      <td>...</td>\n",
       "      <td>...</td>\n",
       "      <td>...</td>\n",
       "      <td>...</td>\n",
       "      <td>...</td>\n",
       "      <td>...</td>\n",
       "      <td>...</td>\n",
       "      <td>...</td>\n",
       "      <td>...</td>\n",
       "      <td>...</td>\n",
       "      <td>...</td>\n",
       "      <td>...</td>\n",
       "      <td>...</td>\n",
       "      <td>...</td>\n",
       "      <td>...</td>\n",
       "      <td>...</td>\n",
       "      <td>...</td>\n",
       "      <td>...</td>\n",
       "      <td>...</td>\n",
       "      <td>...</td>\n",
       "      <td>...</td>\n",
       "      <td>...</td>\n",
       "      <td>...</td>\n",
       "      <td>...</td>\n",
       "      <td>...</td>\n",
       "      <td>...</td>\n",
       "      <td>...</td>\n",
       "      <td>...</td>\n",
       "      <td>...</td>\n",
       "      <td>...</td>\n",
       "      <td>...</td>\n",
       "      <td>...</td>\n",
       "      <td>...</td>\n",
       "      <td>...</td>\n",
       "      <td>...</td>\n",
       "      <td>...</td>\n",
       "      <td>...</td>\n",
       "      <td>...</td>\n",
       "      <td>...</td>\n",
       "      <td>...</td>\n",
       "      <td>...</td>\n",
       "      <td>...</td>\n",
       "      <td>...</td>\n",
       "      <td>...</td>\n",
       "      <td>...</td>\n",
       "      <td>...</td>\n",
       "      <td>...</td>\n",
       "      <td>...</td>\n",
       "      <td>...</td>\n",
       "      <td>...</td>\n",
       "      <td>...</td>\n",
       "      <td>...</td>\n",
       "      <td>...</td>\n",
       "      <td>...</td>\n",
       "      <td>...</td>\n",
       "    </tr>\n",
       "    <tr>\n",
       "      <th>32556</th>\n",
       "      <td>27</td>\n",
       "      <td>257302</td>\n",
       "      <td>12</td>\n",
       "      <td>0</td>\n",
       "      <td>0</td>\n",
       "      <td>38</td>\n",
       "      <td>0</td>\n",
       "      <td>1</td>\n",
       "      <td>0</td>\n",
       "      <td>0</td>\n",
       "      <td>0</td>\n",
       "      <td>0</td>\n",
       "      <td>0</td>\n",
       "      <td>0</td>\n",
       "      <td>0</td>\n",
       "      <td>0</td>\n",
       "      <td>0</td>\n",
       "      <td>0</td>\n",
       "      <td>1</td>\n",
       "      <td>0</td>\n",
       "      <td>0</td>\n",
       "      <td>0</td>\n",
       "      <td>0</td>\n",
       "      <td>0</td>\n",
       "      <td>0</td>\n",
       "      <td>0</td>\n",
       "      <td>0</td>\n",
       "      <td>0</td>\n",
       "      <td>1</td>\n",
       "      <td>0</td>\n",
       "      <td>0</td>\n",
       "      <td>0</td>\n",
       "      <td>0</td>\n",
       "      <td>0</td>\n",
       "      <td>0</td>\n",
       "      <td>0</td>\n",
       "      <td>0</td>\n",
       "      <td>0</td>\n",
       "      <td>0</td>\n",
       "      <td>0</td>\n",
       "      <td>0</td>\n",
       "      <td>0</td>\n",
       "      <td>0</td>\n",
       "      <td>0</td>\n",
       "      <td>1</td>\n",
       "      <td>0</td>\n",
       "      <td>0</td>\n",
       "      <td>0</td>\n",
       "      <td>0</td>\n",
       "      <td>0</td>\n",
       "      <td>1</td>\n",
       "      <td>0</td>\n",
       "      <td>0</td>\n",
       "      <td>0</td>\n",
       "      <td>1</td>\n",
       "      <td>0</td>\n",
       "      <td>0</td>\n",
       "      <td>0</td>\n",
       "      <td>0</td>\n",
       "      <td>0</td>\n",
       "      <td>0</td>\n",
       "      <td>0</td>\n",
       "      <td>0</td>\n",
       "      <td>0</td>\n",
       "      <td>0</td>\n",
       "      <td>0</td>\n",
       "      <td>0</td>\n",
       "      <td>0</td>\n",
       "      <td>0</td>\n",
       "      <td>0</td>\n",
       "      <td>0</td>\n",
       "      <td>0</td>\n",
       "      <td>0</td>\n",
       "      <td>0</td>\n",
       "      <td>0</td>\n",
       "      <td>0</td>\n",
       "      <td>0</td>\n",
       "      <td>0</td>\n",
       "      <td>0</td>\n",
       "      <td>0</td>\n",
       "      <td>0</td>\n",
       "      <td>0</td>\n",
       "      <td>0</td>\n",
       "      <td>0</td>\n",
       "      <td>0</td>\n",
       "      <td>0</td>\n",
       "      <td>0</td>\n",
       "      <td>0</td>\n",
       "      <td>0</td>\n",
       "      <td>0</td>\n",
       "      <td>0</td>\n",
       "      <td>0</td>\n",
       "      <td>0</td>\n",
       "      <td>1</td>\n",
       "      <td>0</td>\n",
       "      <td>0</td>\n",
       "      <td>0</td>\n",
       "    </tr>\n",
       "    <tr>\n",
       "      <th>32557</th>\n",
       "      <td>40</td>\n",
       "      <td>154374</td>\n",
       "      <td>9</td>\n",
       "      <td>0</td>\n",
       "      <td>0</td>\n",
       "      <td>40</td>\n",
       "      <td>0</td>\n",
       "      <td>1</td>\n",
       "      <td>0</td>\n",
       "      <td>0</td>\n",
       "      <td>0</td>\n",
       "      <td>0</td>\n",
       "      <td>0</td>\n",
       "      <td>0</td>\n",
       "      <td>0</td>\n",
       "      <td>0</td>\n",
       "      <td>0</td>\n",
       "      <td>0</td>\n",
       "      <td>0</td>\n",
       "      <td>0</td>\n",
       "      <td>0</td>\n",
       "      <td>0</td>\n",
       "      <td>1</td>\n",
       "      <td>0</td>\n",
       "      <td>0</td>\n",
       "      <td>0</td>\n",
       "      <td>0</td>\n",
       "      <td>0</td>\n",
       "      <td>1</td>\n",
       "      <td>0</td>\n",
       "      <td>0</td>\n",
       "      <td>0</td>\n",
       "      <td>0</td>\n",
       "      <td>0</td>\n",
       "      <td>0</td>\n",
       "      <td>0</td>\n",
       "      <td>0</td>\n",
       "      <td>0</td>\n",
       "      <td>1</td>\n",
       "      <td>0</td>\n",
       "      <td>0</td>\n",
       "      <td>0</td>\n",
       "      <td>0</td>\n",
       "      <td>0</td>\n",
       "      <td>0</td>\n",
       "      <td>0</td>\n",
       "      <td>0</td>\n",
       "      <td>0</td>\n",
       "      <td>0</td>\n",
       "      <td>0</td>\n",
       "      <td>0</td>\n",
       "      <td>0</td>\n",
       "      <td>0</td>\n",
       "      <td>0</td>\n",
       "      <td>1</td>\n",
       "      <td>1</td>\n",
       "      <td>0</td>\n",
       "      <td>0</td>\n",
       "      <td>0</td>\n",
       "      <td>0</td>\n",
       "      <td>0</td>\n",
       "      <td>0</td>\n",
       "      <td>0</td>\n",
       "      <td>0</td>\n",
       "      <td>0</td>\n",
       "      <td>0</td>\n",
       "      <td>0</td>\n",
       "      <td>0</td>\n",
       "      <td>0</td>\n",
       "      <td>0</td>\n",
       "      <td>0</td>\n",
       "      <td>0</td>\n",
       "      <td>0</td>\n",
       "      <td>0</td>\n",
       "      <td>0</td>\n",
       "      <td>0</td>\n",
       "      <td>0</td>\n",
       "      <td>0</td>\n",
       "      <td>0</td>\n",
       "      <td>0</td>\n",
       "      <td>0</td>\n",
       "      <td>0</td>\n",
       "      <td>0</td>\n",
       "      <td>0</td>\n",
       "      <td>0</td>\n",
       "      <td>0</td>\n",
       "      <td>0</td>\n",
       "      <td>0</td>\n",
       "      <td>0</td>\n",
       "      <td>0</td>\n",
       "      <td>0</td>\n",
       "      <td>0</td>\n",
       "      <td>0</td>\n",
       "      <td>1</td>\n",
       "      <td>0</td>\n",
       "      <td>0</td>\n",
       "      <td>1</td>\n",
       "    </tr>\n",
       "    <tr>\n",
       "      <th>32558</th>\n",
       "      <td>58</td>\n",
       "      <td>151910</td>\n",
       "      <td>9</td>\n",
       "      <td>0</td>\n",
       "      <td>0</td>\n",
       "      <td>40</td>\n",
       "      <td>0</td>\n",
       "      <td>1</td>\n",
       "      <td>0</td>\n",
       "      <td>0</td>\n",
       "      <td>0</td>\n",
       "      <td>0</td>\n",
       "      <td>0</td>\n",
       "      <td>0</td>\n",
       "      <td>0</td>\n",
       "      <td>0</td>\n",
       "      <td>0</td>\n",
       "      <td>0</td>\n",
       "      <td>0</td>\n",
       "      <td>0</td>\n",
       "      <td>0</td>\n",
       "      <td>0</td>\n",
       "      <td>1</td>\n",
       "      <td>0</td>\n",
       "      <td>0</td>\n",
       "      <td>0</td>\n",
       "      <td>0</td>\n",
       "      <td>0</td>\n",
       "      <td>0</td>\n",
       "      <td>0</td>\n",
       "      <td>0</td>\n",
       "      <td>0</td>\n",
       "      <td>1</td>\n",
       "      <td>0</td>\n",
       "      <td>0</td>\n",
       "      <td>0</td>\n",
       "      <td>0</td>\n",
       "      <td>0</td>\n",
       "      <td>0</td>\n",
       "      <td>0</td>\n",
       "      <td>0</td>\n",
       "      <td>0</td>\n",
       "      <td>0</td>\n",
       "      <td>0</td>\n",
       "      <td>0</td>\n",
       "      <td>0</td>\n",
       "      <td>0</td>\n",
       "      <td>0</td>\n",
       "      <td>0</td>\n",
       "      <td>1</td>\n",
       "      <td>0</td>\n",
       "      <td>0</td>\n",
       "      <td>0</td>\n",
       "      <td>0</td>\n",
       "      <td>1</td>\n",
       "      <td>0</td>\n",
       "      <td>0</td>\n",
       "      <td>0</td>\n",
       "      <td>0</td>\n",
       "      <td>0</td>\n",
       "      <td>0</td>\n",
       "      <td>0</td>\n",
       "      <td>0</td>\n",
       "      <td>0</td>\n",
       "      <td>0</td>\n",
       "      <td>0</td>\n",
       "      <td>0</td>\n",
       "      <td>0</td>\n",
       "      <td>0</td>\n",
       "      <td>0</td>\n",
       "      <td>0</td>\n",
       "      <td>0</td>\n",
       "      <td>0</td>\n",
       "      <td>0</td>\n",
       "      <td>0</td>\n",
       "      <td>0</td>\n",
       "      <td>0</td>\n",
       "      <td>0</td>\n",
       "      <td>0</td>\n",
       "      <td>0</td>\n",
       "      <td>0</td>\n",
       "      <td>0</td>\n",
       "      <td>0</td>\n",
       "      <td>0</td>\n",
       "      <td>0</td>\n",
       "      <td>0</td>\n",
       "      <td>0</td>\n",
       "      <td>0</td>\n",
       "      <td>0</td>\n",
       "      <td>0</td>\n",
       "      <td>0</td>\n",
       "      <td>0</td>\n",
       "      <td>0</td>\n",
       "      <td>1</td>\n",
       "      <td>0</td>\n",
       "      <td>0</td>\n",
       "      <td>0</td>\n",
       "    </tr>\n",
       "    <tr>\n",
       "      <th>32559</th>\n",
       "      <td>22</td>\n",
       "      <td>201490</td>\n",
       "      <td>9</td>\n",
       "      <td>0</td>\n",
       "      <td>0</td>\n",
       "      <td>20</td>\n",
       "      <td>0</td>\n",
       "      <td>1</td>\n",
       "      <td>0</td>\n",
       "      <td>0</td>\n",
       "      <td>0</td>\n",
       "      <td>0</td>\n",
       "      <td>0</td>\n",
       "      <td>0</td>\n",
       "      <td>0</td>\n",
       "      <td>0</td>\n",
       "      <td>0</td>\n",
       "      <td>0</td>\n",
       "      <td>0</td>\n",
       "      <td>0</td>\n",
       "      <td>0</td>\n",
       "      <td>0</td>\n",
       "      <td>1</td>\n",
       "      <td>0</td>\n",
       "      <td>0</td>\n",
       "      <td>0</td>\n",
       "      <td>0</td>\n",
       "      <td>0</td>\n",
       "      <td>0</td>\n",
       "      <td>0</td>\n",
       "      <td>1</td>\n",
       "      <td>0</td>\n",
       "      <td>0</td>\n",
       "      <td>0</td>\n",
       "      <td>0</td>\n",
       "      <td>0</td>\n",
       "      <td>0</td>\n",
       "      <td>0</td>\n",
       "      <td>0</td>\n",
       "      <td>0</td>\n",
       "      <td>0</td>\n",
       "      <td>0</td>\n",
       "      <td>0</td>\n",
       "      <td>0</td>\n",
       "      <td>0</td>\n",
       "      <td>0</td>\n",
       "      <td>0</td>\n",
       "      <td>0</td>\n",
       "      <td>1</td>\n",
       "      <td>0</td>\n",
       "      <td>0</td>\n",
       "      <td>0</td>\n",
       "      <td>0</td>\n",
       "      <td>0</td>\n",
       "      <td>1</td>\n",
       "      <td>1</td>\n",
       "      <td>0</td>\n",
       "      <td>0</td>\n",
       "      <td>0</td>\n",
       "      <td>0</td>\n",
       "      <td>0</td>\n",
       "      <td>0</td>\n",
       "      <td>0</td>\n",
       "      <td>0</td>\n",
       "      <td>0</td>\n",
       "      <td>0</td>\n",
       "      <td>0</td>\n",
       "      <td>0</td>\n",
       "      <td>0</td>\n",
       "      <td>0</td>\n",
       "      <td>0</td>\n",
       "      <td>0</td>\n",
       "      <td>0</td>\n",
       "      <td>0</td>\n",
       "      <td>0</td>\n",
       "      <td>0</td>\n",
       "      <td>0</td>\n",
       "      <td>0</td>\n",
       "      <td>0</td>\n",
       "      <td>0</td>\n",
       "      <td>0</td>\n",
       "      <td>0</td>\n",
       "      <td>0</td>\n",
       "      <td>0</td>\n",
       "      <td>0</td>\n",
       "      <td>0</td>\n",
       "      <td>0</td>\n",
       "      <td>0</td>\n",
       "      <td>0</td>\n",
       "      <td>0</td>\n",
       "      <td>0</td>\n",
       "      <td>0</td>\n",
       "      <td>0</td>\n",
       "      <td>1</td>\n",
       "      <td>0</td>\n",
       "      <td>0</td>\n",
       "      <td>0</td>\n",
       "    </tr>\n",
       "    <tr>\n",
       "      <th>32560</th>\n",
       "      <td>52</td>\n",
       "      <td>287927</td>\n",
       "      <td>9</td>\n",
       "      <td>15024</td>\n",
       "      <td>0</td>\n",
       "      <td>40</td>\n",
       "      <td>0</td>\n",
       "      <td>0</td>\n",
       "      <td>1</td>\n",
       "      <td>0</td>\n",
       "      <td>0</td>\n",
       "      <td>0</td>\n",
       "      <td>0</td>\n",
       "      <td>0</td>\n",
       "      <td>0</td>\n",
       "      <td>0</td>\n",
       "      <td>0</td>\n",
       "      <td>0</td>\n",
       "      <td>0</td>\n",
       "      <td>0</td>\n",
       "      <td>0</td>\n",
       "      <td>0</td>\n",
       "      <td>1</td>\n",
       "      <td>0</td>\n",
       "      <td>0</td>\n",
       "      <td>0</td>\n",
       "      <td>0</td>\n",
       "      <td>0</td>\n",
       "      <td>1</td>\n",
       "      <td>0</td>\n",
       "      <td>0</td>\n",
       "      <td>0</td>\n",
       "      <td>0</td>\n",
       "      <td>0</td>\n",
       "      <td>0</td>\n",
       "      <td>1</td>\n",
       "      <td>0</td>\n",
       "      <td>0</td>\n",
       "      <td>0</td>\n",
       "      <td>0</td>\n",
       "      <td>0</td>\n",
       "      <td>0</td>\n",
       "      <td>0</td>\n",
       "      <td>0</td>\n",
       "      <td>0</td>\n",
       "      <td>0</td>\n",
       "      <td>0</td>\n",
       "      <td>0</td>\n",
       "      <td>0</td>\n",
       "      <td>0</td>\n",
       "      <td>1</td>\n",
       "      <td>0</td>\n",
       "      <td>0</td>\n",
       "      <td>0</td>\n",
       "      <td>1</td>\n",
       "      <td>0</td>\n",
       "      <td>0</td>\n",
       "      <td>0</td>\n",
       "      <td>0</td>\n",
       "      <td>0</td>\n",
       "      <td>0</td>\n",
       "      <td>0</td>\n",
       "      <td>0</td>\n",
       "      <td>0</td>\n",
       "      <td>0</td>\n",
       "      <td>0</td>\n",
       "      <td>0</td>\n",
       "      <td>0</td>\n",
       "      <td>0</td>\n",
       "      <td>0</td>\n",
       "      <td>0</td>\n",
       "      <td>0</td>\n",
       "      <td>0</td>\n",
       "      <td>0</td>\n",
       "      <td>0</td>\n",
       "      <td>0</td>\n",
       "      <td>0</td>\n",
       "      <td>0</td>\n",
       "      <td>0</td>\n",
       "      <td>0</td>\n",
       "      <td>0</td>\n",
       "      <td>0</td>\n",
       "      <td>0</td>\n",
       "      <td>0</td>\n",
       "      <td>0</td>\n",
       "      <td>0</td>\n",
       "      <td>0</td>\n",
       "      <td>0</td>\n",
       "      <td>0</td>\n",
       "      <td>0</td>\n",
       "      <td>0</td>\n",
       "      <td>0</td>\n",
       "      <td>0</td>\n",
       "      <td>1</td>\n",
       "      <td>0</td>\n",
       "      <td>0</td>\n",
       "      <td>1</td>\n",
       "    </tr>\n",
       "  </tbody>\n",
       "</table>\n",
       "<p>30162 rows × 97 columns</p>\n",
       "</div>"
      ],
      "text/plain": [
       "        0       2   4     10  11  12  1_ Local-gov  1_ Private  \\\n",
       "0      39   77516  13   2174   0  40             0           0   \n",
       "1      50   83311  13      0   0  13             0           0   \n",
       "2      38  215646   9      0   0  40             0           1   \n",
       "3      53  234721   7      0   0  40             0           1   \n",
       "4      28  338409  13      0   0  40             0           1   \n",
       "...    ..     ...  ..    ...  ..  ..           ...         ...   \n",
       "32556  27  257302  12      0   0  38             0           1   \n",
       "32557  40  154374   9      0   0  40             0           1   \n",
       "32558  58  151910   9      0   0  40             0           1   \n",
       "32559  22  201490   9      0   0  20             0           1   \n",
       "32560  52  287927   9  15024   0  40             0           0   \n",
       "\n",
       "       1_ Self-emp-inc  1_ Self-emp-not-inc  1_ State-gov  1_ Without-pay  \\\n",
       "0                    0                    0             1               0   \n",
       "1                    0                    1             0               0   \n",
       "2                    0                    0             0               0   \n",
       "3                    0                    0             0               0   \n",
       "4                    0                    0             0               0   \n",
       "...                ...                  ...           ...             ...   \n",
       "32556                0                    0             0               0   \n",
       "32557                0                    0             0               0   \n",
       "32558                0                    0             0               0   \n",
       "32559                0                    0             0               0   \n",
       "32560                1                    0             0               0   \n",
       "\n",
       "       3_ 11th  3_ 12th  3_ 1st-4th  3_ 5th-6th  3_ 7th-8th  3_ 9th  \\\n",
       "0            0        0           0           0           0       0   \n",
       "1            0        0           0           0           0       0   \n",
       "2            0        0           0           0           0       0   \n",
       "3            1        0           0           0           0       0   \n",
       "4            0        0           0           0           0       0   \n",
       "...        ...      ...         ...         ...         ...     ...   \n",
       "32556        0        0           0           0           0       0   \n",
       "32557        0        0           0           0           0       0   \n",
       "32558        0        0           0           0           0       0   \n",
       "32559        0        0           0           0           0       0   \n",
       "32560        0        0           0           0           0       0   \n",
       "\n",
       "       3_ Assoc-acdm  3_ Assoc-voc  3_ Bachelors  3_ Doctorate  3_ HS-grad  \\\n",
       "0                  0             0             1             0           0   \n",
       "1                  0             0             1             0           0   \n",
       "2                  0             0             0             0           1   \n",
       "3                  0             0             0             0           0   \n",
       "4                  0             0             1             0           0   \n",
       "...              ...           ...           ...           ...         ...   \n",
       "32556              1             0             0             0           0   \n",
       "32557              0             0             0             0           1   \n",
       "32558              0             0             0             0           1   \n",
       "32559              0             0             0             0           1   \n",
       "32560              0             0             0             0           1   \n",
       "\n",
       "       3_ Masters  3_ Preschool  3_ Prof-school  3_ Some-college  \\\n",
       "0               0             0               0                0   \n",
       "1               0             0               0                0   \n",
       "2               0             0               0                0   \n",
       "3               0             0               0                0   \n",
       "4               0             0               0                0   \n",
       "...           ...           ...             ...              ...   \n",
       "32556           0             0               0                0   \n",
       "32557           0             0               0                0   \n",
       "32558           0             0               0                0   \n",
       "32559           0             0               0                0   \n",
       "32560           0             0               0                0   \n",
       "\n",
       "       5_ Married-AF-spouse  5_ Married-civ-spouse  5_ Married-spouse-absent  \\\n",
       "0                         0                      0                         0   \n",
       "1                         0                      1                         0   \n",
       "2                         0                      0                         0   \n",
       "3                         0                      1                         0   \n",
       "4                         0                      1                         0   \n",
       "...                     ...                    ...                       ...   \n",
       "32556                     0                      1                         0   \n",
       "32557                     0                      1                         0   \n",
       "32558                     0                      0                         0   \n",
       "32559                     0                      0                         0   \n",
       "32560                     0                      1                         0   \n",
       "\n",
       "       5_ Never-married  5_ Separated  5_ Widowed  6_ Armed-Forces  \\\n",
       "0                     1             0           0                0   \n",
       "1                     0             0           0                0   \n",
       "2                     0             0           0                0   \n",
       "3                     0             0           0                0   \n",
       "4                     0             0           0                0   \n",
       "...                 ...           ...         ...              ...   \n",
       "32556                 0             0           0                0   \n",
       "32557                 0             0           0                0   \n",
       "32558                 0             0           1                0   \n",
       "32559                 1             0           0                0   \n",
       "32560                 0             0           0                0   \n",
       "\n",
       "       6_ Craft-repair  6_ Exec-managerial  6_ Farming-fishing  \\\n",
       "0                    0                   0                   0   \n",
       "1                    0                   1                   0   \n",
       "2                    0                   0                   0   \n",
       "3                    0                   0                   0   \n",
       "4                    0                   0                   0   \n",
       "...                ...                 ...                 ...   \n",
       "32556                0                   0                   0   \n",
       "32557                0                   0                   0   \n",
       "32558                0                   0                   0   \n",
       "32559                0                   0                   0   \n",
       "32560                0                   1                   0   \n",
       "\n",
       "       6_ Handlers-cleaners  6_ Machine-op-inspct  6_ Other-service  \\\n",
       "0                         0                     0                 0   \n",
       "1                         0                     0                 0   \n",
       "2                         1                     0                 0   \n",
       "3                         1                     0                 0   \n",
       "4                         0                     0                 0   \n",
       "...                     ...                   ...               ...   \n",
       "32556                     0                     0                 0   \n",
       "32557                     0                     1                 0   \n",
       "32558                     0                     0                 0   \n",
       "32559                     0                     0                 0   \n",
       "32560                     0                     0                 0   \n",
       "\n",
       "       6_ Priv-house-serv  6_ Prof-specialty  6_ Protective-serv  6_ Sales  \\\n",
       "0                       0                  0                   0         0   \n",
       "1                       0                  0                   0         0   \n",
       "2                       0                  0                   0         0   \n",
       "3                       0                  0                   0         0   \n",
       "4                       0                  1                   0         0   \n",
       "...                   ...                ...                 ...       ...   \n",
       "32556                   0                  0                   0         0   \n",
       "32557                   0                  0                   0         0   \n",
       "32558                   0                  0                   0         0   \n",
       "32559                   0                  0                   0         0   \n",
       "32560                   0                  0                   0         0   \n",
       "\n",
       "       6_ Tech-support  6_ Transport-moving  7_ Not-in-family  \\\n",
       "0                    0                    0                 1   \n",
       "1                    0                    0                 0   \n",
       "2                    0                    0                 1   \n",
       "3                    0                    0                 0   \n",
       "4                    0                    0                 0   \n",
       "...                ...                  ...               ...   \n",
       "32556                1                    0                 0   \n",
       "32557                0                    0                 0   \n",
       "32558                0                    0                 0   \n",
       "32559                0                    0                 0   \n",
       "32560                0                    0                 0   \n",
       "\n",
       "       7_ Other-relative  7_ Own-child  7_ Unmarried  7_ Wife  \\\n",
       "0                      0             0             0        0   \n",
       "1                      0             0             0        0   \n",
       "2                      0             0             0        0   \n",
       "3                      0             0             0        0   \n",
       "4                      0             0             0        1   \n",
       "...                  ...           ...           ...      ...   \n",
       "32556                  0             0             0        1   \n",
       "32557                  0             0             0        0   \n",
       "32558                  0             0             1        0   \n",
       "32559                  0             1             0        0   \n",
       "32560                  0             0             0        1   \n",
       "\n",
       "       8_ Asian-Pac-Islander  8_ Black  8_ Other  8_ White  9_ Male  \\\n",
       "0                          0         0         0         1        1   \n",
       "1                          0         0         0         1        1   \n",
       "2                          0         0         0         1        1   \n",
       "3                          0         1         0         0        1   \n",
       "4                          0         1         0         0        0   \n",
       "...                      ...       ...       ...       ...      ...   \n",
       "32556                      0         0         0         1        0   \n",
       "32557                      0         0         0         1        1   \n",
       "32558                      0         0         0         1        0   \n",
       "32559                      0         0         0         1        1   \n",
       "32560                      0         0         0         1        0   \n",
       "\n",
       "       13_ Canada  13_ China  13_ Columbia  13_ Cuba  13_ Dominican-Republic  \\\n",
       "0               0          0             0         0                       0   \n",
       "1               0          0             0         0                       0   \n",
       "2               0          0             0         0                       0   \n",
       "3               0          0             0         0                       0   \n",
       "4               0          0             0         1                       0   \n",
       "...           ...        ...           ...       ...                     ...   \n",
       "32556           0          0             0         0                       0   \n",
       "32557           0          0             0         0                       0   \n",
       "32558           0          0             0         0                       0   \n",
       "32559           0          0             0         0                       0   \n",
       "32560           0          0             0         0                       0   \n",
       "\n",
       "       13_ Ecuador  13_ El-Salvador  13_ England  13_ France  13_ Germany  \\\n",
       "0                0                0            0           0            0   \n",
       "1                0                0            0           0            0   \n",
       "2                0                0            0           0            0   \n",
       "3                0                0            0           0            0   \n",
       "4                0                0            0           0            0   \n",
       "...            ...              ...          ...         ...          ...   \n",
       "32556            0                0            0           0            0   \n",
       "32557            0                0            0           0            0   \n",
       "32558            0                0            0           0            0   \n",
       "32559            0                0            0           0            0   \n",
       "32560            0                0            0           0            0   \n",
       "\n",
       "       13_ Greece  13_ Guatemala  13_ Haiti  13_ Holand-Netherlands  \\\n",
       "0               0              0          0                       0   \n",
       "1               0              0          0                       0   \n",
       "2               0              0          0                       0   \n",
       "3               0              0          0                       0   \n",
       "4               0              0          0                       0   \n",
       "...           ...            ...        ...                     ...   \n",
       "32556           0              0          0                       0   \n",
       "32557           0              0          0                       0   \n",
       "32558           0              0          0                       0   \n",
       "32559           0              0          0                       0   \n",
       "32560           0              0          0                       0   \n",
       "\n",
       "       13_ Honduras  13_ Hong  13_ Hungary  13_ India  13_ Iran  13_ Ireland  \\\n",
       "0                 0         0            0          0         0            0   \n",
       "1                 0         0            0          0         0            0   \n",
       "2                 0         0            0          0         0            0   \n",
       "3                 0         0            0          0         0            0   \n",
       "4                 0         0            0          0         0            0   \n",
       "...             ...       ...          ...        ...       ...          ...   \n",
       "32556             0         0            0          0         0            0   \n",
       "32557             0         0            0          0         0            0   \n",
       "32558             0         0            0          0         0            0   \n",
       "32559             0         0            0          0         0            0   \n",
       "32560             0         0            0          0         0            0   \n",
       "\n",
       "       13_ Italy  13_ Jamaica  13_ Japan  13_ Laos  13_ Mexico  13_ Nicaragua  \\\n",
       "0              0            0          0         0           0              0   \n",
       "1              0            0          0         0           0              0   \n",
       "2              0            0          0         0           0              0   \n",
       "3              0            0          0         0           0              0   \n",
       "4              0            0          0         0           0              0   \n",
       "...          ...          ...        ...       ...         ...            ...   \n",
       "32556          0            0          0         0           0              0   \n",
       "32557          0            0          0         0           0              0   \n",
       "32558          0            0          0         0           0              0   \n",
       "32559          0            0          0         0           0              0   \n",
       "32560          0            0          0         0           0              0   \n",
       "\n",
       "       13_ Outlying-US(Guam-USVI-etc)  13_ Peru  13_ Philippines  13_ Poland  \\\n",
       "0                                   0         0                0           0   \n",
       "1                                   0         0                0           0   \n",
       "2                                   0         0                0           0   \n",
       "3                                   0         0                0           0   \n",
       "4                                   0         0                0           0   \n",
       "...                               ...       ...              ...         ...   \n",
       "32556                               0         0                0           0   \n",
       "32557                               0         0                0           0   \n",
       "32558                               0         0                0           0   \n",
       "32559                               0         0                0           0   \n",
       "32560                               0         0                0           0   \n",
       "\n",
       "       13_ Portugal  13_ Puerto-Rico  13_ Scotland  13_ South  13_ Taiwan  \\\n",
       "0                 0                0             0          0           0   \n",
       "1                 0                0             0          0           0   \n",
       "2                 0                0             0          0           0   \n",
       "3                 0                0             0          0           0   \n",
       "4                 0                0             0          0           0   \n",
       "...             ...              ...           ...        ...         ...   \n",
       "32556             0                0             0          0           0   \n",
       "32557             0                0             0          0           0   \n",
       "32558             0                0             0          0           0   \n",
       "32559             0                0             0          0           0   \n",
       "32560             0                0             0          0           0   \n",
       "\n",
       "       13_ Thailand  13_ Trinadad&Tobago  13_ United-States  13_ Vietnam  \\\n",
       "0                 0                    0                  1            0   \n",
       "1                 0                    0                  1            0   \n",
       "2                 0                    0                  1            0   \n",
       "3                 0                    0                  1            0   \n",
       "4                 0                    0                  0            0   \n",
       "...             ...                  ...                ...          ...   \n",
       "32556             0                    0                  1            0   \n",
       "32557             0                    0                  1            0   \n",
       "32558             0                    0                  1            0   \n",
       "32559             0                    0                  1            0   \n",
       "32560             0                    0                  1            0   \n",
       "\n",
       "       13_ Yugoslavia  target_ >50K  \n",
       "0                   0             0  \n",
       "1                   0             0  \n",
       "2                   0             0  \n",
       "3                   0             0  \n",
       "4                   0             0  \n",
       "...               ...           ...  \n",
       "32556               0             0  \n",
       "32557               0             1  \n",
       "32558               0             0  \n",
       "32559               0             0  \n",
       "32560               0             1  \n",
       "\n",
       "[30162 rows x 97 columns]"
      ]
     },
     "execution_count": 20,
     "metadata": {},
     "output_type": "execute_result"
    }
   ],
   "source": [
    "df"
   ]
  },
  {
   "cell_type": "code",
   "execution_count": 21,
   "metadata": {},
   "outputs": [],
   "source": [
    "X = df.drop(columns='target_ >50K')"
   ]
  },
  {
   "cell_type": "code",
   "execution_count": 22,
   "metadata": {},
   "outputs": [],
   "source": [
    "y = df[['target_ >50K']]"
   ]
  },
  {
   "cell_type": "markdown",
   "metadata": {},
   "source": [
    "# Data Preprocessing"
   ]
  },
  {
   "cell_type": "code",
   "execution_count": 23,
   "metadata": {},
   "outputs": [],
   "source": [
    "from sklearn.model_selection import train_test_split"
   ]
  },
  {
   "cell_type": "code",
   "execution_count": 24,
   "metadata": {},
   "outputs": [],
   "source": [
    "X_train, X_test, y_train, y_test = train_test_split(X.values, y.values.flatten(), test_size=0.30, random_state=42)"
   ]
  },
  {
   "cell_type": "markdown",
   "metadata": {},
   "source": [
    "# `DecisionTreeClassifier()` with Default Hyperparameters"
   ]
  },
  {
   "cell_type": "code",
   "execution_count": 13,
   "metadata": {},
   "outputs": [],
   "source": [
    "from sklearn.tree import DecisionTreeClassifier"
   ]
  },
  {
   "cell_type": "code",
   "execution_count": 14,
   "metadata": {},
   "outputs": [],
   "source": [
    "dt = DecisionTreeClassifier()"
   ]
  },
  {
   "cell_type": "code",
   "execution_count": 15,
   "metadata": {},
   "outputs": [
    {
     "data": {
      "text/plain": [
       "DecisionTreeClassifier()"
      ]
     },
     "execution_count": 15,
     "metadata": {},
     "output_type": "execute_result"
    }
   ],
   "source": [
    "dt.fit(X_train, y_train)"
   ]
  },
  {
   "cell_type": "code",
   "execution_count": 16,
   "metadata": {},
   "outputs": [
    {
     "data": {
      "text/plain": [
       "array([0, 0, 0, ..., 0, 0, 0], dtype=uint8)"
      ]
     },
     "execution_count": 16,
     "metadata": {},
     "output_type": "execute_result"
    }
   ],
   "source": [
    "dt.predict(X_test)"
   ]
  },
  {
   "cell_type": "markdown",
   "metadata": {},
   "source": [
    "## Accuracy"
   ]
  },
  {
   "cell_type": "markdown",
   "metadata": {},
   "source": [
    "> - `model.score()`\n",
    ">\n",
    "> In `train` data"
   ]
  },
  {
   "cell_type": "code",
   "execution_count": 17,
   "metadata": {},
   "outputs": [
    {
     "data": {
      "text/plain": [
       "1.0"
      ]
     },
     "execution_count": 17,
     "metadata": {},
     "output_type": "execute_result"
    }
   ],
   "source": [
    "dt.score(X_train, y_train)"
   ]
  },
  {
   "cell_type": "markdown",
   "metadata": {},
   "source": [
    "> In `test` data"
   ]
  },
  {
   "cell_type": "code",
   "execution_count": 18,
   "metadata": {},
   "outputs": [
    {
     "data": {
      "text/plain": [
       "0.8108078240689579"
      ]
     },
     "execution_count": 18,
     "metadata": {},
     "output_type": "execute_result"
    }
   ],
   "source": [
    "dt.score(X_test, y_test)"
   ]
  },
  {
   "cell_type": "markdown",
   "metadata": {},
   "source": [
    "## Model Visualization"
   ]
  },
  {
   "cell_type": "markdown",
   "metadata": {},
   "source": [
    "> - We'll use `plot_tree()`, located within `tree` module from `sklearn` library\n",
    "> - You may use `shift + tab` to ask `Python` how the function `plot_tree()` works"
   ]
  },
  {
   "cell_type": "code",
   "execution_count": 19,
   "metadata": {},
   "outputs": [],
   "source": [
    "from sklearn import tree\n",
    "from sklearn.tree import plot_tree"
   ]
  },
  {
   "cell_type": "code",
   "execution_count": 20,
   "metadata": {
    "tags": []
   },
   "outputs": [
    {
     "data": {
      "image/png": "[encoded data removed]",
      "text/plain": [
       "<Figure size 432x288 with 1 Axes>"
      ]
     },
     "metadata": {
      "needs_background": "light"
     },
     "output_type": "display_data"
    }
   ],
   "source": [
    "plot_tree(decision_tree=dt, feature_names=X.columns, filled=True, max_depth=10);"
   ]
  },
  {
   "cell_type": "markdown",
   "metadata": {},
   "source": [
    "## Interpretation"
   ]
  },
  {
   "cell_type": "markdown",
   "metadata": {},
   "source": [
    "> - Why the difference on accuracy is so much?"
   ]
  },
  {
   "cell_type": "markdown",
   "metadata": {},
   "source": [
    "# `DecisionTreeClassifier()` with Custom Hyperparameters"
   ]
  },
  {
   "cell_type": "markdown",
   "metadata": {},
   "source": [
    "> - The `model` has this hyperparameters ↓"
   ]
  },
  {
   "cell_type": "code",
   "execution_count": 21,
   "metadata": {},
   "outputs": [],
   "source": [
    "model = DecisionTreeClassifier()"
   ]
  },
  {
   "cell_type": "code",
   "execution_count": 22,
   "metadata": {},
   "outputs": [
    {
     "data": {
      "text/plain": [
       "{'ccp_alpha': 0.0,\n",
       " 'class_weight': None,\n",
       " 'criterion': 'gini',\n",
       " 'max_depth': None,\n",
       " 'max_features': None,\n",
       " 'max_leaf_nodes': None,\n",
       " 'min_impurity_decrease': 0.0,\n",
       " 'min_impurity_split': None,\n",
       " 'min_samples_leaf': 1,\n",
       " 'min_samples_split': 2,\n",
       " 'min_weight_fraction_leaf': 0.0,\n",
       " 'random_state': None,\n",
       " 'splitter': 'best'}"
      ]
     },
     "execution_count": 22,
     "metadata": {},
     "output_type": "execute_result"
    }
   ],
   "source": [
    "model.get_params()"
   ]
  },
  {
   "cell_type": "markdown",
   "metadata": {},
   "source": [
    "## 1st Configuration"
   ]
  },
  {
   "cell_type": "code",
   "execution_count": 23,
   "metadata": {},
   "outputs": [],
   "source": [
    "model = DecisionTreeClassifier(max_depth=3)"
   ]
  },
  {
   "cell_type": "code",
   "execution_count": 24,
   "metadata": {},
   "outputs": [
    {
     "data": {
      "text/plain": [
       "DecisionTreeClassifier(max_depth=3)"
      ]
     },
     "execution_count": 24,
     "metadata": {},
     "output_type": "execute_result"
    }
   ],
   "source": [
    "model.fit(X_train, y_train)"
   ]
  },
  {
   "cell_type": "markdown",
   "metadata": {},
   "source": [
    "### Accuracy"
   ]
  },
  {
   "cell_type": "markdown",
   "metadata": {},
   "source": [
    "> In `train` data"
   ]
  },
  {
   "cell_type": "code",
   "execution_count": 25,
   "metadata": {},
   "outputs": [
    {
     "data": {
      "text/plain": [
       "0.8400985175010657"
      ]
     },
     "execution_count": 25,
     "metadata": {},
     "output_type": "execute_result"
    }
   ],
   "source": [
    "model.score(X_train, y_train)"
   ]
  },
  {
   "cell_type": "markdown",
   "metadata": {},
   "source": [
    "> In `test` data"
   ]
  },
  {
   "cell_type": "code",
   "execution_count": 26,
   "metadata": {},
   "outputs": [
    {
     "data": {
      "text/plain": [
       "0.8406453751795778"
      ]
     },
     "execution_count": 26,
     "metadata": {},
     "output_type": "execute_result"
    }
   ],
   "source": [
    "model.score(X_test, y_test)"
   ]
  },
  {
   "cell_type": "markdown",
   "metadata": {},
   "source": [
    "### Model Visualization"
   ]
  },
  {
   "cell_type": "markdown",
   "metadata": {},
   "source": [
    "> - `plot_tree()`"
   ]
  },
  {
   "cell_type": "code",
   "execution_count": 27,
   "metadata": {},
   "outputs": [
    {
     "data": {
      "image/png": "[encoded data removed]",
      "text/plain": [
       "<Figure size 432x288 with 1 Axes>"
      ]
     },
     "metadata": {
      "needs_background": "light"
     },
     "output_type": "display_data"
    }
   ],
   "source": [
    "plot_tree(decision_tree=model, feature_names=X.columns, filled=True);"
   ]
  },
  {
   "cell_type": "markdown",
   "metadata": {},
   "source": [
    "## 2nd Configuration"
   ]
  },
  {
   "cell_type": "code",
   "execution_count": 28,
   "metadata": {},
   "outputs": [],
   "source": [
    "model = DecisionTreeClassifier(min_samples_leaf=2)"
   ]
  },
  {
   "cell_type": "code",
   "execution_count": 29,
   "metadata": {},
   "outputs": [
    {
     "data": {
      "text/plain": [
       "DecisionTreeClassifier(min_samples_leaf=2)"
      ]
     },
     "execution_count": 29,
     "metadata": {},
     "output_type": "execute_result"
    }
   ],
   "source": [
    "model.fit(X_train, y_train)"
   ]
  },
  {
   "cell_type": "markdown",
   "metadata": {},
   "source": [
    "### Accuracy"
   ]
  },
  {
   "cell_type": "markdown",
   "metadata": {},
   "source": [
    "> In `train` data"
   ]
  },
  {
   "cell_type": "code",
   "execution_count": 30,
   "metadata": {},
   "outputs": [
    {
     "data": {
      "text/plain": [
       "0.9571827783829868"
      ]
     },
     "execution_count": 30,
     "metadata": {},
     "output_type": "execute_result"
    }
   ],
   "source": [
    "model.score(X_train, y_train)"
   ]
  },
  {
   "cell_type": "markdown",
   "metadata": {},
   "source": [
    "> In `test` data"
   ]
  },
  {
   "cell_type": "code",
   "execution_count": 31,
   "metadata": {},
   "outputs": [
    {
     "data": {
      "text/plain": [
       "0.8197590894021439"
      ]
     },
     "execution_count": 31,
     "metadata": {},
     "output_type": "execute_result"
    }
   ],
   "source": [
    "model.score(X_test, y_test)"
   ]
  },
  {
   "cell_type": "markdown",
   "metadata": {},
   "source": [
    "### Model Visualization"
   ]
  },
  {
   "cell_type": "markdown",
   "metadata": {},
   "source": [
    "> - `plot_tree()`"
   ]
  },
  {
   "cell_type": "code",
   "execution_count": 32,
   "metadata": {},
   "outputs": [
    {
     "data": {
      "image/png": "[encoded data removed]",
      "text/plain": [
       "<Figure size 432x288 with 1 Axes>"
      ]
     },
     "metadata": {
      "needs_background": "light"
     },
     "output_type": "display_data"
    }
   ],
   "source": [
    "plot_tree(decision_tree=model, feature_names=X.columns, filled=True, max_depth=10);"
   ]
  },
  {
   "cell_type": "markdown",
   "metadata": {},
   "source": [
    "## 3rd Configuration"
   ]
  },
  {
   "cell_type": "code",
   "execution_count": 33,
   "metadata": {},
   "outputs": [],
   "source": [
    "model = DecisionTreeClassifier(splitter='random', min_samples_leaf=10)"
   ]
  },
  {
   "cell_type": "code",
   "execution_count": 34,
   "metadata": {},
   "outputs": [
    {
     "data": {
      "text/plain": [
       "DecisionTreeClassifier(min_samples_leaf=10, splitter='random')"
      ]
     },
     "execution_count": 34,
     "metadata": {},
     "output_type": "execute_result"
    }
   ],
   "source": [
    "model.fit(X_train, y_train)"
   ]
  },
  {
   "cell_type": "markdown",
   "metadata": {},
   "source": [
    "### Accuracy"
   ]
  },
  {
   "cell_type": "markdown",
   "metadata": {},
   "source": [
    "> In `train` data"
   ]
  },
  {
   "cell_type": "code",
   "execution_count": 35,
   "metadata": {},
   "outputs": [
    {
     "data": {
      "text/plain": [
       "0.8675223795765642"
      ]
     },
     "execution_count": 35,
     "metadata": {},
     "output_type": "execute_result"
    }
   ],
   "source": [
    "model.score(X_train, y_train)"
   ]
  },
  {
   "cell_type": "markdown",
   "metadata": {},
   "source": [
    "> In `test` data"
   ]
  },
  {
   "cell_type": "code",
   "execution_count": 36,
   "metadata": {},
   "outputs": [
    {
     "data": {
      "text/plain": [
       "0.8358934688915902"
      ]
     },
     "execution_count": 36,
     "metadata": {},
     "output_type": "execute_result"
    }
   ],
   "source": [
    "model.score(X_test, y_test)"
   ]
  },
  {
   "cell_type": "markdown",
   "metadata": {},
   "source": [
    "### Model Visualization"
   ]
  },
  {
   "cell_type": "markdown",
   "metadata": {},
   "source": [
    "> - `plot_tree()`"
   ]
  },
  {
   "cell_type": "code",
   "execution_count": 37,
   "metadata": {},
   "outputs": [
    {
     "data": {
      "image/png": "[encoded data removed]",
      "text/plain": [
       "<Figure size 432x288 with 1 Axes>"
      ]
     },
     "metadata": {
      "needs_background": "light"
     },
     "output_type": "display_data"
    }
   ],
   "source": [
    "plot_tree(decision_tree=model, feature_names=X.columns, filled=True, max_depth=10);"
   ]
  },
  {
   "cell_type": "markdown",
   "metadata": {},
   "source": [
    "## 4th Configuration"
   ]
  },
  {
   "cell_type": "code",
   "execution_count": 38,
   "metadata": {},
   "outputs": [],
   "source": [
    "model = DecisionTreeClassifier(splitter='random', max_depth=3, min_samples_leaf=4, min_samples_split=6)"
   ]
  },
  {
   "cell_type": "code",
   "execution_count": 39,
   "metadata": {},
   "outputs": [
    {
     "data": {
      "text/plain": [
       "DecisionTreeClassifier(max_depth=3, min_samples_leaf=4, min_samples_split=6,\n",
       "                       splitter='random')"
      ]
     },
     "execution_count": 39,
     "metadata": {},
     "output_type": "execute_result"
    }
   ],
   "source": [
    "model.fit(X_train, y_train)"
   ]
  },
  {
   "cell_type": "markdown",
   "metadata": {},
   "source": [
    "### Accuracy"
   ]
  },
  {
   "cell_type": "markdown",
   "metadata": {},
   "source": [
    "> In `train` data"
   ]
  },
  {
   "cell_type": "code",
   "execution_count": 40,
   "metadata": {},
   "outputs": [
    {
     "data": {
      "text/plain": [
       "0.8097380760668782"
      ]
     },
     "execution_count": 40,
     "metadata": {},
     "output_type": "execute_result"
    }
   ],
   "source": [
    "model.score(X_train, y_train)"
   ]
  },
  {
   "cell_type": "markdown",
   "metadata": {},
   "source": [
    "> In `test` data"
   ]
  },
  {
   "cell_type": "code",
   "execution_count": 41,
   "metadata": {},
   "outputs": [
    {
     "data": {
      "text/plain": [
       "0.8087081445463588"
      ]
     },
     "execution_count": 41,
     "metadata": {},
     "output_type": "execute_result"
    }
   ],
   "source": [
    "model.score(X_test, y_test)"
   ]
  },
  {
   "cell_type": "markdown",
   "metadata": {},
   "source": [
    "### Model Visualization"
   ]
  },
  {
   "cell_type": "markdown",
   "metadata": {},
   "source": [
    "> - `plot_tree()`"
   ]
  },
  {
   "cell_type": "code",
   "execution_count": 42,
   "metadata": {},
   "outputs": [
    {
     "data": {
      "image/png": "[encoded data removed]",
      "text/plain": [
       "<Figure size 432x288 with 1 Axes>"
      ]
     },
     "metadata": {
      "needs_background": "light"
     },
     "output_type": "display_data"
    }
   ],
   "source": [
    "plot_tree(decision_tree=model, feature_names=X.columns, filled=True);"
   ]
  },
  {
   "cell_type": "markdown",
   "metadata": {},
   "source": [
    "## 5th Configuration"
   ]
  },
  {
   "cell_type": "code",
   "execution_count": 43,
   "metadata": {},
   "outputs": [],
   "source": [
    "model = DecisionTreeClassifier(max_depth=4, min_samples_leaf=200, ccp_alpha=10, max_features=15)"
   ]
  },
  {
   "cell_type": "code",
   "execution_count": 44,
   "metadata": {},
   "outputs": [
    {
     "data": {
      "text/plain": [
       "DecisionTreeClassifier(ccp_alpha=10, max_depth=4, max_features=15,\n",
       "                       min_samples_leaf=200)"
      ]
     },
     "execution_count": 44,
     "metadata": {},
     "output_type": "execute_result"
    }
   ],
   "source": [
    "model.fit(X_train, y_train)"
   ]
  },
  {
   "cell_type": "markdown",
   "metadata": {},
   "source": [
    "### Accuracy"
   ]
  },
  {
   "cell_type": "markdown",
   "metadata": {},
   "source": [
    "> In `train` data"
   ]
  },
  {
   "cell_type": "code",
   "execution_count": 45,
   "metadata": {},
   "outputs": [
    {
     "data": {
      "text/plain": [
       "0.7524747785724435"
      ]
     },
     "execution_count": 45,
     "metadata": {},
     "output_type": "execute_result"
    }
   ],
   "source": [
    "model.score(X_train, y_train)"
   ]
  },
  {
   "cell_type": "markdown",
   "metadata": {},
   "source": [
    "> In `test` data"
   ]
  },
  {
   "cell_type": "code",
   "execution_count": 46,
   "metadata": {},
   "outputs": [
    {
     "data": {
      "text/plain": [
       "0.7478174383909825"
      ]
     },
     "execution_count": 46,
     "metadata": {},
     "output_type": "execute_result"
    }
   ],
   "source": [
    "model.score(X_test, y_test)"
   ]
  },
  {
   "cell_type": "markdown",
   "metadata": {},
   "source": [
    "### Model Visualization"
   ]
  },
  {
   "cell_type": "markdown",
   "metadata": {},
   "source": [
    "> - `plot_tree()`"
   ]
  },
  {
   "cell_type": "code",
   "execution_count": 47,
   "metadata": {},
   "outputs": [
    {
     "data": {
      "image/png": "[encoded data removed]",
      "text/plain": [
       "<Figure size 432x288 with 1 Axes>"
      ]
     },
     "metadata": {
      "needs_background": "light"
     },
     "output_type": "display_data"
    }
   ],
   "source": [
    "plot_tree(decision_tree=model, feature_names=X.columns, filled=True);"
   ]
  },
  {
   "cell_type": "markdown",
   "metadata": {},
   "source": [
    "# `GridSearchCV()` to find Best Hyperparameters"
   ]
  },
  {
   "cell_type": "markdown",
   "metadata": {},
   "source": [
    "> - How many scores for each fold?"
   ]
  },
  {
   "cell_type": "markdown",
   "metadata": {},
   "source": [
    "<img src=\"src/grid_search_cross_validation.png\" style=\"margin-top: 100px\"/>"
   ]
  },
  {
   "cell_type": "code",
   "execution_count": 8,
   "metadata": {},
   "outputs": [],
   "source": [
    "from sklearn.model_selection import GridSearchCV"
   ]
  },
  {
   "cell_type": "code",
   "execution_count": 49,
   "metadata": {},
   "outputs": [],
   "source": [
    "cv = GridSearchCV(estimator=dt, param_grid={'min_samples_leaf': [50, 100, 200],\n",
    "                                            'criterion': ['gini', 'entropy'],\n",
    "                                           'max_depth': [5,8,11, 15]}, verbose=2)"
   ]
  },
  {
   "cell_type": "code",
   "execution_count": 52,
   "metadata": {},
   "outputs": [
    {
     "name": "stdout",
     "output_type": "stream",
     "text": [
      "Fitting 5 folds for each of 24 candidates, totalling 120 fits\n",
      "[CV] END ...criterion=gini, max_depth=5, min_samples_leaf=50; total time=   0.0s\n",
      "[CV] END ...criterion=gini, max_depth=5, min_samples_leaf=50; total time=   0.0s\n",
      "[CV] END ...criterion=gini, max_depth=5, min_samples_leaf=50; total time=   0.0s\n",
      "[CV] END ...criterion=gini, max_depth=5, min_samples_leaf=50; total time=   0.0s\n",
      "[CV] END ...criterion=gini, max_depth=5, min_samples_leaf=50; total time=   0.0s\n",
      "[CV] END ..criterion=gini, max_depth=5, min_samples_leaf=100; total time=   0.0s\n",
      "[CV] END ..criterion=gini, max_depth=5, min_samples_leaf=100; total time=   0.0s\n",
      "[CV] END ..criterion=gini, max_depth=5, min_samples_leaf=100; total time=   0.0s\n",
      "[CV] END ..criterion=gini, max_depth=5, min_samples_leaf=100; total time=   0.0s\n",
      "[CV] END ..criterion=gini, max_depth=5, min_samples_leaf=100; total time=   0.0s\n",
      "[CV] END ..criterion=gini, max_depth=5, min_samples_leaf=200; total time=   0.0s\n",
      "[CV] END ..criterion=gini, max_depth=5, min_samples_leaf=200; total time=   0.0s\n",
      "[CV] END ..criterion=gini, max_depth=5, min_samples_leaf=200; total time=   0.0s\n",
      "[CV] END ..criterion=gini, max_depth=5, min_samples_leaf=200; total time=   0.0s\n",
      "[CV] END ..criterion=gini, max_depth=5, min_samples_leaf=200; total time=   0.0s\n",
      "[CV] END ...criterion=gini, max_depth=8, min_samples_leaf=50; total time=   0.0s\n",
      "[CV] END ...criterion=gini, max_depth=8, min_samples_leaf=50; total time=   0.0s\n",
      "[CV] END ...criterion=gini, max_depth=8, min_samples_leaf=50; total time=   0.0s\n",
      "[CV] END ...criterion=gini, max_depth=8, min_samples_leaf=50; total time=   0.0s\n",
      "[CV] END ...criterion=gini, max_depth=8, min_samples_leaf=50; total time=   0.0s\n",
      "[CV] END ..criterion=gini, max_depth=8, min_samples_leaf=100; total time=   0.1s\n",
      "[CV] END ..criterion=gini, max_depth=8, min_samples_leaf=100; total time=   0.0s\n",
      "[CV] END ..criterion=gini, max_depth=8, min_samples_leaf=100; total time=   0.0s\n",
      "[CV] END ..criterion=gini, max_depth=8, min_samples_leaf=100; total time=   0.0s\n",
      "[CV] END ..criterion=gini, max_depth=8, min_samples_leaf=100; total time=   0.0s\n",
      "[CV] END ..criterion=gini, max_depth=8, min_samples_leaf=200; total time=   0.0s\n",
      "[CV] END ..criterion=gini, max_depth=8, min_samples_leaf=200; total time=   0.0s\n",
      "[CV] END ..criterion=gini, max_depth=8, min_samples_leaf=200; total time=   0.0s\n",
      "[CV] END ..criterion=gini, max_depth=8, min_samples_leaf=200; total time=   0.0s\n",
      "[CV] END ..criterion=gini, max_depth=8, min_samples_leaf=200; total time=   0.0s\n",
      "[CV] END ..criterion=gini, max_depth=11, min_samples_leaf=50; total time=   0.0s\n",
      "[CV] END ..criterion=gini, max_depth=11, min_samples_leaf=50; total time=   0.0s\n",
      "[CV] END ..criterion=gini, max_depth=11, min_samples_leaf=50; total time=   0.0s\n",
      "[CV] END ..criterion=gini, max_depth=11, min_samples_leaf=50; total time=   0.0s\n",
      "[CV] END ..criterion=gini, max_depth=11, min_samples_leaf=50; total time=   0.0s\n",
      "[CV] END .criterion=gini, max_depth=11, min_samples_leaf=100; total time=   0.0s\n",
      "[CV] END .criterion=gini, max_depth=11, min_samples_leaf=100; total time=   0.0s\n",
      "[CV] END .criterion=gini, max_depth=11, min_samples_leaf=100; total time=   0.0s\n",
      "[CV] END .criterion=gini, max_depth=11, min_samples_leaf=100; total time=   0.0s\n",
      "[CV] END .criterion=gini, max_depth=11, min_samples_leaf=100; total time=   0.0s\n",
      "[CV] END .criterion=gini, max_depth=11, min_samples_leaf=200; total time=   0.0s\n",
      "[CV] END .criterion=gini, max_depth=11, min_samples_leaf=200; total time=   0.0s\n",
      "[CV] END .criterion=gini, max_depth=11, min_samples_leaf=200; total time=   0.0s\n",
      "[CV] END .criterion=gini, max_depth=11, min_samples_leaf=200; total time=   0.0s\n",
      "[CV] END .criterion=gini, max_depth=11, min_samples_leaf=200; total time=   0.0s\n",
      "[CV] END ..criterion=gini, max_depth=15, min_samples_leaf=50; total time=   0.0s\n",
      "[CV] END ..criterion=gini, max_depth=15, min_samples_leaf=50; total time=   0.0s\n",
      "[CV] END ..criterion=gini, max_depth=15, min_samples_leaf=50; total time=   0.0s\n",
      "[CV] END ..criterion=gini, max_depth=15, min_samples_leaf=50; total time=   0.0s\n",
      "[CV] END ..criterion=gini, max_depth=15, min_samples_leaf=50; total time=   0.0s\n",
      "[CV] END .criterion=gini, max_depth=15, min_samples_leaf=100; total time=   0.0s\n",
      "[CV] END .criterion=gini, max_depth=15, min_samples_leaf=100; total time=   0.0s\n",
      "[CV] END .criterion=gini, max_depth=15, min_samples_leaf=100; total time=   0.0s\n",
      "[CV] END .criterion=gini, max_depth=15, min_samples_leaf=100; total time=   0.0s\n",
      "[CV] END .criterion=gini, max_depth=15, min_samples_leaf=100; total time=   0.0s\n",
      "[CV] END .criterion=gini, max_depth=15, min_samples_leaf=200; total time=   0.0s\n",
      "[CV] END .criterion=gini, max_depth=15, min_samples_leaf=200; total time=   0.0s\n",
      "[CV] END .criterion=gini, max_depth=15, min_samples_leaf=200; total time=   0.0s\n",
      "[CV] END .criterion=gini, max_depth=15, min_samples_leaf=200; total time=   0.0s\n",
      "[CV] END .criterion=gini, max_depth=15, min_samples_leaf=200; total time=   0.0s\n",
      "[CV] END criterion=entropy, max_depth=5, min_samples_leaf=50; total time=   0.0s\n",
      "[CV] END criterion=entropy, max_depth=5, min_samples_leaf=50; total time=   0.0s\n",
      "[CV] END criterion=entropy, max_depth=5, min_samples_leaf=50; total time=   0.0s\n",
      "[CV] END criterion=entropy, max_depth=5, min_samples_leaf=50; total time=   0.0s\n",
      "[CV] END criterion=entropy, max_depth=5, min_samples_leaf=50; total time=   0.0s\n",
      "[CV] END criterion=entropy, max_depth=5, min_samples_leaf=100; total time=   0.0s\n",
      "[CV] END criterion=entropy, max_depth=5, min_samples_leaf=100; total time=   0.0s\n",
      "[CV] END criterion=entropy, max_depth=5, min_samples_leaf=100; total time=   0.0s\n",
      "[CV] END criterion=entropy, max_depth=5, min_samples_leaf=100; total time=   0.0s\n",
      "[CV] END criterion=entropy, max_depth=5, min_samples_leaf=100; total time=   0.0s\n",
      "[CV] END criterion=entropy, max_depth=5, min_samples_leaf=200; total time=   0.0s\n",
      "[CV] END criterion=entropy, max_depth=5, min_samples_leaf=200; total time=   0.0s\n",
      "[CV] END criterion=entropy, max_depth=5, min_samples_leaf=200; total time=   0.0s\n",
      "[CV] END criterion=entropy, max_depth=5, min_samples_leaf=200; total time=   0.0s\n",
      "[CV] END criterion=entropy, max_depth=5, min_samples_leaf=200; total time=   0.0s\n",
      "[CV] END criterion=entropy, max_depth=8, min_samples_leaf=50; total time=   0.0s\n",
      "[CV] END criterion=entropy, max_depth=8, min_samples_leaf=50; total time=   0.0s\n",
      "[CV] END criterion=entropy, max_depth=8, min_samples_leaf=50; total time=   0.0s\n",
      "[CV] END criterion=entropy, max_depth=8, min_samples_leaf=50; total time=   0.0s\n",
      "[CV] END criterion=entropy, max_depth=8, min_samples_leaf=50; total time=   0.0s\n",
      "[CV] END criterion=entropy, max_depth=8, min_samples_leaf=100; total time=   0.0s\n",
      "[CV] END criterion=entropy, max_depth=8, min_samples_leaf=100; total time=   0.0s\n",
      "[CV] END criterion=entropy, max_depth=8, min_samples_leaf=100; total time=   0.0s\n",
      "[CV] END criterion=entropy, max_depth=8, min_samples_leaf=100; total time=   0.0s\n",
      "[CV] END criterion=entropy, max_depth=8, min_samples_leaf=100; total time=   0.0s\n",
      "[CV] END criterion=entropy, max_depth=8, min_samples_leaf=200; total time=   0.0s\n",
      "[CV] END criterion=entropy, max_depth=8, min_samples_leaf=200; total time=   0.0s\n",
      "[CV] END criterion=entropy, max_depth=8, min_samples_leaf=200; total time=   0.0s\n",
      "[CV] END criterion=entropy, max_depth=8, min_samples_leaf=200; total time=   0.0s\n",
      "[CV] END criterion=entropy, max_depth=8, min_samples_leaf=200; total time=   0.0s\n",
      "[CV] END criterion=entropy, max_depth=11, min_samples_leaf=50; total time=   0.0s\n",
      "[CV] END criterion=entropy, max_depth=11, min_samples_leaf=50; total time=   0.0s\n",
      "[CV] END criterion=entropy, max_depth=11, min_samples_leaf=50; total time=   0.0s\n",
      "[CV] END criterion=entropy, max_depth=11, min_samples_leaf=50; total time=   0.0s\n",
      "[CV] END criterion=entropy, max_depth=11, min_samples_leaf=50; total time=   0.0s\n",
      "[CV] END criterion=entropy, max_depth=11, min_samples_leaf=100; total time=   0.0s\n",
      "[CV] END criterion=entropy, max_depth=11, min_samples_leaf=100; total time=   0.0s\n",
      "[CV] END criterion=entropy, max_depth=11, min_samples_leaf=100; total time=   0.0s\n",
      "[CV] END criterion=entropy, max_depth=11, min_samples_leaf=100; total time=   0.0s\n",
      "[CV] END criterion=entropy, max_depth=11, min_samples_leaf=100; total time=   0.0s\n",
      "[CV] END criterion=entropy, max_depth=11, min_samples_leaf=200; total time=   0.0s\n",
      "[CV] END criterion=entropy, max_depth=11, min_samples_leaf=200; total time=   0.0s\n",
      "[CV] END criterion=entropy, max_depth=11, min_samples_leaf=200; total time=   0.0s\n",
      "[CV] END criterion=entropy, max_depth=11, min_samples_leaf=200; total time=   0.0s\n",
      "[CV] END criterion=entropy, max_depth=11, min_samples_leaf=200; total time=   0.0s\n",
      "[CV] END criterion=entropy, max_depth=15, min_samples_leaf=50; total time=   0.0s\n",
      "[CV] END criterion=entropy, max_depth=15, min_samples_leaf=50; total time=   0.0s\n",
      "[CV] END criterion=entropy, max_depth=15, min_samples_leaf=50; total time=   0.0s\n",
      "[CV] END criterion=entropy, max_depth=15, min_samples_leaf=50; total time=   0.0s\n",
      "[CV] END criterion=entropy, max_depth=15, min_samples_leaf=50; total time=   0.0s\n",
      "[CV] END criterion=entropy, max_depth=15, min_samples_leaf=100; total time=   0.0s\n",
      "[CV] END criterion=entropy, max_depth=15, min_samples_leaf=100; total time=   0.0s\n",
      "[CV] END criterion=entropy, max_depth=15, min_samples_leaf=100; total time=   0.0s\n",
      "[CV] END criterion=entropy, max_depth=15, min_samples_leaf=100; total time=   0.1s\n",
      "[CV] END criterion=entropy, max_depth=15, min_samples_leaf=100; total time=   0.1s\n",
      "[CV] END criterion=entropy, max_depth=15, min_samples_leaf=200; total time=   0.1s\n",
      "[CV] END criterion=entropy, max_depth=15, min_samples_leaf=200; total time=   0.0s\n",
      "[CV] END criterion=entropy, max_depth=15, min_samples_leaf=200; total time=   0.1s\n",
      "[CV] END criterion=entropy, max_depth=15, min_samples_leaf=200; total time=   0.0s\n",
      "[CV] END criterion=entropy, max_depth=15, min_samples_leaf=200; total time=   0.1s\n"
     ]
    },
    {
     "data": {
      "text/plain": [
       "GridSearchCV(estimator=DecisionTreeClassifier(),\n",
       "             param_grid={'criterion': ['gini', 'entropy'],\n",
       "                         'max_depth': [5, 8, 11, 15],\n",
       "                         'min_samples_leaf': [50, 100, 200]},\n",
       "             verbose=2)"
      ]
     },
     "execution_count": 52,
     "metadata": {},
     "output_type": "execute_result"
    }
   ],
   "source": [
    "cv.fit(X_train, y_train)"
   ]
  },
  {
   "cell_type": "code",
   "execution_count": 53,
   "metadata": {},
   "outputs": [
    {
     "data": {
      "text/plain": [
       "{'criterion': 'entropy', 'max_depth': 15, 'min_samples_leaf': 100}"
      ]
     },
     "execution_count": 53,
     "metadata": {},
     "output_type": "execute_result"
    }
   ],
   "source": [
    "cv.best_params_"
   ]
  },
  {
   "cell_type": "markdown",
   "metadata": {},
   "source": [
    "# Other Models"
   ]
  },
  {
   "cell_type": "code",
   "execution_count": 6,
   "metadata": {},
   "outputs": [],
   "source": [
    "from sklearn.model_selection import GridSearchCV"
   ]
  },
  {
   "cell_type": "markdown",
   "metadata": {},
   "source": [
    "## Support Vector Machines `SVC()`"
   ]
  },
  {
   "cell_type": "markdown",
   "metadata": {},
   "source": [
    "> - https://jakevdp.github.io/PythonDataScienceHandbook/05.07-support-vector-machines.html"
   ]
  },
  {
   "cell_type": "code",
   "execution_count": 54,
   "metadata": {},
   "outputs": [
    {
     "data": {
      "text/html": [
       "<iframe width=\"560\" height=\"315\" src=\"https://www.youtube.com/embed/efR1C6CvhmE\" title=\"YouTube video player\" frameborder=\"0\" allow=\"accelerometer; autoplay; clipboard-write; encrypted-media; gyroscope; picture-in-picture\" allowfullscreen></iframe>\n"
      ],
      "text/plain": [
       "<IPython.core.display.HTML object>"
      ]
     },
     "metadata": {},
     "output_type": "display_data"
    }
   ],
   "source": [
    "%%HTML\n",
    "<iframe width=\"560\" height=\"315\" src=\"https://www.youtube.com/embed/efR1C6CvhmE\" title=\"YouTube video player\" frameborder=\"0\" allow=\"accelerometer; autoplay; clipboard-write; encrypted-media; gyroscope; picture-in-picture\" allowfullscreen></iframe>"
   ]
  },
  {
   "cell_type": "code",
   "execution_count": 44,
   "metadata": {},
   "outputs": [],
   "source": [
    "from sklearn.svm import SVC"
   ]
  },
  {
   "cell_type": "code",
   "execution_count": 45,
   "metadata": {},
   "outputs": [],
   "source": [
    "sv = SVC()"
   ]
  },
  {
   "cell_type": "code",
   "execution_count": 46,
   "metadata": {},
   "outputs": [
    {
     "data": {
      "text/plain": [
       "{'C': 1.0,\n",
       " 'break_ties': False,\n",
       " 'cache_size': 200,\n",
       " 'class_weight': None,\n",
       " 'coef0': 0.0,\n",
       " 'decision_function_shape': 'ovr',\n",
       " 'degree': 3,\n",
       " 'gamma': 'scale',\n",
       " 'kernel': 'rbf',\n",
       " 'max_iter': -1,\n",
       " 'probability': False,\n",
       " 'random_state': None,\n",
       " 'shrinking': True,\n",
       " 'tol': 0.001,\n",
       " 'verbose': False}"
      ]
     },
     "execution_count": 46,
     "metadata": {},
     "output_type": "execute_result"
    }
   ],
   "source": [
    "sv.get_params()"
   ]
  },
  {
   "cell_type": "code",
   "execution_count": 47,
   "metadata": {},
   "outputs": [],
   "source": [
    "sv_cv = GridSearchCV(estimator=sv, param_grid={'kernel': ['linear', 'poly', 'rbf', 'sigmoid', 'precomputed'],\n",
    "                                            'gamma': ['scale', 'auto'],\n",
    "                                           'C': [1,3,7, 15]}, verbose=2)"
   ]
  },
  {
   "cell_type": "code",
   "execution_count": null,
   "metadata": {},
   "outputs": [
    {
     "name": "stdout",
     "output_type": "stream",
     "text": [
      "Fitting 5 folds for each of 40 candidates, totalling 200 fits\n"
     ]
    }
   ],
   "source": [
    "sv_cv.fit(X_train, y_train)"
   ]
  },
  {
   "cell_type": "markdown",
   "metadata": {},
   "source": [
    "## `KNeighborsClassifier()`"
   ]
  },
  {
   "cell_type": "code",
   "execution_count": 25,
   "metadata": {},
   "outputs": [
    {
     "data": {
      "text/html": [
       "<iframe width=\"560\" height=\"315\" src=\"https://www.youtube.com/embed/HVXime0nQeI\" title=\"YouTube video player\" frameborder=\"0\" allow=\"accelerometer; autoplay; clipboard-write; encrypted-media; gyroscope; picture-in-picture\" allowfullscreen></iframe>\n"
      ],
      "text/plain": [
       "<IPython.core.display.HTML object>"
      ]
     },
     "metadata": {},
     "output_type": "display_data"
    }
   ],
   "source": [
    "%%HTML\n",
    "<iframe width=\"560\" height=\"315\" src=\"https://www.youtube.com/embed/HVXime0nQeI\" title=\"YouTube video player\" frameborder=\"0\" allow=\"accelerometer; autoplay; clipboard-write; encrypted-media; gyroscope; picture-in-picture\" allowfullscreen></iframe>"
   ]
  },
  {
   "cell_type": "code",
   "execution_count": 26,
   "metadata": {},
   "outputs": [],
   "source": [
    "from sklearn.neighbors import KNeighborsClassifier"
   ]
  },
  {
   "cell_type": "code",
   "execution_count": 27,
   "metadata": {},
   "outputs": [],
   "source": [
    "knc = KNeighborsClassifier()"
   ]
  },
  {
   "cell_type": "code",
   "execution_count": 28,
   "metadata": {},
   "outputs": [
    {
     "data": {
      "text/plain": [
       "{'algorithm': 'auto',\n",
       " 'leaf_size': 30,\n",
       " 'metric': 'minkowski',\n",
       " 'metric_params': None,\n",
       " 'n_jobs': None,\n",
       " 'n_neighbors': 5,\n",
       " 'p': 2,\n",
       " 'weights': 'uniform'}"
      ]
     },
     "execution_count": 28,
     "metadata": {},
     "output_type": "execute_result"
    }
   ],
   "source": [
    "knc.get_params()"
   ]
  },
  {
   "cell_type": "code",
   "execution_count": 29,
   "metadata": {},
   "outputs": [],
   "source": [
    "sv_knc = GridSearchCV(estimator=knc, param_grid={'n_neighbors': [5, 10, 15],\n",
    "                                            'weights': ['uniform', 'distance'],\n",
    "                                           'algorithm': ['auto', 'ball_tree', 'kd_tree', 'brute']}, verbose=2)"
   ]
  },
  {
   "cell_type": "code",
   "execution_count": 30,
   "metadata": {},
   "outputs": [
    {
     "name": "stdout",
     "output_type": "stream",
     "text": [
      "Fitting 5 folds for each of 24 candidates, totalling 120 fits\n",
      "[CV] END .....algorithm=auto, n_neighbors=5, weights=uniform; total time=  17.3s\n",
      "[CV] END .....algorithm=auto, n_neighbors=5, weights=uniform; total time=   4.7s\n",
      "[CV] END .....algorithm=auto, n_neighbors=5, weights=uniform; total time=   2.9s\n",
      "[CV] END .....algorithm=auto, n_neighbors=5, weights=uniform; total time=   2.6s\n",
      "[CV] END .....algorithm=auto, n_neighbors=5, weights=uniform; total time=   2.7s\n",
      "[CV] END ....algorithm=auto, n_neighbors=5, weights=distance; total time=   2.5s\n",
      "[CV] END ....algorithm=auto, n_neighbors=5, weights=distance; total time=   2.7s\n",
      "[CV] END ....algorithm=auto, n_neighbors=5, weights=distance; total time=   2.7s\n",
      "[CV] END ....algorithm=auto, n_neighbors=5, weights=distance; total time=   2.5s\n",
      "[CV] END ....algorithm=auto, n_neighbors=5, weights=distance; total time=   2.5s\n",
      "[CV] END ....algorithm=auto, n_neighbors=10, weights=uniform; total time=   2.8s\n",
      "[CV] END ....algorithm=auto, n_neighbors=10, weights=uniform; total time=   2.7s\n",
      "[CV] END ....algorithm=auto, n_neighbors=10, weights=uniform; total time=   2.7s\n",
      "[CV] END ....algorithm=auto, n_neighbors=10, weights=uniform; total time=   2.7s\n",
      "[CV] END ....algorithm=auto, n_neighbors=10, weights=uniform; total time=   2.8s\n",
      "[CV] END ...algorithm=auto, n_neighbors=10, weights=distance; total time=   2.7s\n",
      "[CV] END ...algorithm=auto, n_neighbors=10, weights=distance; total time=   2.4s\n",
      "[CV] END ...algorithm=auto, n_neighbors=10, weights=distance; total time=   2.6s\n",
      "[CV] END ...algorithm=auto, n_neighbors=10, weights=distance; total time=   2.7s\n",
      "[CV] END ...algorithm=auto, n_neighbors=10, weights=distance; total time=   2.7s\n",
      "[CV] END ....algorithm=auto, n_neighbors=15, weights=uniform; total time=   3.8s\n",
      "[CV] END ....algorithm=auto, n_neighbors=15, weights=uniform; total time=   3.4s\n",
      "[CV] END ....algorithm=auto, n_neighbors=15, weights=uniform; total time=   3.0s\n",
      "[CV] END ....algorithm=auto, n_neighbors=15, weights=uniform; total time=   2.8s\n",
      "[CV] END ....algorithm=auto, n_neighbors=15, weights=uniform; total time=   2.9s\n",
      "[CV] END ...algorithm=auto, n_neighbors=15, weights=distance; total time=   2.7s\n",
      "[CV] END ...algorithm=auto, n_neighbors=15, weights=distance; total time=   2.7s\n",
      "[CV] END ...algorithm=auto, n_neighbors=15, weights=distance; total time=   2.8s\n",
      "[CV] END ...algorithm=auto, n_neighbors=15, weights=distance; total time=   3.1s\n",
      "[CV] END ...algorithm=auto, n_neighbors=15, weights=distance; total time=   2.9s\n",
      "[CV] END algorithm=ball_tree, n_neighbors=5, weights=uniform; total time=   2.0s\n",
      "[CV] END algorithm=ball_tree, n_neighbors=5, weights=uniform; total time=   2.1s\n",
      "[CV] END algorithm=ball_tree, n_neighbors=5, weights=uniform; total time=   1.9s\n",
      "[CV] END algorithm=ball_tree, n_neighbors=5, weights=uniform; total time=   2.5s\n",
      "[CV] END algorithm=ball_tree, n_neighbors=5, weights=uniform; total time=   1.9s\n",
      "[CV] END algorithm=ball_tree, n_neighbors=5, weights=distance; total time=   1.5s\n",
      "[CV] END algorithm=ball_tree, n_neighbors=5, weights=distance; total time=   1.7s\n",
      "[CV] END algorithm=ball_tree, n_neighbors=5, weights=distance; total time=   1.5s\n",
      "[CV] END algorithm=ball_tree, n_neighbors=5, weights=distance; total time=   1.8s\n",
      "[CV] END algorithm=ball_tree, n_neighbors=5, weights=distance; total time=   1.7s\n",
      "[CV] END algorithm=ball_tree, n_neighbors=10, weights=uniform; total time=   2.4s\n",
      "[CV] END algorithm=ball_tree, n_neighbors=10, weights=uniform; total time=   1.9s\n",
      "[CV] END algorithm=ball_tree, n_neighbors=10, weights=uniform; total time=   1.9s\n",
      "[CV] END algorithm=ball_tree, n_neighbors=10, weights=uniform; total time=   2.6s\n",
      "[CV] END algorithm=ball_tree, n_neighbors=10, weights=uniform; total time=   2.1s\n",
      "[CV] END algorithm=ball_tree, n_neighbors=10, weights=distance; total time=   1.6s\n",
      "[CV] END algorithm=ball_tree, n_neighbors=10, weights=distance; total time=   2.0s\n",
      "[CV] END algorithm=ball_tree, n_neighbors=10, weights=distance; total time=   1.9s\n",
      "[CV] END algorithm=ball_tree, n_neighbors=10, weights=distance; total time=   2.1s\n",
      "[CV] END algorithm=ball_tree, n_neighbors=10, weights=distance; total time=   1.9s\n",
      "[CV] END algorithm=ball_tree, n_neighbors=15, weights=uniform; total time=   2.5s\n",
      "[CV] END algorithm=ball_tree, n_neighbors=15, weights=uniform; total time=   2.4s\n",
      "[CV] END algorithm=ball_tree, n_neighbors=15, weights=uniform; total time=   2.2s\n",
      "[CV] END algorithm=ball_tree, n_neighbors=15, weights=uniform; total time=   2.2s\n",
      "[CV] END algorithm=ball_tree, n_neighbors=15, weights=uniform; total time=   1.9s\n",
      "[CV] END algorithm=ball_tree, n_neighbors=15, weights=distance; total time=   1.8s\n",
      "[CV] END algorithm=ball_tree, n_neighbors=15, weights=distance; total time=   1.8s\n",
      "[CV] END algorithm=ball_tree, n_neighbors=15, weights=distance; total time=   1.6s\n",
      "[CV] END algorithm=ball_tree, n_neighbors=15, weights=distance; total time=   1.7s\n",
      "[CV] END algorithm=ball_tree, n_neighbors=15, weights=distance; total time=   1.8s\n",
      "[CV] END ..algorithm=kd_tree, n_neighbors=5, weights=uniform; total time=   1.8s\n",
      "[CV] END ..algorithm=kd_tree, n_neighbors=5, weights=uniform; total time=   1.7s\n",
      "[CV] END ..algorithm=kd_tree, n_neighbors=5, weights=uniform; total time=   1.7s\n",
      "[CV] END ..algorithm=kd_tree, n_neighbors=5, weights=uniform; total time=   1.6s\n",
      "[CV] END ..algorithm=kd_tree, n_neighbors=5, weights=uniform; total time=   1.9s\n",
      "[CV] END .algorithm=kd_tree, n_neighbors=5, weights=distance; total time=   1.6s\n",
      "[CV] END .algorithm=kd_tree, n_neighbors=5, weights=distance; total time=   1.8s\n",
      "[CV] END .algorithm=kd_tree, n_neighbors=5, weights=distance; total time=   1.8s\n",
      "[CV] END .algorithm=kd_tree, n_neighbors=5, weights=distance; total time=   1.6s\n",
      "[CV] END .algorithm=kd_tree, n_neighbors=5, weights=distance; total time=   1.6s\n",
      "[CV] END .algorithm=kd_tree, n_neighbors=10, weights=uniform; total time=   1.8s\n",
      "[CV] END .algorithm=kd_tree, n_neighbors=10, weights=uniform; total time=   1.8s\n",
      "[CV] END .algorithm=kd_tree, n_neighbors=10, weights=uniform; total time=   1.7s\n",
      "[CV] END .algorithm=kd_tree, n_neighbors=10, weights=uniform; total time=   1.6s\n",
      "[CV] END .algorithm=kd_tree, n_neighbors=10, weights=uniform; total time=   1.6s\n",
      "[CV] END algorithm=kd_tree, n_neighbors=10, weights=distance; total time=   1.6s\n",
      "[CV] END algorithm=kd_tree, n_neighbors=10, weights=distance; total time=   1.6s\n",
      "[CV] END algorithm=kd_tree, n_neighbors=10, weights=distance; total time=   1.5s\n",
      "[CV] END algorithm=kd_tree, n_neighbors=10, weights=distance; total time=   1.4s\n",
      "[CV] END algorithm=kd_tree, n_neighbors=10, weights=distance; total time=   1.4s\n",
      "[CV] END .algorithm=kd_tree, n_neighbors=15, weights=uniform; total time=   1.9s\n",
      "[CV] END .algorithm=kd_tree, n_neighbors=15, weights=uniform; total time=   1.8s\n",
      "[CV] END .algorithm=kd_tree, n_neighbors=15, weights=uniform; total time=   1.8s\n",
      "[CV] END .algorithm=kd_tree, n_neighbors=15, weights=uniform; total time=   2.0s\n",
      "[CV] END .algorithm=kd_tree, n_neighbors=15, weights=uniform; total time=   1.7s\n",
      "[CV] END algorithm=kd_tree, n_neighbors=15, weights=distance; total time=   1.5s\n",
      "[CV] END algorithm=kd_tree, n_neighbors=15, weights=distance; total time=   1.6s\n",
      "[CV] END algorithm=kd_tree, n_neighbors=15, weights=distance; total time=   1.6s\n",
      "[CV] END algorithm=kd_tree, n_neighbors=15, weights=distance; total time=   1.5s\n",
      "[CV] END algorithm=kd_tree, n_neighbors=15, weights=distance; total time=   1.5s\n",
      "[CV] END ....algorithm=brute, n_neighbors=5, weights=uniform; total time=   2.8s\n",
      "[CV] END ....algorithm=brute, n_neighbors=5, weights=uniform; total time=   2.6s\n",
      "[CV] END ....algorithm=brute, n_neighbors=5, weights=uniform; total time=   2.6s\n",
      "[CV] END ....algorithm=brute, n_neighbors=5, weights=uniform; total time=   2.8s\n",
      "[CV] END ....algorithm=brute, n_neighbors=5, weights=uniform; total time=   2.8s\n",
      "[CV] END ...algorithm=brute, n_neighbors=5, weights=distance; total time=   2.4s\n",
      "[CV] END ...algorithm=brute, n_neighbors=5, weights=distance; total time=   2.4s\n",
      "[CV] END ...algorithm=brute, n_neighbors=5, weights=distance; total time=   2.8s\n",
      "[CV] END ...algorithm=brute, n_neighbors=5, weights=distance; total time=   2.5s\n",
      "[CV] END ...algorithm=brute, n_neighbors=5, weights=distance; total time=   2.3s\n",
      "[CV] END ...algorithm=brute, n_neighbors=10, weights=uniform; total time=   2.8s\n",
      "[CV] END ...algorithm=brute, n_neighbors=10, weights=uniform; total time=   2.7s\n",
      "[CV] END ...algorithm=brute, n_neighbors=10, weights=uniform; total time=   2.8s\n",
      "[CV] END ...algorithm=brute, n_neighbors=10, weights=uniform; total time=   2.7s\n",
      "[CV] END ...algorithm=brute, n_neighbors=10, weights=uniform; total time=   2.7s\n",
      "[CV] END ..algorithm=brute, n_neighbors=10, weights=distance; total time=   2.7s\n",
      "[CV] END ..algorithm=brute, n_neighbors=10, weights=distance; total time=   2.9s\n",
      "[CV] END ..algorithm=brute, n_neighbors=10, weights=distance; total time=   2.6s\n",
      "[CV] END ..algorithm=brute, n_neighbors=10, weights=distance; total time=   2.8s\n",
      "[CV] END ..algorithm=brute, n_neighbors=10, weights=distance; total time=   3.1s\n",
      "[CV] END ...algorithm=brute, n_neighbors=15, weights=uniform; total time=   2.9s\n",
      "[CV] END ...algorithm=brute, n_neighbors=15, weights=uniform; total time=   2.6s\n",
      "[CV] END ...algorithm=brute, n_neighbors=15, weights=uniform; total time=   2.8s\n",
      "[CV] END ...algorithm=brute, n_neighbors=15, weights=uniform; total time=   2.8s\n",
      "[CV] END ...algorithm=brute, n_neighbors=15, weights=uniform; total time=   2.5s\n",
      "[CV] END ..algorithm=brute, n_neighbors=15, weights=distance; total time=   2.4s\n",
      "[CV] END ..algorithm=brute, n_neighbors=15, weights=distance; total time=   2.6s\n",
      "[CV] END ..algorithm=brute, n_neighbors=15, weights=distance; total time=   2.4s\n",
      "[CV] END ..algorithm=brute, n_neighbors=15, weights=distance; total time=   2.4s\n",
      "[CV] END ..algorithm=brute, n_neighbors=15, weights=distance; total time=   2.7s\n"
     ]
    },
    {
     "data": {
      "text/plain": [
       "GridSearchCV(estimator=KNeighborsClassifier(),\n",
       "             param_grid={'algorithm': ['auto', 'ball_tree', 'kd_tree', 'brute'],\n",
       "                         'n_neighbors': [5, 10, 15],\n",
       "                         'weights': ['uniform', 'distance']},\n",
       "             verbose=2)"
      ]
     },
     "execution_count": 30,
     "metadata": {},
     "output_type": "execute_result"
    }
   ],
   "source": [
    "sv_knc.fit(X_train, y_train)"
   ]
  },
  {
   "cell_type": "code",
   "execution_count": 33,
   "metadata": {},
   "outputs": [
    {
     "data": {
      "text/plain": [
       "{'algorithm': 'auto', 'n_neighbors': 15, 'weights': 'uniform'}"
      ]
     },
     "execution_count": 33,
     "metadata": {},
     "output_type": "execute_result"
    }
   ],
   "source": [
    "sv_knc.best_params_"
   ]
  },
  {
   "cell_type": "code",
   "execution_count": 35,
   "metadata": {},
   "outputs": [],
   "source": [
    "knc = KNeighborsClassifier(algorithm='auto', n_neighbors= 15, weights= 'uniform')"
   ]
  },
  {
   "cell_type": "code",
   "execution_count": 37,
   "metadata": {},
   "outputs": [
    {
     "data": {
      "text/plain": [
       "KNeighborsClassifier(n_neighbors=15)"
      ]
     },
     "execution_count": 37,
     "metadata": {},
     "output_type": "execute_result"
    }
   ],
   "source": [
    "knc.fit(X_train, y_train)"
   ]
  },
  {
   "cell_type": "code",
   "execution_count": 38,
   "metadata": {},
   "outputs": [
    {
     "data": {
      "text/plain": [
       "0.7830699524809371"
      ]
     },
     "execution_count": 38,
     "metadata": {},
     "output_type": "execute_result"
    }
   ],
   "source": [
    "knc.score(X_test, y_test)"
   ]
  },
  {
   "cell_type": "markdown",
   "metadata": {},
   "source": [
    "# Best Model with Best Hyperparameters"
   ]
  },
  {
   "cell_type": "code",
   "execution_count": null,
   "metadata": {},
   "outputs": [],
   "source": []
  },
  {
   "cell_type": "markdown",
   "metadata": {},
   "source": [
    "# Achieved Goals"
   ]
  },
  {
   "cell_type": "markdown",
   "metadata": {},
   "source": [
    "_Double click on **this cell** and place an `X` inside the square brackets (i.e., [X]) if you think you understand the goal:_\n",
    "\n",
    "- [ ] Even a model can be bettered\n",
    "- [ ] The goal is to make models that perform a better accuracy on data not seen\n",
    "    - The banks would like to know if a **future client** will be able to pay the loan\n",
    "    - Not a past client\n",
    "    - Unfortunately, we do not have data for future clients\n",
    "    - So, we fix this with `Data Splitting` into\n",
    "        - Train\n",
    "            - Fold Validation\n",
    "        - Test\n",
    "- [ ] Understand the Machine Learning Applications to businesses\n",
    "    - To predict if a customer will pay the loan\n",
    "    - To predict if an athlete will have an injury"
   ]
  }
 ],
 "metadata": {
  "authors": [
   {
    "name": "Jesús López @sotastica"
   }
  ],
  "kernelspec": {
   "display_name": "Python 3",
   "language": "python",
   "name": "python3"
  },
  "language_info": {
   "codemirror_mode": {
    "name": "ipython",
    "version": 3
   },
   "file_extension": ".py",
   "mimetype": "text/x-python",
   "name": "python",
   "nbconvert_exporter": "python",
   "pygments_lexer": "ipython3",
   "version": "3.8.8"
  }
 },
 "nbformat": 4,
 "nbformat_minor": 4
}
