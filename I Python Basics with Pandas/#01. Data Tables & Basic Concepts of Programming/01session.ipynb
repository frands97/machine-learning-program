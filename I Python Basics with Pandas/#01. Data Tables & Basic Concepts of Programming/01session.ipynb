{
 "cells": [
  {
   "cell_type": "markdown",
   "id": "65a62216",
   "metadata": {},
   "source": [
    "<font size=\"+5\">#01. Data Tables & Basic Concepts of Programming</font>"
   ]
  },
  {
   "cell_type": "markdown",
   "id": "3e9a2e55-8a36-4c00-b184-4286bfc8ce90",
   "metadata": {},
   "source": [
    "- Book + Private Lessons [Here ↗](https://sotastica.com/reservar)\n",
    "- Subscribe to my [Blog ↗](https://blog.pythonassembly.com/)\n",
    "- Let's keep in touch on [LinkedIn ↗](www.linkedin.com/in/jsulopz) 😄"
   ]
  },
  {
   "cell_type": "markdown",
   "id": "54ece1c9",
   "metadata": {},
   "source": [
    "# Define a Variable"
   ]
  },
  {
   "cell_type": "markdown",
   "id": "cb0780b8",
   "metadata": {},
   "source": [
    "> Asign an `object` (numbers, text) to a `variable`."
   ]
  },
  {
   "cell_type": "code",
   "execution_count": 10,
   "id": "5d85d44c",
   "metadata": {},
   "outputs": [],
   "source": [
    "data = 5"
   ]
  },
  {
   "cell_type": "code",
   "execution_count": 11,
   "id": "8c6b6ca7-2ca8-4933-92ae-444d8740687a",
   "metadata": {},
   "outputs": [
    {
     "data": {
      "text/plain": [
       "5"
      ]
     },
     "execution_count": 11,
     "metadata": {},
     "output_type": "execute_result"
    }
   ],
   "source": [
    "data"
   ]
  },
  {
   "cell_type": "code",
   "execution_count": 12,
   "id": "3f62ce88-1e28-4adb-80b5-d779be23b4f7",
   "metadata": {},
   "outputs": [
    {
     "ename": "NameError",
     "evalue": "name 'hola' is not defined",
     "output_type": "error",
     "traceback": [
      "\u001b[1;31m---------------------------------------------------------------------------\u001b[0m",
      "\u001b[1;31mNameError\u001b[0m                                 Traceback (most recent call last)",
      "\u001b[1;32m<ipython-input-12-073dbe3589a5>\u001b[0m in \u001b[0;36m<module>\u001b[1;34m\u001b[0m\n\u001b[1;32m----> 1\u001b[1;33m \u001b[0mdata\u001b[0m \u001b[1;33m=\u001b[0m \u001b[0mhola\u001b[0m\u001b[1;33m\u001b[0m\u001b[1;33m\u001b[0m\u001b[0m\n\u001b[0m",
      "\u001b[1;31mNameError\u001b[0m: name 'hola' is not defined"
     ]
    }
   ],
   "source": [
    "data = hola"
   ]
  },
  {
   "cell_type": "code",
   "execution_count": null,
   "id": "e1fb6f02-9ce2-410e-99af-b6af9a29e16f",
   "metadata": {},
   "outputs": [],
   "source": [
    "data = pandas"
   ]
  },
  {
   "cell_type": "code",
   "execution_count": null,
   "id": "632bed36-7222-42b4-b947-a38486c40872",
   "metadata": {},
   "outputs": [],
   "source": [
    "import pandas"
   ]
  },
  {
   "cell_type": "code",
   "execution_count": null,
   "id": "d1773576-8bdf-4f70-b000-a8ddcfcbdfe4",
   "metadata": {},
   "outputs": [],
   "source": [
    "pandas"
   ]
  },
  {
   "cell_type": "code",
   "execution_count": null,
   "id": "223465e4-b86c-46f2-a0b5-1a7a74124e65",
   "metadata": {},
   "outputs": [],
   "source": [
    "data = pandas"
   ]
  },
  {
   "cell_type": "code",
   "execution_count": null,
   "id": "b531e4ca-8d53-4154-a052-5791a3fb25e2",
   "metadata": {},
   "outputs": [],
   "source": [
    "'hola que tal'"
   ]
  },
  {
   "cell_type": "markdown",
   "id": "fd89405e",
   "metadata": {},
   "source": [
    "# The Registry (_aka The Environment_)"
   ]
  },
  {
   "cell_type": "markdown",
   "id": "b9e3b076",
   "metadata": {},
   "source": [
    "> Place where Python goes to **recognise what we type**."
   ]
  },
  {
   "cell_type": "code",
   "execution_count": null,
   "id": "f967daa2",
   "metadata": {},
   "outputs": [],
   "source": [
    "type(789)"
   ]
  },
  {
   "cell_type": "code",
   "execution_count": null,
   "id": "d39c818c-95e7-4b5f-9547-3d299f34fac2",
   "metadata": {},
   "outputs": [],
   "source": [
    "type({})"
   ]
  },
  {
   "cell_type": "code",
   "execution_count": null,
   "id": "3be29c98-17d9-40e6-a1c8-241b44fff273",
   "metadata": {},
   "outputs": [],
   "source": [
    "type([])"
   ]
  },
  {
   "cell_type": "code",
   "execution_count": null,
   "id": "25c330b8-0e2f-43ab-9528-6c6eee3982d3",
   "metadata": {},
   "outputs": [],
   "source": [
    "type(())"
   ]
  },
  {
   "cell_type": "code",
   "execution_count": null,
   "id": "f10cdb6a-e13b-4f4c-8f90-adb4d23ec9e4",
   "metadata": {},
   "outputs": [],
   "source": [
    "type(3.4)"
   ]
  },
  {
   "cell_type": "code",
   "execution_count": null,
   "id": "50fe8b4a-bca9-4399-a1f7-61df8239934b",
   "metadata": {},
   "outputs": [],
   "source": [
    "type('hola')"
   ]
  },
  {
   "cell_type": "markdown",
   "id": "c111ffa7",
   "metadata": {},
   "source": [
    "# Use of Functions"
   ]
  },
  {
   "cell_type": "markdown",
   "id": "8e2b45cf",
   "metadata": {},
   "source": [
    "## Predefined Functions in Python (_Built-in_ Functions)"
   ]
  },
  {
   "cell_type": "markdown",
   "id": "400be570",
   "metadata": {},
   "source": [
    "> https://docs.python.org/3/library/functions.html"
   ]
  },
  {
   "cell_type": "code",
   "execution_count": null,
   "id": "2b67a4e1",
   "metadata": {},
   "outputs": [],
   "source": [
    "a = 'hola que tal'"
   ]
  },
  {
   "cell_type": "code",
   "execution_count": null,
   "id": "ea9422ae-390f-4e4f-9019-9d2d03a61f2a",
   "metadata": {},
   "outputs": [],
   "source": [
    "len(a)"
   ]
  },
  {
   "cell_type": "code",
   "execution_count": null,
   "id": "2017d17f-43f4-4cbd-8f15-accb938e272e",
   "metadata": {},
   "outputs": [],
   "source": [
    "sum(a)"
   ]
  },
  {
   "cell_type": "code",
   "execution_count": null,
   "id": "62b7fad1-94ad-417d-899c-413d3e64b128",
   "metadata": {},
   "outputs": [],
   "source": [
    "b = [3,43,52]"
   ]
  },
  {
   "cell_type": "code",
   "execution_count": null,
   "id": "0d0a62ee-ea95-49ad-a0fc-76db69c6ab64",
   "metadata": {},
   "outputs": [],
   "source": [
    "sum(b)"
   ]
  },
  {
   "cell_type": "code",
   "execution_count": null,
   "id": "5343417c-3600-4b46-96ea-18cb0ebd27b7",
   "metadata": {},
   "outputs": [],
   "source": [
    "b = [3,43,52, 'hola']"
   ]
  },
  {
   "cell_type": "code",
   "execution_count": null,
   "id": "fbf4722e-1b05-47d3-a1d1-e54ff27420c4",
   "metadata": {},
   "outputs": [],
   "source": [
    "sum(b)"
   ]
  },
  {
   "cell_type": "code",
   "execution_count": null,
   "id": "56b0106b-f5e9-46f3-8382-f12a94f6a50b",
   "metadata": {},
   "outputs": [],
   "source": [
    "abs(-34)"
   ]
  },
  {
   "cell_type": "code",
   "execution_count": null,
   "id": "70341d0c-8fba-4053-94d7-7a57fc99ae39",
   "metadata": {},
   "outputs": [],
   "source": [
    "mean([3,43,52])"
   ]
  },
  {
   "cell_type": "markdown",
   "id": "86d29a70",
   "metadata": {},
   "source": [
    "## Discipline to Search Solutions in Google"
   ]
  },
  {
   "cell_type": "markdown",
   "id": "6e4337ce",
   "metadata": {},
   "source": [
    "> Apply the following steps when **looking for solutions in Google**:\n",
    ">\n",
    "> 1. **Necesity**: How to load an Excel in Python?\n",
    "> 2. **Search in Google**: by keywords\n",
    ">   - `load excel python`\n",
    ">   - ~~how to load excel in python~~\n",
    "> 3. **Solution**: What's the `function()` that loads an Excel in Python?\n",
    ">   - A Function to Programming is what the Atom to Phisics.\n",
    ">   - Every time you want to do something in programming\n",
    ">   - **You will need a `function()`** to make it\n",
    ">   - Theferore, you must **detect parenthesis `()`**\n",
    ">   - Out of all the words that you see in a website\n",
    ">   - Because they indicate the presence of a `function()`."
   ]
  },
  {
   "cell_type": "markdown",
   "id": "cf8faa78",
   "metadata": {},
   "source": [
    "## External Functions"
   ]
  },
  {
   "cell_type": "markdown",
   "id": "9f8e0836",
   "metadata": {},
   "source": [
    "> Download [this Excel](https://github.com/sotastica/data/raw/main/internet_usage_spain.xlsx).\n",
    "> Apply the above discipline and make it happen 🚀\n",
    "> I want to see the table, c'mon 👇"
   ]
  },
  {
   "cell_type": "code",
   "execution_count": null,
   "id": "c4409845",
   "metadata": {},
   "outputs": [],
   "source": [
    "read_excel()"
   ]
  },
  {
   "cell_type": "code",
   "execution_count": null,
   "id": "6a854824-d7ca-4b90-a494-84addcf1f656",
   "metadata": {},
   "outputs": [],
   "source": [
    "def read_excel():\n",
    "    return 'hola'"
   ]
  },
  {
   "cell_type": "code",
   "execution_count": null,
   "id": "48af53b0-1d8d-4c98-b085-c58a31741e1a",
   "metadata": {},
   "outputs": [],
   "source": [
    "read_excel()"
   ]
  },
  {
   "cell_type": "code",
   "execution_count": 14,
   "id": "efe7d712-4163-4226-9a36-cd908d894680",
   "metadata": {},
   "outputs": [],
   "source": [
    "import pandas as pd"
   ]
  },
  {
   "cell_type": "code",
   "execution_count": null,
   "id": "61b7bbc6-a128-4aa7-bbc9-3bd9a0d94270",
   "metadata": {},
   "outputs": [],
   "source": [
    "read_excel()"
   ]
  },
  {
   "cell_type": "code",
   "execution_count": null,
   "id": "8a82dca8-68b6-475a-a928-309bff56e60b",
   "metadata": {},
   "outputs": [],
   "source": [
    "pd.fly()"
   ]
  },
  {
   "cell_type": "code",
   "execution_count": null,
   "id": "435e7709-c5d5-4531-b9e6-b915d5126401",
   "metadata": {},
   "outputs": [],
   "source": [
    "pd.read_excel"
   ]
  },
  {
   "cell_type": "code",
   "execution_count": null,
   "id": "92a4b485-e928-48a3-a72d-74e7f3f2fe68",
   "metadata": {},
   "outputs": [],
   "source": [
    "pd.read_excel() "
   ]
  },
  {
   "cell_type": "code",
   "execution_count": null,
   "id": "4fdbf0b6-12b5-4e6f-b743-c7f0fed96720",
   "metadata": {},
   "outputs": [],
   "source": [
    "pd.read_excel(io='internet_usage_spain.xlsx', sheet_name=1) "
   ]
  },
  {
   "cell_type": "markdown",
   "id": "7d4d82fd",
   "metadata": {},
   "source": [
    "## The Elements of Programming"
   ]
  },
  {
   "cell_type": "markdown",
   "id": "8c5fa32a",
   "metadata": {},
   "source": [
    "> - `Library`: where the code of functions are stored.\n",
    ">   - `Function`: execute several lines of code with one `word()`.\n",
    ">       - `Parameter`: to **configure** the function's behaviour.\n",
    ">           - `Object`: **data structure** to store information."
   ]
  },
  {
   "cell_type": "markdown",
   "id": "140dd81d",
   "metadata": {},
   "source": [
    "## Code Syntax"
   ]
  },
  {
   "cell_type": "markdown",
   "id": "e641dd82",
   "metadata": {},
   "source": [
    "**What happens inside the computer when we run the code?**\n",
    "\n",
    "> In which order Python reads the line of code?\n",
    "> - From left to right.\n",
    "> - From up to down.\n",
    "> Which elements are being used in the previous line of code?"
   ]
  },
  {
   "cell_type": "code",
   "execution_count": null,
   "id": "11046a37-764f-47be-9f99-7ba24806cfc7",
   "metadata": {},
   "outputs": [],
   "source": [
    "a = 'hola que tal'"
   ]
  },
  {
   "cell_type": "code",
   "execution_count": null,
   "id": "a51f1e00-c06c-46c6-a936-a92cd9627a59",
   "metadata": {},
   "outputs": [],
   "source": [
    "type(a)"
   ]
  },
  {
   "cell_type": "code",
   "execution_count": null,
   "id": "11915135-f557-4195-9525-03e4ee078578",
   "metadata": {},
   "outputs": [],
   "source": [
    "a"
   ]
  },
  {
   "cell_type": "code",
   "execution_count": null,
   "id": "ff8a935a-16d8-4f2b-a2f0-1dfdee10f77f",
   "metadata": {},
   "outputs": [],
   "source": [
    "a.split()"
   ]
  },
  {
   "cell_type": "code",
   "execution_count": null,
   "id": "e5aa5461-1395-4254-95d8-287253be3dc1",
   "metadata": {},
   "outputs": [],
   "source": [
    "a.title()"
   ]
  },
  {
   "cell_type": "code",
   "execution_count": null,
   "id": "58f09b10-d497-47ab-a3f8-fd6943a25e37",
   "metadata": {},
   "outputs": [],
   "source": [
    "'internet_usage_spain.xlsx'"
   ]
  },
  {
   "cell_type": "code",
   "execution_count": null,
   "id": "70aac06c-2178-4489-a69d-acefc225ae89",
   "metadata": {},
   "outputs": [],
   "source": [
    "1"
   ]
  },
  {
   "cell_type": "markdown",
   "id": "a55b0214-8b70-4d88-8ff2-4a9226400ec1",
   "metadata": {},
   "source": [
    "1. `libreria`\n",
    "2. `.` **DOT NOTATION** accedo dentro de la libreria...\n",
    "3. `funcion()`\n",
    "4. pasamos `objetos` a los `argumentos`\n",
    "5. ejecutamos\n",
    "6. magia borras\n",
    "7. nos devuelve un `objeto`"
   ]
  },
  {
   "cell_type": "code",
   "execution_count": 15,
   "id": "babdc567-6520-44f6-8b09-18e354aed2c0",
   "metadata": {},
   "outputs": [],
   "source": [
    "df = pd.read_excel(io='internet_usage_spain.xlsx', sheet_name=1) "
   ]
  },
  {
   "cell_type": "markdown",
   "id": "af9fe10f",
   "metadata": {},
   "source": [
    "## Functions inside Objects"
   ]
  },
  {
   "cell_type": "markdown",
   "id": "9247d614",
   "metadata": {},
   "source": [
    "> - The `dog` makes `guau()`: `dog.guau()`\n",
    "> - The `cat` makes `miau()`: `cat.miau()`\n",
    "> - What could a `DataFrame` make? `object.` + `[tab key]`"
   ]
  },
  {
   "cell_type": "code",
   "execution_count": null,
   "id": "90a40a63",
   "metadata": {},
   "outputs": [],
   "source": [
    "df.summary()"
   ]
  },
  {
   "cell_type": "code",
   "execution_count": null,
   "id": "d4f297a9-3fc2-4fca-8b40-4b403068c981",
   "metadata": {},
   "outputs": [],
   "source": [
    "df.describe()"
   ]
  },
  {
   "cell_type": "code",
   "execution_count": null,
   "id": "b498ccce-0df1-4e40-bb98-6670bf650a47",
   "metadata": {},
   "outputs": [],
   "source": [
    "df.hist()"
   ]
  },
  {
   "cell_type": "code",
   "execution_count": null,
   "id": "78059cf6-dd00-4f91-b701-90c26de299f4",
   "metadata": {},
   "outputs": [],
   "source": [
    "df"
   ]
  },
  {
   "cell_type": "code",
   "execution_count": null,
   "id": "6802cc3d-9d4c-43ca-971d-0f46adfece39",
   "metadata": {},
   "outputs": [],
   "source": [
    "df.education"
   ]
  },
  {
   "cell_type": "code",
   "execution_count": null,
   "id": "40ff0a34-2c5c-4c44-9901-65469de27d64",
   "metadata": {},
   "outputs": [],
   "source": [
    "df.education.value_counts()"
   ]
  },
  {
   "cell_type": "code",
   "execution_count": null,
   "id": "b8e344f1-91ce-4879-966b-49ffcdba15fb",
   "metadata": {},
   "outputs": [],
   "source": [
    "df.education.value_counts().plot(kind='bar')"
   ]
  },
  {
   "cell_type": "code",
   "execution_count": null,
   "id": "b7ef277b-e137-4145-828b-104002f93fed",
   "metadata": {},
   "outputs": [],
   "source": [
    "df.education.value_counts().plot(kind='pie')"
   ]
  },
  {
   "cell_type": "code",
   "execution_count": null,
   "id": "55d5e640-fd09-4ba6-80f9-6a6c0a44b5f9",
   "metadata": {},
   "outputs": [],
   "source": [
    "df.education.value_counts().plot(kind='pie').describe()"
   ]
  },
  {
   "cell_type": "markdown",
   "id": "0d064658",
   "metadata": {},
   "source": [
    "## Conclusion | Types of Functions"
   ]
  },
  {
   "cell_type": "markdown",
   "id": "85a24444",
   "metadata": {},
   "source": [
    "> 1. Buit-in (Predefined) Functions\n",
    "> 2. External Functions from Libraries\n",
    "> 3. Functions within Objects"
   ]
  },
  {
   "cell_type": "markdown",
   "id": "64d133ff",
   "metadata": {},
   "source": [
    "# Accessing `Objects`"
   ]
  },
  {
   "cell_type": "markdown",
   "id": "8c9fe82b",
   "metadata": {},
   "source": [
    "> Objects are **data structures** that store information. \n",
    "> Which **syntax** do we use to access the information?"
   ]
  },
  {
   "cell_type": "markdown",
   "id": "30ec0a18",
   "metadata": {},
   "source": [
    "## Dot Notation `.`"
   ]
  },
  {
   "cell_type": "code",
   "execution_count": null,
   "id": "cddca7b4",
   "metadata": {},
   "outputs": [],
   "source": [
    "# No estas accediendo a una funcion por tanto no lleva parentesis"
   ]
  },
  {
   "cell_type": "code",
   "execution_count": null,
   "id": "2a88ab49",
   "metadata": {},
   "outputs": [],
   "source": [
    "df.internet_usage()"
   ]
  },
  {
   "cell_type": "code",
   "execution_count": null,
   "id": "715089a0-6177-4af9-9a1c-80acfb35c6e0",
   "metadata": {},
   "outputs": [],
   "source": [
    "type(df.internet_usage)"
   ]
  },
  {
   "cell_type": "code",
   "execution_count": null,
   "id": "cfe3561d-f6dd-40da-bad6-e751cc1ffaed",
   "metadata": {},
   "outputs": [],
   "source": [
    "df.internet_usage"
   ]
  },
  {
   "cell_type": "markdown",
   "id": "b0281142",
   "metadata": {},
   "source": [
    "## Square Brackets `[]`"
   ]
  },
  {
   "cell_type": "code",
   "execution_count": null,
   "id": "9ef1e18d",
   "metadata": {},
   "outputs": [],
   "source": [
    "df[internet_usage]"
   ]
  },
  {
   "cell_type": "code",
   "execution_count": null,
   "id": "69f6a768-e1ea-402f-b642-f05ff3027b19",
   "metadata": {},
   "outputs": [],
   "source": [
    "df['internet_usage']"
   ]
  },
  {
   "cell_type": "code",
   "execution_count": null,
   "id": "9b20485e-e123-47e9-b411-a1310bdfab1b",
   "metadata": {},
   "outputs": [],
   "source": [
    "df[x]"
   ]
  },
  {
   "cell_type": "code",
   "execution_count": null,
   "id": "9e490155-9c14-45e6-89fb-e876d1140426",
   "metadata": {},
   "outputs": [],
   "source": [
    "x = 'internet_usage'"
   ]
  },
  {
   "cell_type": "code",
   "execution_count": null,
   "id": "9f7250e3-2b28-421c-82fa-80dc9b5e26c9",
   "metadata": {},
   "outputs": [],
   "source": [
    "x"
   ]
  },
  {
   "cell_type": "code",
   "execution_count": null,
   "id": "1e157bed-7246-47a2-9964-e31b4b9fa3cd",
   "metadata": {},
   "outputs": [],
   "source": [
    "df[x]"
   ]
  },
  {
   "cell_type": "markdown",
   "id": "d389f1b6",
   "metadata": {},
   "source": [
    "# Filter & Masking"
   ]
  },
  {
   "cell_type": "code",
   "execution_count": 16,
   "id": "7abacb64",
   "metadata": {},
   "outputs": [
    {
     "data": {
      "text/plain": [
       "<AxesSubplot:>"
      ]
     },
     "execution_count": 16,
     "metadata": {},
     "output_type": "execute_result"
    },
    {
     "data": {
      "image/png": "[encoded data removed]",
      "text/plain": [
       "<Figure size 432x288 with 1 Axes>"
      ]
     },
     "metadata": {
      "needs_background": "light"
     },
     "output_type": "display_data"
    }
   ],
   "source": [
    "df.age.hist()"
   ]
  },
  {
   "cell_type": "code",
   "execution_count": 18,
   "id": "70c2e9f1-70af-421f-82ad-44c9b20c766b",
   "metadata": {},
   "outputs": [
    {
     "data": {
      "text/plain": [
       "0       66\n",
       "1       72\n",
       "2       48\n",
       "3       59\n",
       "4       44\n",
       "        ..\n",
       "2450    43\n",
       "2451    18\n",
       "2452    54\n",
       "2453    31\n",
       "2454    52\n",
       "Name: age, Length: 2455, dtype: int64"
      ]
     },
     "execution_count": 18,
     "metadata": {},
     "output_type": "execute_result"
    }
   ],
   "source": [
    "df.age"
   ]
  },
  {
   "cell_type": "code",
   "execution_count": 19,
   "id": "6e098d5b-3bb9-4120-b1b7-afadd9a6db24",
   "metadata": {},
   "outputs": [],
   "source": [
    "x = 81"
   ]
  },
  {
   "cell_type": "code",
   "execution_count": 27,
   "id": "08d9d7b1-edc2-4e95-9321-7b6d0f47c54d",
   "metadata": {},
   "outputs": [
    {
     "data": {
      "text/plain": [
       "True"
      ]
     },
     "execution_count": 27,
     "metadata": {},
     "output_type": "execute_result"
    }
   ],
   "source": [
    "x > 80"
   ]
  },
  {
   "cell_type": "code",
   "execution_count": 33,
   "id": "2dce1030-75c9-4cc6-8f6d-5406205ae1ec",
   "metadata": {},
   "outputs": [],
   "source": [
    "mask = df.age > 80"
   ]
  },
  {
   "cell_type": "code",
   "execution_count": 34,
   "id": "a47abc7d-8198-4f39-9c6d-e32e73fbfc16",
   "metadata": {},
   "outputs": [
    {
     "data": {
      "text/plain": [
       "0       False\n",
       "1       False\n",
       "2       False\n",
       "3       False\n",
       "4       False\n",
       "        ...  \n",
       "2450    False\n",
       "2451    False\n",
       "2452    False\n",
       "2453    False\n",
       "2454    False\n",
       "Name: age, Length: 2455, dtype: bool"
      ]
     },
     "execution_count": 34,
     "metadata": {},
     "output_type": "execute_result"
    }
   ],
   "source": [
    "mask"
   ]
  },
  {
   "cell_type": "code",
   "execution_count": 35,
   "id": "8aae3b51-38b0-4923-a7f1-10e247486f5f",
   "metadata": {},
   "outputs": [
    {
     "ename": "TypeError",
     "evalue": "'Series' object is not callable",
     "output_type": "error",
     "traceback": [
      "\u001b[1;31m---------------------------------------------------------------------------\u001b[0m",
      "\u001b[1;31mTypeError\u001b[0m                                 Traceback (most recent call last)",
      "\u001b[1;32m<ipython-input-35-91f08b60e68b>\u001b[0m in \u001b[0;36m<module>\u001b[1;34m\u001b[0m\n\u001b[1;32m----> 1\u001b[1;33m \u001b[0mdf\u001b[0m\u001b[1;33m.\u001b[0m\u001b[0mage\u001b[0m\u001b[1;33m(\u001b[0m\u001b[0mmask\u001b[0m\u001b[1;33m)\u001b[0m\u001b[1;33m\u001b[0m\u001b[1;33m\u001b[0m\u001b[0m\n\u001b[0m",
      "\u001b[1;31mTypeError\u001b[0m: 'Series' object is not callable"
     ]
    }
   ],
   "source": [
    "df.age(mask)"
   ]
  },
  {
   "cell_type": "code",
   "execution_count": 24,
   "id": "3d9abe57-ce1e-4ca0-ae36-c49acf0d6640",
   "metadata": {},
   "outputs": [
    {
     "data": {
      "text/plain": [
       "0       66\n",
       "1       72\n",
       "2       48\n",
       "3       59\n",
       "4       44\n",
       "        ..\n",
       "2450    43\n",
       "2451    18\n",
       "2452    54\n",
       "2453    31\n",
       "2454    52\n",
       "Name: age, Length: 2455, dtype: int64"
      ]
     },
     "execution_count": 24,
     "metadata": {},
     "output_type": "execute_result"
    }
   ],
   "source": [
    "df.age"
   ]
  },
  {
   "cell_type": "code",
   "execution_count": null,
   "id": "2fb2d68b",
   "metadata": {},
   "outputs": [],
   "source": []
  },
  {
   "cell_type": "code",
   "execution_count": 37,
   "id": "5c146e1b-8068-4286-8cde-e697274e065c",
   "metadata": {},
   "outputs": [
    {
     "data": {
      "text/html": [
       "<div>\n",
       "<style scoped>\n",
       "    .dataframe tbody tr th:only-of-type {\n",
       "        vertical-align: middle;\n",
       "    }\n",
       "\n",
       "    .dataframe tbody tr th {\n",
       "        vertical-align: top;\n",
       "    }\n",
       "\n",
       "    .dataframe thead th {\n",
       "        text-align: right;\n",
       "    }\n",
       "</style>\n",
       "<table border=\"1\" class=\"dataframe\">\n",
       "  <thead>\n",
       "    <tr style=\"text-align: right;\">\n",
       "      <th></th>\n",
       "      <th>internet_usage</th>\n",
       "      <th>sex</th>\n",
       "      <th>age</th>\n",
       "      <th>education</th>\n",
       "    </tr>\n",
       "  </thead>\n",
       "  <tbody>\n",
       "    <tr>\n",
       "      <th>21</th>\n",
       "      <td>0</td>\n",
       "      <td>Female</td>\n",
       "      <td>84</td>\n",
       "      <td>Elementary</td>\n",
       "    </tr>\n",
       "    <tr>\n",
       "      <th>50</th>\n",
       "      <td>0</td>\n",
       "      <td>Female</td>\n",
       "      <td>90</td>\n",
       "      <td>Elementary</td>\n",
       "    </tr>\n",
       "    <tr>\n",
       "      <th>136</th>\n",
       "      <td>0</td>\n",
       "      <td>Male</td>\n",
       "      <td>82</td>\n",
       "      <td>Elementary</td>\n",
       "    </tr>\n",
       "    <tr>\n",
       "      <th>164</th>\n",
       "      <td>0</td>\n",
       "      <td>Male</td>\n",
       "      <td>83</td>\n",
       "      <td>No studies</td>\n",
       "    </tr>\n",
       "    <tr>\n",
       "      <th>223</th>\n",
       "      <td>0</td>\n",
       "      <td>Female</td>\n",
       "      <td>85</td>\n",
       "      <td>Elementary</td>\n",
       "    </tr>\n",
       "    <tr>\n",
       "      <th>...</th>\n",
       "      <td>...</td>\n",
       "      <td>...</td>\n",
       "      <td>...</td>\n",
       "      <td>...</td>\n",
       "    </tr>\n",
       "    <tr>\n",
       "      <th>2397</th>\n",
       "      <td>0</td>\n",
       "      <td>Male</td>\n",
       "      <td>82</td>\n",
       "      <td>No studies</td>\n",
       "    </tr>\n",
       "    <tr>\n",
       "      <th>2405</th>\n",
       "      <td>0</td>\n",
       "      <td>Female</td>\n",
       "      <td>81</td>\n",
       "      <td>No studies</td>\n",
       "    </tr>\n",
       "    <tr>\n",
       "      <th>2412</th>\n",
       "      <td>0</td>\n",
       "      <td>Male</td>\n",
       "      <td>82</td>\n",
       "      <td>Elementary</td>\n",
       "    </tr>\n",
       "    <tr>\n",
       "      <th>2436</th>\n",
       "      <td>0</td>\n",
       "      <td>Male</td>\n",
       "      <td>82</td>\n",
       "      <td>Elementary</td>\n",
       "    </tr>\n",
       "    <tr>\n",
       "      <th>2449</th>\n",
       "      <td>0</td>\n",
       "      <td>Male</td>\n",
       "      <td>92</td>\n",
       "      <td>No studies</td>\n",
       "    </tr>\n",
       "  </tbody>\n",
       "</table>\n",
       "<p>69 rows × 4 columns</p>\n",
       "</div>"
      ],
      "text/plain": [
       "      internet_usage     sex  age   education\n",
       "21                 0  Female   84  Elementary\n",
       "50                 0  Female   90  Elementary\n",
       "136                0    Male   82  Elementary\n",
       "164                0    Male   83  No studies\n",
       "223                0  Female   85  Elementary\n",
       "...              ...     ...  ...         ...\n",
       "2397               0    Male   82  No studies\n",
       "2405               0  Female   81  No studies\n",
       "2412               0    Male   82  Elementary\n",
       "2436               0    Male   82  Elementary\n",
       "2449               0    Male   92  No studies\n",
       "\n",
       "[69 rows x 4 columns]"
      ]
     },
     "execution_count": 37,
     "metadata": {},
     "output_type": "execute_result"
    }
   ],
   "source": [
    "df[mask]"
   ]
  },
  {
   "cell_type": "markdown",
   "id": "5903afa8-36df-46bb-8bd2-11b603b0f806",
   "metadata": {},
   "source": [
    "## No tienen estudios"
   ]
  },
  {
   "cell_type": "code",
   "execution_count": 38,
   "id": "eb8a4ed9-061b-4f15-86f4-507f58c513a5",
   "metadata": {},
   "outputs": [],
   "source": [
    "mask1 = df.education == 'No studies'"
   ]
  },
  {
   "cell_type": "code",
   "execution_count": 39,
   "id": "816b70bb-e7bd-42e6-a9fb-bb6179da74d0",
   "metadata": {},
   "outputs": [
    {
     "data": {
      "text/html": [
       "<div>\n",
       "<style scoped>\n",
       "    .dataframe tbody tr th:only-of-type {\n",
       "        vertical-align: middle;\n",
       "    }\n",
       "\n",
       "    .dataframe tbody tr th {\n",
       "        vertical-align: top;\n",
       "    }\n",
       "\n",
       "    .dataframe thead th {\n",
       "        text-align: right;\n",
       "    }\n",
       "</style>\n",
       "<table border=\"1\" class=\"dataframe\">\n",
       "  <thead>\n",
       "    <tr style=\"text-align: right;\">\n",
       "      <th></th>\n",
       "      <th>internet_usage</th>\n",
       "      <th>sex</th>\n",
       "      <th>age</th>\n",
       "      <th>education</th>\n",
       "    </tr>\n",
       "  </thead>\n",
       "  <tbody>\n",
       "    <tr>\n",
       "      <th>14</th>\n",
       "      <td>0</td>\n",
       "      <td>Male</td>\n",
       "      <td>79</td>\n",
       "      <td>No studies</td>\n",
       "    </tr>\n",
       "    <tr>\n",
       "      <th>28</th>\n",
       "      <td>0</td>\n",
       "      <td>Male</td>\n",
       "      <td>70</td>\n",
       "      <td>No studies</td>\n",
       "    </tr>\n",
       "    <tr>\n",
       "      <th>33</th>\n",
       "      <td>0</td>\n",
       "      <td>Female</td>\n",
       "      <td>65</td>\n",
       "      <td>No studies</td>\n",
       "    </tr>\n",
       "    <tr>\n",
       "      <th>51</th>\n",
       "      <td>0</td>\n",
       "      <td>Male</td>\n",
       "      <td>79</td>\n",
       "      <td>No studies</td>\n",
       "    </tr>\n",
       "    <tr>\n",
       "      <th>70</th>\n",
       "      <td>0</td>\n",
       "      <td>Female</td>\n",
       "      <td>76</td>\n",
       "      <td>No studies</td>\n",
       "    </tr>\n",
       "    <tr>\n",
       "      <th>...</th>\n",
       "      <td>...</td>\n",
       "      <td>...</td>\n",
       "      <td>...</td>\n",
       "      <td>...</td>\n",
       "    </tr>\n",
       "    <tr>\n",
       "      <th>2398</th>\n",
       "      <td>0</td>\n",
       "      <td>Female</td>\n",
       "      <td>78</td>\n",
       "      <td>No studies</td>\n",
       "    </tr>\n",
       "    <tr>\n",
       "      <th>2401</th>\n",
       "      <td>0</td>\n",
       "      <td>Male</td>\n",
       "      <td>61</td>\n",
       "      <td>No studies</td>\n",
       "    </tr>\n",
       "    <tr>\n",
       "      <th>2405</th>\n",
       "      <td>0</td>\n",
       "      <td>Female</td>\n",
       "      <td>81</td>\n",
       "      <td>No studies</td>\n",
       "    </tr>\n",
       "    <tr>\n",
       "      <th>2448</th>\n",
       "      <td>0</td>\n",
       "      <td>Female</td>\n",
       "      <td>64</td>\n",
       "      <td>No studies</td>\n",
       "    </tr>\n",
       "    <tr>\n",
       "      <th>2449</th>\n",
       "      <td>0</td>\n",
       "      <td>Male</td>\n",
       "      <td>92</td>\n",
       "      <td>No studies</td>\n",
       "    </tr>\n",
       "  </tbody>\n",
       "</table>\n",
       "<p>177 rows × 4 columns</p>\n",
       "</div>"
      ],
      "text/plain": [
       "      internet_usage     sex  age   education\n",
       "14                 0    Male   79  No studies\n",
       "28                 0    Male   70  No studies\n",
       "33                 0  Female   65  No studies\n",
       "51                 0    Male   79  No studies\n",
       "70                 0  Female   76  No studies\n",
       "...              ...     ...  ...         ...\n",
       "2398               0  Female   78  No studies\n",
       "2401               0    Male   61  No studies\n",
       "2405               0  Female   81  No studies\n",
       "2448               0  Female   64  No studies\n",
       "2449               0    Male   92  No studies\n",
       "\n",
       "[177 rows x 4 columns]"
      ]
     },
     "execution_count": 39,
     "metadata": {},
     "output_type": "execute_result"
    }
   ],
   "source": [
    "df[mask1]"
   ]
  },
  {
   "cell_type": "code",
   "execution_count": 40,
   "id": "0caa50e8-0435-48d6-98e0-0a7f99bb42be",
   "metadata": {},
   "outputs": [],
   "source": [
    "mask1 = df.education == 'No studies'"
   ]
  },
  {
   "cell_type": "code",
   "execution_count": 41,
   "id": "848dcd90-afa9-43a4-9457-4eb0bc3b2f99",
   "metadata": {},
   "outputs": [
    {
     "data": {
      "text/html": [
       "<div>\n",
       "<style scoped>\n",
       "    .dataframe tbody tr th:only-of-type {\n",
       "        vertical-align: middle;\n",
       "    }\n",
       "\n",
       "    .dataframe tbody tr th {\n",
       "        vertical-align: top;\n",
       "    }\n",
       "\n",
       "    .dataframe thead th {\n",
       "        text-align: right;\n",
       "    }\n",
       "</style>\n",
       "<table border=\"1\" class=\"dataframe\">\n",
       "  <thead>\n",
       "    <tr style=\"text-align: right;\">\n",
       "      <th></th>\n",
       "      <th>internet_usage</th>\n",
       "      <th>sex</th>\n",
       "      <th>age</th>\n",
       "      <th>education</th>\n",
       "    </tr>\n",
       "  </thead>\n",
       "  <tbody>\n",
       "    <tr>\n",
       "      <th>164</th>\n",
       "      <td>0</td>\n",
       "      <td>Male</td>\n",
       "      <td>83</td>\n",
       "      <td>No studies</td>\n",
       "    </tr>\n",
       "    <tr>\n",
       "      <th>233</th>\n",
       "      <td>0</td>\n",
       "      <td>Male</td>\n",
       "      <td>81</td>\n",
       "      <td>No studies</td>\n",
       "    </tr>\n",
       "    <tr>\n",
       "      <th>331</th>\n",
       "      <td>0</td>\n",
       "      <td>Female</td>\n",
       "      <td>85</td>\n",
       "      <td>No studies</td>\n",
       "    </tr>\n",
       "    <tr>\n",
       "      <th>380</th>\n",
       "      <td>0</td>\n",
       "      <td>Female</td>\n",
       "      <td>81</td>\n",
       "      <td>No studies</td>\n",
       "    </tr>\n",
       "    <tr>\n",
       "      <th>446</th>\n",
       "      <td>0</td>\n",
       "      <td>Male</td>\n",
       "      <td>90</td>\n",
       "      <td>No studies</td>\n",
       "    </tr>\n",
       "    <tr>\n",
       "      <th>510</th>\n",
       "      <td>0</td>\n",
       "      <td>Female</td>\n",
       "      <td>82</td>\n",
       "      <td>No studies</td>\n",
       "    </tr>\n",
       "    <tr>\n",
       "      <th>590</th>\n",
       "      <td>0</td>\n",
       "      <td>Female</td>\n",
       "      <td>86</td>\n",
       "      <td>No studies</td>\n",
       "    </tr>\n",
       "    <tr>\n",
       "      <th>599</th>\n",
       "      <td>0</td>\n",
       "      <td>Female</td>\n",
       "      <td>84</td>\n",
       "      <td>No studies</td>\n",
       "    </tr>\n",
       "    <tr>\n",
       "      <th>621</th>\n",
       "      <td>0</td>\n",
       "      <td>Female</td>\n",
       "      <td>81</td>\n",
       "      <td>No studies</td>\n",
       "    </tr>\n",
       "    <tr>\n",
       "      <th>681</th>\n",
       "      <td>0</td>\n",
       "      <td>Female</td>\n",
       "      <td>81</td>\n",
       "      <td>No studies</td>\n",
       "    </tr>\n",
       "    <tr>\n",
       "      <th>745</th>\n",
       "      <td>0</td>\n",
       "      <td>Female</td>\n",
       "      <td>87</td>\n",
       "      <td>No studies</td>\n",
       "    </tr>\n",
       "    <tr>\n",
       "      <th>762</th>\n",
       "      <td>0</td>\n",
       "      <td>Male</td>\n",
       "      <td>86</td>\n",
       "      <td>No studies</td>\n",
       "    </tr>\n",
       "    <tr>\n",
       "      <th>961</th>\n",
       "      <td>0</td>\n",
       "      <td>Female</td>\n",
       "      <td>90</td>\n",
       "      <td>No studies</td>\n",
       "    </tr>\n",
       "    <tr>\n",
       "      <th>1058</th>\n",
       "      <td>0</td>\n",
       "      <td>Male</td>\n",
       "      <td>88</td>\n",
       "      <td>No studies</td>\n",
       "    </tr>\n",
       "    <tr>\n",
       "      <th>1083</th>\n",
       "      <td>0</td>\n",
       "      <td>Female</td>\n",
       "      <td>87</td>\n",
       "      <td>No studies</td>\n",
       "    </tr>\n",
       "    <tr>\n",
       "      <th>1710</th>\n",
       "      <td>0</td>\n",
       "      <td>Male</td>\n",
       "      <td>81</td>\n",
       "      <td>No studies</td>\n",
       "    </tr>\n",
       "    <tr>\n",
       "      <th>2133</th>\n",
       "      <td>0</td>\n",
       "      <td>Female</td>\n",
       "      <td>81</td>\n",
       "      <td>No studies</td>\n",
       "    </tr>\n",
       "    <tr>\n",
       "      <th>2143</th>\n",
       "      <td>0</td>\n",
       "      <td>Female</td>\n",
       "      <td>83</td>\n",
       "      <td>No studies</td>\n",
       "    </tr>\n",
       "    <tr>\n",
       "      <th>2198</th>\n",
       "      <td>0</td>\n",
       "      <td>Female</td>\n",
       "      <td>82</td>\n",
       "      <td>No studies</td>\n",
       "    </tr>\n",
       "    <tr>\n",
       "      <th>2211</th>\n",
       "      <td>0</td>\n",
       "      <td>Male</td>\n",
       "      <td>89</td>\n",
       "      <td>No studies</td>\n",
       "    </tr>\n",
       "    <tr>\n",
       "      <th>2397</th>\n",
       "      <td>0</td>\n",
       "      <td>Male</td>\n",
       "      <td>82</td>\n",
       "      <td>No studies</td>\n",
       "    </tr>\n",
       "    <tr>\n",
       "      <th>2405</th>\n",
       "      <td>0</td>\n",
       "      <td>Female</td>\n",
       "      <td>81</td>\n",
       "      <td>No studies</td>\n",
       "    </tr>\n",
       "    <tr>\n",
       "      <th>2449</th>\n",
       "      <td>0</td>\n",
       "      <td>Male</td>\n",
       "      <td>92</td>\n",
       "      <td>No studies</td>\n",
       "    </tr>\n",
       "  </tbody>\n",
       "</table>\n",
       "</div>"
      ],
      "text/plain": [
       "      internet_usage     sex  age   education\n",
       "164                0    Male   83  No studies\n",
       "233                0    Male   81  No studies\n",
       "331                0  Female   85  No studies\n",
       "380                0  Female   81  No studies\n",
       "446                0    Male   90  No studies\n",
       "510                0  Female   82  No studies\n",
       "590                0  Female   86  No studies\n",
       "599                0  Female   84  No studies\n",
       "621                0  Female   81  No studies\n",
       "681                0  Female   81  No studies\n",
       "745                0  Female   87  No studies\n",
       "762                0    Male   86  No studies\n",
       "961                0  Female   90  No studies\n",
       "1058               0    Male   88  No studies\n",
       "1083               0  Female   87  No studies\n",
       "1710               0    Male   81  No studies\n",
       "2133               0  Female   81  No studies\n",
       "2143               0  Female   83  No studies\n",
       "2198               0  Female   82  No studies\n",
       "2211               0    Male   89  No studies\n",
       "2397               0    Male   82  No studies\n",
       "2405               0  Female   81  No studies\n",
       "2449               0    Male   92  No studies"
      ]
     },
     "execution_count": 41,
     "metadata": {},
     "output_type": "execute_result"
    }
   ],
   "source": [
    "df[mask1 & mask]"
   ]
  },
  {
   "cell_type": "code",
   "execution_count": 42,
   "id": "e5e6a9c5-6274-48dc-951b-dc4fa8137965",
   "metadata": {},
   "outputs": [
    {
     "data": {
      "text/html": [
       "<div>\n",
       "<style scoped>\n",
       "    .dataframe tbody tr th:only-of-type {\n",
       "        vertical-align: middle;\n",
       "    }\n",
       "\n",
       "    .dataframe tbody tr th {\n",
       "        vertical-align: top;\n",
       "    }\n",
       "\n",
       "    .dataframe thead th {\n",
       "        text-align: right;\n",
       "    }\n",
       "</style>\n",
       "<table border=\"1\" class=\"dataframe\">\n",
       "  <thead>\n",
       "    <tr style=\"text-align: right;\">\n",
       "      <th></th>\n",
       "      <th>internet_usage</th>\n",
       "      <th>sex</th>\n",
       "      <th>age</th>\n",
       "      <th>education</th>\n",
       "    </tr>\n",
       "  </thead>\n",
       "  <tbody>\n",
       "    <tr>\n",
       "      <th>14</th>\n",
       "      <td>0</td>\n",
       "      <td>Male</td>\n",
       "      <td>79</td>\n",
       "      <td>No studies</td>\n",
       "    </tr>\n",
       "    <tr>\n",
       "      <th>21</th>\n",
       "      <td>0</td>\n",
       "      <td>Female</td>\n",
       "      <td>84</td>\n",
       "      <td>Elementary</td>\n",
       "    </tr>\n",
       "    <tr>\n",
       "      <th>28</th>\n",
       "      <td>0</td>\n",
       "      <td>Male</td>\n",
       "      <td>70</td>\n",
       "      <td>No studies</td>\n",
       "    </tr>\n",
       "    <tr>\n",
       "      <th>33</th>\n",
       "      <td>0</td>\n",
       "      <td>Female</td>\n",
       "      <td>65</td>\n",
       "      <td>No studies</td>\n",
       "    </tr>\n",
       "    <tr>\n",
       "      <th>50</th>\n",
       "      <td>0</td>\n",
       "      <td>Female</td>\n",
       "      <td>90</td>\n",
       "      <td>Elementary</td>\n",
       "    </tr>\n",
       "    <tr>\n",
       "      <th>...</th>\n",
       "      <td>...</td>\n",
       "      <td>...</td>\n",
       "      <td>...</td>\n",
       "      <td>...</td>\n",
       "    </tr>\n",
       "    <tr>\n",
       "      <th>2405</th>\n",
       "      <td>0</td>\n",
       "      <td>Female</td>\n",
       "      <td>81</td>\n",
       "      <td>No studies</td>\n",
       "    </tr>\n",
       "    <tr>\n",
       "      <th>2412</th>\n",
       "      <td>0</td>\n",
       "      <td>Male</td>\n",
       "      <td>82</td>\n",
       "      <td>Elementary</td>\n",
       "    </tr>\n",
       "    <tr>\n",
       "      <th>2436</th>\n",
       "      <td>0</td>\n",
       "      <td>Male</td>\n",
       "      <td>82</td>\n",
       "      <td>Elementary</td>\n",
       "    </tr>\n",
       "    <tr>\n",
       "      <th>2448</th>\n",
       "      <td>0</td>\n",
       "      <td>Female</td>\n",
       "      <td>64</td>\n",
       "      <td>No studies</td>\n",
       "    </tr>\n",
       "    <tr>\n",
       "      <th>2449</th>\n",
       "      <td>0</td>\n",
       "      <td>Male</td>\n",
       "      <td>92</td>\n",
       "      <td>No studies</td>\n",
       "    </tr>\n",
       "  </tbody>\n",
       "</table>\n",
       "<p>223 rows × 4 columns</p>\n",
       "</div>"
      ],
      "text/plain": [
       "      internet_usage     sex  age   education\n",
       "14                 0    Male   79  No studies\n",
       "21                 0  Female   84  Elementary\n",
       "28                 0    Male   70  No studies\n",
       "33                 0  Female   65  No studies\n",
       "50                 0  Female   90  Elementary\n",
       "...              ...     ...  ...         ...\n",
       "2405               0  Female   81  No studies\n",
       "2412               0    Male   82  Elementary\n",
       "2436               0    Male   82  Elementary\n",
       "2448               0  Female   64  No studies\n",
       "2449               0    Male   92  No studies\n",
       "\n",
       "[223 rows x 4 columns]"
      ]
     },
     "execution_count": 42,
     "metadata": {},
     "output_type": "execute_result"
    }
   ],
   "source": [
    "df[mask1 | mask]"
   ]
  },
  {
   "cell_type": "code",
   "execution_count": 44,
   "id": "973791a9-7a06-4ccb-acf5-b664db898e77",
   "metadata": {},
   "outputs": [
    {
     "ename": "KeyError",
     "evalue": "2",
     "output_type": "error",
     "traceback": [
      "\u001b[1;31m---------------------------------------------------------------------------\u001b[0m",
      "\u001b[1;31mKeyError\u001b[0m                                  Traceback (most recent call last)",
      "\u001b[1;32m~\\anaconda3\\lib\\site-packages\\pandas\\core\\indexes\\base.py\u001b[0m in \u001b[0;36mget_loc\u001b[1;34m(self, key, method, tolerance)\u001b[0m\n\u001b[0;32m   3079\u001b[0m             \u001b[1;32mtry\u001b[0m\u001b[1;33m:\u001b[0m\u001b[1;33m\u001b[0m\u001b[1;33m\u001b[0m\u001b[0m\n\u001b[1;32m-> 3080\u001b[1;33m                 \u001b[1;32mreturn\u001b[0m \u001b[0mself\u001b[0m\u001b[1;33m.\u001b[0m\u001b[0m_engine\u001b[0m\u001b[1;33m.\u001b[0m\u001b[0mget_loc\u001b[0m\u001b[1;33m(\u001b[0m\u001b[0mcasted_key\u001b[0m\u001b[1;33m)\u001b[0m\u001b[1;33m\u001b[0m\u001b[1;33m\u001b[0m\u001b[0m\n\u001b[0m\u001b[0;32m   3081\u001b[0m             \u001b[1;32mexcept\u001b[0m \u001b[0mKeyError\u001b[0m \u001b[1;32mas\u001b[0m \u001b[0merr\u001b[0m\u001b[1;33m:\u001b[0m\u001b[1;33m\u001b[0m\u001b[1;33m\u001b[0m\u001b[0m\n",
      "\u001b[1;32mpandas\\_libs\\index.pyx\u001b[0m in \u001b[0;36mpandas._libs.index.IndexEngine.get_loc\u001b[1;34m()\u001b[0m\n",
      "\u001b[1;32mpandas\\_libs\\index.pyx\u001b[0m in \u001b[0;36mpandas._libs.index.IndexEngine.get_loc\u001b[1;34m()\u001b[0m\n",
      "\u001b[1;32mpandas\\_libs\\hashtable_class_helper.pxi\u001b[0m in \u001b[0;36mpandas._libs.hashtable.PyObjectHashTable.get_item\u001b[1;34m()\u001b[0m\n",
      "\u001b[1;32mpandas\\_libs\\hashtable_class_helper.pxi\u001b[0m in \u001b[0;36mpandas._libs.hashtable.PyObjectHashTable.get_item\u001b[1;34m()\u001b[0m\n",
      "\u001b[1;31mKeyError\u001b[0m: 2",
      "\nThe above exception was the direct cause of the following exception:\n",
      "\u001b[1;31mKeyError\u001b[0m                                  Traceback (most recent call last)",
      "\u001b[1;32m<ipython-input-44-b5f2749c85df>\u001b[0m in \u001b[0;36m<module>\u001b[1;34m\u001b[0m\n\u001b[1;32m----> 1\u001b[1;33m \u001b[0mdf\u001b[0m\u001b[1;33m[\u001b[0m\u001b[1;36m2\u001b[0m\u001b[1;33m]\u001b[0m\u001b[1;33m\u001b[0m\u001b[1;33m\u001b[0m\u001b[0m\n\u001b[0m",
      "\u001b[1;32m~\\anaconda3\\lib\\site-packages\\pandas\\core\\frame.py\u001b[0m in \u001b[0;36m__getitem__\u001b[1;34m(self, key)\u001b[0m\n\u001b[0;32m   3022\u001b[0m             \u001b[1;32mif\u001b[0m \u001b[0mself\u001b[0m\u001b[1;33m.\u001b[0m\u001b[0mcolumns\u001b[0m\u001b[1;33m.\u001b[0m\u001b[0mnlevels\u001b[0m \u001b[1;33m>\u001b[0m \u001b[1;36m1\u001b[0m\u001b[1;33m:\u001b[0m\u001b[1;33m\u001b[0m\u001b[1;33m\u001b[0m\u001b[0m\n\u001b[0;32m   3023\u001b[0m                 \u001b[1;32mreturn\u001b[0m \u001b[0mself\u001b[0m\u001b[1;33m.\u001b[0m\u001b[0m_getitem_multilevel\u001b[0m\u001b[1;33m(\u001b[0m\u001b[0mkey\u001b[0m\u001b[1;33m)\u001b[0m\u001b[1;33m\u001b[0m\u001b[1;33m\u001b[0m\u001b[0m\n\u001b[1;32m-> 3024\u001b[1;33m             \u001b[0mindexer\u001b[0m \u001b[1;33m=\u001b[0m \u001b[0mself\u001b[0m\u001b[1;33m.\u001b[0m\u001b[0mcolumns\u001b[0m\u001b[1;33m.\u001b[0m\u001b[0mget_loc\u001b[0m\u001b[1;33m(\u001b[0m\u001b[0mkey\u001b[0m\u001b[1;33m)\u001b[0m\u001b[1;33m\u001b[0m\u001b[1;33m\u001b[0m\u001b[0m\n\u001b[0m\u001b[0;32m   3025\u001b[0m             \u001b[1;32mif\u001b[0m \u001b[0mis_integer\u001b[0m\u001b[1;33m(\u001b[0m\u001b[0mindexer\u001b[0m\u001b[1;33m)\u001b[0m\u001b[1;33m:\u001b[0m\u001b[1;33m\u001b[0m\u001b[1;33m\u001b[0m\u001b[0m\n\u001b[0;32m   3026\u001b[0m                 \u001b[0mindexer\u001b[0m \u001b[1;33m=\u001b[0m \u001b[1;33m[\u001b[0m\u001b[0mindexer\u001b[0m\u001b[1;33m]\u001b[0m\u001b[1;33m\u001b[0m\u001b[1;33m\u001b[0m\u001b[0m\n",
      "\u001b[1;32m~\\anaconda3\\lib\\site-packages\\pandas\\core\\indexes\\base.py\u001b[0m in \u001b[0;36mget_loc\u001b[1;34m(self, key, method, tolerance)\u001b[0m\n\u001b[0;32m   3080\u001b[0m                 \u001b[1;32mreturn\u001b[0m \u001b[0mself\u001b[0m\u001b[1;33m.\u001b[0m\u001b[0m_engine\u001b[0m\u001b[1;33m.\u001b[0m\u001b[0mget_loc\u001b[0m\u001b[1;33m(\u001b[0m\u001b[0mcasted_key\u001b[0m\u001b[1;33m)\u001b[0m\u001b[1;33m\u001b[0m\u001b[1;33m\u001b[0m\u001b[0m\n\u001b[0;32m   3081\u001b[0m             \u001b[1;32mexcept\u001b[0m \u001b[0mKeyError\u001b[0m \u001b[1;32mas\u001b[0m \u001b[0merr\u001b[0m\u001b[1;33m:\u001b[0m\u001b[1;33m\u001b[0m\u001b[1;33m\u001b[0m\u001b[0m\n\u001b[1;32m-> 3082\u001b[1;33m                 \u001b[1;32mraise\u001b[0m \u001b[0mKeyError\u001b[0m\u001b[1;33m(\u001b[0m\u001b[0mkey\u001b[0m\u001b[1;33m)\u001b[0m \u001b[1;32mfrom\u001b[0m \u001b[0merr\u001b[0m\u001b[1;33m\u001b[0m\u001b[1;33m\u001b[0m\u001b[0m\n\u001b[0m\u001b[0;32m   3083\u001b[0m \u001b[1;33m\u001b[0m\u001b[0m\n\u001b[0;32m   3084\u001b[0m         \u001b[1;32mif\u001b[0m \u001b[0mtolerance\u001b[0m \u001b[1;32mis\u001b[0m \u001b[1;32mnot\u001b[0m \u001b[1;32mNone\u001b[0m\u001b[1;33m:\u001b[0m\u001b[1;33m\u001b[0m\u001b[1;33m\u001b[0m\u001b[0m\n",
      "\u001b[1;31mKeyError\u001b[0m: 2"
     ]
    }
   ],
   "source": [
    "df[2]"
   ]
  },
  {
   "cell_type": "code",
   "execution_count": 45,
   "id": "16452cac-32ea-46b6-8d44-d8ba3a57b4ae",
   "metadata": {},
   "outputs": [
    {
     "data": {
      "text/plain": [
       "0       66\n",
       "1       72\n",
       "2       48\n",
       "3       59\n",
       "4       44\n",
       "        ..\n",
       "2450    43\n",
       "2451    18\n",
       "2452    54\n",
       "2453    31\n",
       "2454    52\n",
       "Name: age, Length: 2455, dtype: int64"
      ]
     },
     "execution_count": 45,
     "metadata": {},
     "output_type": "execute_result"
    }
   ],
   "source": [
    "df['age']"
   ]
  },
  {
   "cell_type": "code",
   "execution_count": 46,
   "id": "c4dcd6ae-4b23-4ade-9334-4973c27109e6",
   "metadata": {},
   "outputs": [
    {
     "ename": "KeyError",
     "evalue": "2",
     "output_type": "error",
     "traceback": [
      "\u001b[1;31m---------------------------------------------------------------------------\u001b[0m",
      "\u001b[1;31mKeyError\u001b[0m                                  Traceback (most recent call last)",
      "\u001b[1;32m~\\anaconda3\\lib\\site-packages\\pandas\\core\\indexes\\base.py\u001b[0m in \u001b[0;36mget_loc\u001b[1;34m(self, key, method, tolerance)\u001b[0m\n\u001b[0;32m   3079\u001b[0m             \u001b[1;32mtry\u001b[0m\u001b[1;33m:\u001b[0m\u001b[1;33m\u001b[0m\u001b[1;33m\u001b[0m\u001b[0m\n\u001b[1;32m-> 3080\u001b[1;33m                 \u001b[1;32mreturn\u001b[0m \u001b[0mself\u001b[0m\u001b[1;33m.\u001b[0m\u001b[0m_engine\u001b[0m\u001b[1;33m.\u001b[0m\u001b[0mget_loc\u001b[0m\u001b[1;33m(\u001b[0m\u001b[0mcasted_key\u001b[0m\u001b[1;33m)\u001b[0m\u001b[1;33m\u001b[0m\u001b[1;33m\u001b[0m\u001b[0m\n\u001b[0m\u001b[0;32m   3081\u001b[0m             \u001b[1;32mexcept\u001b[0m \u001b[0mKeyError\u001b[0m \u001b[1;32mas\u001b[0m \u001b[0merr\u001b[0m\u001b[1;33m:\u001b[0m\u001b[1;33m\u001b[0m\u001b[1;33m\u001b[0m\u001b[0m\n",
      "\u001b[1;32mpandas\\_libs\\index.pyx\u001b[0m in \u001b[0;36mpandas._libs.index.IndexEngine.get_loc\u001b[1;34m()\u001b[0m\n",
      "\u001b[1;32mpandas\\_libs\\index.pyx\u001b[0m in \u001b[0;36mpandas._libs.index.IndexEngine.get_loc\u001b[1;34m()\u001b[0m\n",
      "\u001b[1;32mpandas\\_libs\\hashtable_class_helper.pxi\u001b[0m in \u001b[0;36mpandas._libs.hashtable.PyObjectHashTable.get_item\u001b[1;34m()\u001b[0m\n",
      "\u001b[1;32mpandas\\_libs\\hashtable_class_helper.pxi\u001b[0m in \u001b[0;36mpandas._libs.hashtable.PyObjectHashTable.get_item\u001b[1;34m()\u001b[0m\n",
      "\u001b[1;31mKeyError\u001b[0m: 2",
      "\nThe above exception was the direct cause of the following exception:\n",
      "\u001b[1;31mKeyError\u001b[0m                                  Traceback (most recent call last)",
      "\u001b[1;32m<ipython-input-46-b5f2749c85df>\u001b[0m in \u001b[0;36m<module>\u001b[1;34m\u001b[0m\n\u001b[1;32m----> 1\u001b[1;33m \u001b[0mdf\u001b[0m\u001b[1;33m[\u001b[0m\u001b[1;36m2\u001b[0m\u001b[1;33m]\u001b[0m\u001b[1;33m\u001b[0m\u001b[1;33m\u001b[0m\u001b[0m\n\u001b[0m",
      "\u001b[1;32m~\\anaconda3\\lib\\site-packages\\pandas\\core\\frame.py\u001b[0m in \u001b[0;36m__getitem__\u001b[1;34m(self, key)\u001b[0m\n\u001b[0;32m   3022\u001b[0m             \u001b[1;32mif\u001b[0m \u001b[0mself\u001b[0m\u001b[1;33m.\u001b[0m\u001b[0mcolumns\u001b[0m\u001b[1;33m.\u001b[0m\u001b[0mnlevels\u001b[0m \u001b[1;33m>\u001b[0m \u001b[1;36m1\u001b[0m\u001b[1;33m:\u001b[0m\u001b[1;33m\u001b[0m\u001b[1;33m\u001b[0m\u001b[0m\n\u001b[0;32m   3023\u001b[0m                 \u001b[1;32mreturn\u001b[0m \u001b[0mself\u001b[0m\u001b[1;33m.\u001b[0m\u001b[0m_getitem_multilevel\u001b[0m\u001b[1;33m(\u001b[0m\u001b[0mkey\u001b[0m\u001b[1;33m)\u001b[0m\u001b[1;33m\u001b[0m\u001b[1;33m\u001b[0m\u001b[0m\n\u001b[1;32m-> 3024\u001b[1;33m             \u001b[0mindexer\u001b[0m \u001b[1;33m=\u001b[0m \u001b[0mself\u001b[0m\u001b[1;33m.\u001b[0m\u001b[0mcolumns\u001b[0m\u001b[1;33m.\u001b[0m\u001b[0mget_loc\u001b[0m\u001b[1;33m(\u001b[0m\u001b[0mkey\u001b[0m\u001b[1;33m)\u001b[0m\u001b[1;33m\u001b[0m\u001b[1;33m\u001b[0m\u001b[0m\n\u001b[0m\u001b[0;32m   3025\u001b[0m             \u001b[1;32mif\u001b[0m \u001b[0mis_integer\u001b[0m\u001b[1;33m(\u001b[0m\u001b[0mindexer\u001b[0m\u001b[1;33m)\u001b[0m\u001b[1;33m:\u001b[0m\u001b[1;33m\u001b[0m\u001b[1;33m\u001b[0m\u001b[0m\n\u001b[0;32m   3026\u001b[0m                 \u001b[0mindexer\u001b[0m \u001b[1;33m=\u001b[0m \u001b[1;33m[\u001b[0m\u001b[0mindexer\u001b[0m\u001b[1;33m]\u001b[0m\u001b[1;33m\u001b[0m\u001b[1;33m\u001b[0m\u001b[0m\n",
      "\u001b[1;32m~\\anaconda3\\lib\\site-packages\\pandas\\core\\indexes\\base.py\u001b[0m in \u001b[0;36mget_loc\u001b[1;34m(self, key, method, tolerance)\u001b[0m\n\u001b[0;32m   3080\u001b[0m                 \u001b[1;32mreturn\u001b[0m \u001b[0mself\u001b[0m\u001b[1;33m.\u001b[0m\u001b[0m_engine\u001b[0m\u001b[1;33m.\u001b[0m\u001b[0mget_loc\u001b[0m\u001b[1;33m(\u001b[0m\u001b[0mcasted_key\u001b[0m\u001b[1;33m)\u001b[0m\u001b[1;33m\u001b[0m\u001b[1;33m\u001b[0m\u001b[0m\n\u001b[0;32m   3081\u001b[0m             \u001b[1;32mexcept\u001b[0m \u001b[0mKeyError\u001b[0m \u001b[1;32mas\u001b[0m \u001b[0merr\u001b[0m\u001b[1;33m:\u001b[0m\u001b[1;33m\u001b[0m\u001b[1;33m\u001b[0m\u001b[0m\n\u001b[1;32m-> 3082\u001b[1;33m                 \u001b[1;32mraise\u001b[0m \u001b[0mKeyError\u001b[0m\u001b[1;33m(\u001b[0m\u001b[0mkey\u001b[0m\u001b[1;33m)\u001b[0m \u001b[1;32mfrom\u001b[0m \u001b[0merr\u001b[0m\u001b[1;33m\u001b[0m\u001b[1;33m\u001b[0m\u001b[0m\n\u001b[0m\u001b[0;32m   3083\u001b[0m \u001b[1;33m\u001b[0m\u001b[0m\n\u001b[0;32m   3084\u001b[0m         \u001b[1;32mif\u001b[0m \u001b[0mtolerance\u001b[0m \u001b[1;32mis\u001b[0m \u001b[1;32mnot\u001b[0m \u001b[1;32mNone\u001b[0m\u001b[1;33m:\u001b[0m\u001b[1;33m\u001b[0m\u001b[1;33m\u001b[0m\u001b[0m\n",
      "\u001b[1;31mKeyError\u001b[0m: 2"
     ]
    }
   ],
   "source": [
    "df[2]"
   ]
  },
  {
   "cell_type": "code",
   "execution_count": 47,
   "id": "8eb70a8f-68ca-4223-80f6-7532fc475f4c",
   "metadata": {},
   "outputs": [
    {
     "data": {
      "text/plain": [
       "Index(['internet_usage', 'sex', 'age', 'education'], dtype='object')"
      ]
     },
     "execution_count": 47,
     "metadata": {},
     "output_type": "execute_result"
    }
   ],
   "source": [
    "df.keys()"
   ]
  },
  {
   "cell_type": "code",
   "execution_count": 48,
   "id": "13c4e3be-983e-49fd-8abd-6796c222a38c",
   "metadata": {},
   "outputs": [
    {
     "data": {
      "text/plain": [
       "0       66\n",
       "1       72\n",
       "2       48\n",
       "3       59\n",
       "4       44\n",
       "        ..\n",
       "2450    43\n",
       "2451    18\n",
       "2452    54\n",
       "2453    31\n",
       "2454    52\n",
       "Name: age, Length: 2455, dtype: int64"
      ]
     },
     "execution_count": 48,
     "metadata": {},
     "output_type": "execute_result"
    }
   ],
   "source": [
    "df['age']"
   ]
  },
  {
   "cell_type": "code",
   "execution_count": 49,
   "id": "90e9739c-e768-4d7e-ae40-1f18b296b227",
   "metadata": {},
   "outputs": [
    {
     "data": {
      "text/plain": [
       "0       66\n",
       "1       72\n",
       "2       48\n",
       "3       59\n",
       "4       44\n",
       "        ..\n",
       "2450    43\n",
       "2451    18\n",
       "2452    54\n",
       "2453    31\n",
       "2454    52\n",
       "Name: age, Length: 2455, dtype: int64"
      ]
     },
     "execution_count": 49,
     "metadata": {},
     "output_type": "execute_result"
    }
   ],
   "source": [
    "df.iloc[:, 2]"
   ]
  },
  {
   "cell_type": "code",
   "execution_count": null,
   "id": "4d9c1943-8cb8-4226-a047-a5c6513bfe08",
   "metadata": {},
   "outputs": [],
   "source": []
  }
 ],
 "metadata": {
  "authors": [
   {
    "name": "Jesús López @sotastica"
   }
  ],
  "interpreter": {
   "hash": "414fd6d7c0f0aefb3d4e2db41edbeb0df03134e10d94a689550561b640a17652"
  },
  "kernelspec": {
   "display_name": "Python 3",
   "language": "python",
   "name": "python3"
  },
  "language_info": {
   "codemirror_mode": {
    "name": "ipython",
    "version": 3
   },
   "file_extension": ".py",
   "mimetype": "text/x-python",
   "name": "python",
   "nbconvert_exporter": "python",
   "pygments_lexer": "ipython3",
   "version": "3.8.8"
  },
  "toc-autonumbering": true
 },
 "nbformat": 4,
 "nbformat_minor": 5
}
