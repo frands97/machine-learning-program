{
 "cells": [
  {
   "cell_type": "code",
   "execution_count": 10,
   "id": "0303bc5e-637a-4270-b38a-a54f9f9e80fb",
   "metadata": {},
   "outputs": [],
   "source": [
    "import os\n",
    "import re"
   ]
  },
  {
   "cell_type": "code",
   "execution_count": 11,
   "id": "f3d49fc3-6c89-49d6-85aa-db7f0bdfff4f",
   "metadata": {},
   "outputs": [],
   "source": [
    "files = os.listdir()"
   ]
  },
  {
   "cell_type": "markdown",
   "id": "ac23f77a-7974-46ec-af1f-765270c190e1",
   "metadata": {},
   "source": [
    "# Create Preparation Folder"
   ]
  },
  {
   "cell_type": "code",
   "execution_count": 22,
   "id": "82de84e5-6cf0-4966-8f87-c9f038ecfdaa",
   "metadata": {},
   "outputs": [
    {
     "name": "stdout",
     "output_type": "stream",
     "text": [
      "01session-solution.ipynb\n",
      "01practice-solution.ipynb\n"
     ]
    }
   ],
   "source": [
    "for i in files:\n",
    "    if '#' in i:\n",
    "        subfiles = os.listdir(os.path.join(i))\n",
    "        if 'preparation' not in subfiles:\n",
    "            os.mkdir(os.path.join(i, 'preparation'))\n",
    "            \n",
    "        preparation_folder = os.path.join(i,'preparation')\n",
    "        preparation_folder_files = os.listdir(preparation_folder)\n",
    "        \n",
    "        for j in ['session', 'practice']:\n",
    "            a = []\n",
    "            for k in preparation_folder_files:\n",
    "                if re.search(j, k):\n",
    "                    a.append(k)"
   ]
  },
  {
   "cell_type": "code",
   "execution_count": 1,
   "id": "694e3d57-99fd-488f-b895-f67cb7cda598",
   "metadata": {},
   "outputs": [
    {
     "ename": "NameError",
     "evalue": "name 'a' is not defined",
     "output_type": "error",
     "traceback": [
      "\u001B[1;31m---------------------------------------------------------------------------\u001B[0m",
      "\u001B[1;31mNameError\u001B[0m                                 Traceback (most recent call last)",
      "\u001B[1;32m<ipython-input-1-3f786850e387>\u001B[0m in \u001B[0;36m<module>\u001B[1;34m\u001B[0m\n\u001B[1;32m----> 1\u001B[1;33m \u001B[0ma\u001B[0m\u001B[1;33m\u001B[0m\u001B[1;33m\u001B[0m\u001B[0m\n\u001B[0m",
      "\u001B[1;31mNameError\u001B[0m: name 'a' is not defined"
     ]
    }
   ],
   "source": [
    "a"
   ]
  },
  {
   "cell_type": "code",
   "execution_count": 2,
   "id": "e5d476ee-a6d0-4240-8d59-bf292161b5e1",
   "metadata": {},
   "outputs": [
    {
     "ename": "NameError",
     "evalue": "name 'matched_file' is not defined",
     "output_type": "error",
     "traceback": [
      "\u001B[1;31m---------------------------------------------------------------------------\u001B[0m",
      "\u001B[1;31mNameError\u001B[0m                                 Traceback (most recent call last)",
      "\u001B[1;32m<ipython-input-2-a586a031c04e>\u001B[0m in \u001B[0;36m<module>\u001B[1;34m\u001B[0m\n\u001B[1;32m----> 1\u001B[1;33m \u001B[0mmatched_file\u001B[0m\u001B[1;33m\u001B[0m\u001B[1;33m\u001B[0m\u001B[0m\n\u001B[0m",
      "\u001B[1;31mNameError\u001B[0m: name 'matched_file' is not defined"
     ]
    }
   ],
   "source": [
    "matched_file"
   ]
  },
  {
   "cell_type": "markdown",
   "id": "7caf4d0b-09d3-4e42-8dbb-feb4fc31e20b",
   "metadata": {},
   "source": [
    "## Move Files to Preparation"
   ]
  },
  {
   "cell_type": "code",
   "execution_count": null,
   "id": "5812ada2-6c44-4159-a830-4181e9525d45",
   "metadata": {},
   "outputs": [],
   "source": []
  },
  {
   "cell_type": "code",
   "execution_count": null,
   "id": "60cb2b01-e47d-43d8-91fd-74c75ecd7145",
   "metadata": {},
   "outputs": [],
   "source": []
  },
  {
   "cell_type": "markdown",
   "id": "4b5f3065-f7d1-43b0-b785-b1816dfbfbb0",
   "metadata": {},
   "source": [
    "## Inserting banners"
   ]
  },
  {
   "cell_type": "code",
   "execution_count": 4,
   "id": "2edb488c-0dcd-4fa9-9911-d7189b870291",
   "metadata": {},
   "outputs": [],
   "source": [
    "banner = '''- Book + Lessons [here ↗](https://sotastica.com/reservar)\n",
    "- Subscribe to my [Blog ↗](https://blog.pythonassembly.com/)\n",
    "- **Keep in touch** with me on [LinkedIn ↗](https://www.linkedin.com/in/jsulopz)'''"
   ]
  },
  {
   "cell_type": "code",
   "execution_count": 6,
   "id": "192e5542-132c-4603-b8cd-ac6368a91b5a",
   "metadata": {},
   "outputs": [],
   "source": [
    "import os"
   ]
  },
  {
   "cell_type": "code",
   "execution_count": 13,
   "id": "5a747ced-eb7f-4840-b7a2-de4c8a7ecd61",
   "metadata": {},
   "outputs": [],
   "source": [
    "block_folders = os.listdir()"
   ]
  },
  {
   "cell_type": "code",
   "execution_count": 14,
   "id": "1e010f3e-d1a5-4b6d-b6e1-f321ca7577e5",
   "metadata": {},
   "outputs": [],
   "source": [
    "block_folders.sort()"
   ]
  },
  {
   "cell_type": "code",
   "execution_count": 23,
   "id": "a5058288-80b1-4940-a267-8195c16ad90e",
   "metadata": {},
   "outputs": [],
   "source": [
    "import re\n",
    "import pandas as pd"
   ]
  },
  {
   "cell_type": "code",
   "execution_count": 25,
   "id": "8caf6c10-5ae2-459b-ba79-137888a75e27",
   "metadata": {},
   "outputs": [],
   "source": [
    "df = pd.Series(block_folders)"
   ]
  },
  {
   "cell_type": "code",
   "execution_count": 40,
   "id": "a3b012d8-05fb-4677-af01-a12b04c0536f",
   "metadata": {},
   "outputs": [],
   "source": [
    "mask = df.str.match(r'^I')"
   ]
  },
  {
   "cell_type": "code",
   "execution_count": 46,
   "id": "36bccd15-5716-473c-b179-c1cba9ef6a7f",
   "metadata": {},
   "outputs": [],
   "source": [
    "df = df[mask].values"
   ]
  },
  {
   "cell_type": "code",
   "execution_count": 48,
   "id": "f1698510-65f8-431e-89e8-516ffffe0c38",
   "metadata": {},
   "outputs": [],
   "source": [
    "block = df[0]"
   ]
  },
  {
   "cell_type": "code",
   "execution_count": 54,
   "id": "4f7994e6-76e2-46dc-b1b3-878c3011ac04",
   "metadata": {},
   "outputs": [],
   "source": [
    "block_chapters = [i for i in os.listdir(block) if '#' in i]"
   ]
  },
  {
   "cell_type": "code",
   "execution_count": 59,
   "id": "5d7148f2-4377-49e1-9d6f-633b7b83f2b2",
   "metadata": {},
   "outputs": [],
   "source": [
    "chapter = block_chapters[0]"
   ]
  },
  {
   "cell_type": "code",
   "execution_count": 62,
   "id": "76636cc0-e336-4e59-b484-3c2df0de29a9",
   "metadata": {},
   "outputs": [],
   "source": [
    "chapter_files = pd.Series(os.listdir(os.path.join(block, chapter)))"
   ]
  },
  {
   "cell_type": "code",
   "execution_count": 69,
   "id": "435cfab3-fa3c-4f74-b483-54dc805f3458",
   "metadata": {},
   "outputs": [
    {
     "data": {
      "text/plain": [
       "0             .DS_Store\n",
       "1      02practice.ipynb\n",
       "2       02session.ipynb\n",
       "3    .ipynb_checkpoints\n",
       "4           preparation\n",
       "dtype: object"
      ]
     },
     "execution_count": 69,
     "metadata": {},
     "output_type": "execute_result"
    }
   ],
   "source": [
    "chapter_files"
   ]
  },
  {
   "cell_type": "code",
   "execution_count": 72,
   "id": "f7feeb62-95e0-4f8c-b159-073abab229e9",
   "metadata": {},
   "outputs": [],
   "source": [
    "mask_files = chapter_files.str.contains('practice|session')"
   ]
  },
  {
   "cell_type": "code",
   "execution_count": 74,
   "id": "4669492d-303c-4e13-beee-5353752b8985",
   "metadata": {},
   "outputs": [],
   "source": [
    "df = chapter_files[mask_files]"
   ]
  },
  {
   "cell_type": "code",
   "execution_count": 82,
   "id": "bcdd8b20-825f-40e7-89c8-5ea386909c06",
   "metadata": {},
   "outputs": [],
   "source": [
    "df_complete_path = block + '/' + chapter + '/' + df"
   ]
  },
  {
   "cell_type": "code",
   "execution_count": 85,
   "id": "ce46540f-37d1-46ae-8a28-d6f1dfcf11a8",
   "metadata": {},
   "outputs": [],
   "source": [
    "path_files = df_complete_path.values\n",
    "path_file = path_files[0]"
   ]
  },
  {
   "cell_type": "code",
   "execution_count": 86,
   "id": "e56c62dd-de6a-454c-85bc-8278f49adabc",
   "metadata": {},
   "outputs": [
    {
     "data": {
      "text/plain": [
       "'I Python Basics with Pandas/#02. Data Manipulation & Visualization to Enhance the Discipline/02practice.ipynb'"
      ]
     },
     "execution_count": 86,
     "metadata": {},
     "output_type": "execute_result"
    }
   ],
   "source": [
    "with open(path_file, 'rw') as f:\n",
    "    "
   ]
  },
  {
   "cell_type": "code",
   "execution_count": null,
   "id": "7a101c88-2bb9-4493-9201-68bd03302c9b",
   "metadata": {},
   "outputs": [],
   "source": []
  }
 ],
 "metadata": {
  "kernelspec": {
   "display_name": "Python 3",
   "language": "python",
   "name": "python3"
  },
  "language_info": {
   "codemirror_mode": {
    "name": "ipython",
    "version": 3
   },
   "file_extension": ".py",
   "mimetype": "text/x-python",
   "name": "python",
   "nbconvert_exporter": "python",
   "pygments_lexer": "ipython3",
   "version": "3.8.8"
  }
 },
 "nbformat": 4,
 "nbformat_minor": 5
}